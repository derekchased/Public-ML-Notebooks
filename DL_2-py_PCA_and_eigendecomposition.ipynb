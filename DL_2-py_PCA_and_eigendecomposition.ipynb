{
 "cells": [
  {
   "cell_type": "code",
   "execution_count": 1,
   "metadata": {},
   "outputs": [],
   "source": [
    "import numpy as np\n",
    "from sklearn.decomposition import PCA\n",
    "import matplotlib.pyplot as plt\n",
    "from scipy.linalg import qr\n",
    "from scipy.linalg import eigh"
   ]
  },
  {
   "cell_type": "markdown",
   "metadata": {},
   "source": [
    "# PCA and Eigendecomposition"
   ]
  },
  {
   "cell_type": "markdown",
   "metadata": {},
   "source": [
    "## Steps"
   ]
  },
  {
   "cell_type": "markdown",
   "metadata": {},
   "source": [
    "1. Generate bi-variate normal random numbers\n",
    "2. Perform PCA on the bi-variate normal random numbers\n",
    "3. Perform PCA step-by-step\n",
    "4. Perform eigendecomposition step-by-step"
   ]
  },
  {
   "cell_type": "markdown",
   "metadata": {},
   "source": [
    "## Generate bi-variate normal random numbers"
   ]
  },
  {
   "cell_type": "markdown",
   "metadata": {},
   "source": [
    "Generate random numbers from the same multivariate normal distribution. Define $\\mu$ and $\\mathit{Cov}$, and generate $100$ random numbers.\n",
    "\n",
    "Covariances of multivariate normal distributions, specified as a $d$-by-$d$ (here $d=2$) symmetric, positive semi-definite matrix $\\mathit{Cov}$, the covariance matrix. The covariance matrix is diagonal, containing variances along the diagonal and the covariance off it."
   ]
  },
  {
   "cell_type": "code",
   "execution_count": 2,
   "metadata": {},
   "outputs": [],
   "source": [
    "# format compact % For compact printing of results\n",
    "mu = np.array([2, 3])\n",
    "Cov = np.array([[2, 1.5], [1.5, 4]])\n",
    "\n",
    "#rng('default')  % For reproducibility\n",
    "random_generator = np.random.default_rng(40)\n",
    "\n",
    "#R = mvnrnd(mu,Cov,100);\n",
    "R = random_generator.multivariate_normal(mu, Cov, 100)"
   ]
  },
  {
   "cell_type": "markdown",
   "metadata": {},
   "source": [
    "Plot the random numbers."
   ]
  },
  {
   "cell_type": "code",
   "execution_count": 3,
   "metadata": {},
   "outputs": [
    {
     "data": {
      "image/png": "[encoded data removed]",
      "text/plain": [
       "<Figure size 432x288 with 1 Axes>"
      ]
     },
     "metadata": {
      "needs_background": "light"
     },
     "output_type": "display_data"
    }
   ],
   "source": [
    "#plot(R(:,1),R(:,2),'+');\n",
    "\n",
    "# style 1\n",
    "plt.plot(R[:,0], R[:,1], '+')\n",
    "plt.show()\n",
    "\n",
    "# style 2\n",
    "#plt.plot(R[:,0], R[:,1], '+')\n",
    "#plt.axis('equal')\n",
    "#plt.show()\n"
   ]
  },
  {
   "cell_type": "markdown",
   "metadata": {},
   "source": [
    "Check sample variance and covariance of the generated data points and the sample correlation between the variables."
   ]
  },
  {
   "cell_type": "code",
   "execution_count": 4,
   "metadata": {
    "scrolled": true
   },
   "outputs": [
    {
     "name": "stdout",
     "output_type": "stream",
     "text": [
      "Sample_cov\n",
      " [[1.85844506 0.93639797]\n",
      " [0.93639797 3.53424234]]\n",
      "Cor\n",
      " [[1.         0.36537383]\n",
      " [0.36537383 1.        ]]\n"
     ]
    }
   ],
   "source": [
    "Sample_cov = np.cov(R, rowvar=False)\n",
    "Cor = np.corrcoef(R, rowvar=False)\n",
    "print(\"Sample_cov\\n\",Sample_cov)\n",
    "print(\"Cor\\n\",Cor)"
   ]
  },
  {
   "cell_type": "markdown",
   "metadata": {},
   "source": [
    "Covariance and variance: \n",
    "$$\\mathit{Cov}(X,Y)=\\frac{1}{n}\\sum_{i=1}^n((x_i-\\mu_X)(y_i-\\mu_Y))$$\n",
    "$$\\mathit{Var}(X)=\\mathit{Cov}(X,X)=\\sigma_X^2$$ \n",
    "\n",
    "Pearson's coefficient of correlation $$\\mathit{Cor}(X, Y)=\\frac{\\mathit{Cov}(X, Y)}{\\sigma_X \\sigma_Y}=\\frac{\\mathit{Cov}(X, Y)}{\\sqrt{\\mathit{Var}(X)} \\sqrt{\\mathit{Var}(Y)}}$$ \n",
    "\n",
    "In our example $\\mathit{Cov}(X, Y)=2.1031$, $\\mathit{Var}(X)=1.3512$, and $\\mathit{Var}(Y)=4.0267$. As expected:"
   ]
  },
  {
   "cell_type": "code",
   "execution_count": 5,
   "metadata": {},
   "outputs": [
    {
     "name": "stdout",
     "output_type": "stream",
     "text": [
      "0.3653738276439561\n"
     ]
    }
   ],
   "source": [
    "# The r=correlation of two variables equals numerator=the \n",
    "# covariance of them dividided by the, denom= sqrt of the \n",
    "# variance of one times the sqrt of the variance of the other\n",
    "\n",
    "r = Sample_cov[0,1]/(np.sqrt(Sample_cov[0,0])*np.sqrt(Sample_cov[1,1]))\n",
    "print(r)\n",
    "# print(r==Cor[0,1])"
   ]
  },
  {
   "cell_type": "markdown",
   "metadata": {},
   "source": [
    "## Perform PCA on the bi-variate normal random numbers"
   ]
  },
  {
   "cell_type": "code",
   "execution_count": 6,
   "metadata": {
    "scrolled": true
   },
   "outputs": [
    {
     "name": "stdout",
     "output_type": "stream",
     "text": [
      "\n",
      "components (loading vector): [[ 0.40815113  0.91291437]\n",
      " [ 0.91291437 -0.40815113]] \n",
      "explained variance [3.95289266 1.43979474] \n",
      "explained_variance_ratio_ [0.73300979 0.26699021] \n",
      "\n"
     ]
    }
   ],
   "source": [
    "#[loading_vector,score,latent,tsquared,variablity_explained,mu] = pca(R); \n",
    "\n",
    "pcamodel = PCA(n_components=2)\n",
    "pca = pcamodel.fit_transform(R)\n",
    "print(\"\\ncomponents (loading vector):\",pcamodel.components_,\n",
    "      \"\\nexplained variance\", pcamodel.explained_variance_, \n",
    "      \"\\nexplained_variance_ratio_\",pcamodel.explained_variance_ratio_,\"\\n\")\n"
   ]
  },
  {
   "cell_type": "markdown",
   "metadata": {},
   "source": [
    "Check the correlation of the scores. As expected:"
   ]
  },
  {
   "cell_type": "code",
   "execution_count": 7,
   "metadata": {
    "scrolled": true
   },
   "outputs": [
    {
     "data": {
      "text/plain": [
       "array([[ 1.00000000e+00, -3.06988729e-16],\n",
       "       [-3.06988729e-16,  1.00000000e+00]])"
      ]
     },
     "execution_count": 7,
     "metadata": {},
     "output_type": "execute_result"
    }
   ],
   "source": [
    "np.corrcoef(pca, rowvar=False)"
   ]
  },
  {
   "cell_type": "markdown",
   "metadata": {},
   "source": [
    "The eigenvectors are unit vectors and orthogonal, therefore the $2$-Norm is $1$ and the inner (scalar, dot) product is 0."
   ]
  },
  {
   "cell_type": "code",
   "execution_count": 8,
   "metadata": {},
   "outputs": [
    {
     "name": "stdout",
     "output_type": "stream",
     "text": [
      "1.0\n",
      "1.0\n",
      "0.0\n"
     ]
    }
   ],
   "source": [
    "print(np.linalg.norm(pcamodel.components_[0,:]))\n",
    "print(np.linalg.norm(pcamodel.components_[1,:]))\n",
    "print(pcamodel.components_[0,:]@pcamodel.components_[1,:])"
   ]
  },
  {
   "cell_type": "markdown",
   "metadata": {},
   "source": [
    "Produce a biplot of the scores and loading vectors of the two principle components."
   ]
  },
  {
   "cell_type": "code",
   "execution_count": 9,
   "metadata": {},
   "outputs": [
    {
     "data": {
      "image/png": "[encoded data removed]",
      "text/plain": [
       "<Figure size 432x288 with 1 Axes>"
      ]
     },
     "metadata": {
      "needs_background": "light"
     },
     "output_type": "display_data"
    }
   ],
   "source": [
    "plt.scatter(pca[:, 0], pca[:, 1], c='r', alpha=0.5,)\n",
    "plt.arrow(0, 0, pcamodel.components_[0,0], pcamodel.components_[0,1], color='b', alpha=.5)\n",
    "plt.arrow(0, 0, pcamodel.components_[1,0], pcamodel.components_[1,1], color='b', alpha=.5)\n",
    "plt.xlabel('1st principal component')\n",
    "plt.ylabel('2nd principal component')\n",
    "plt.show()\n",
    "\n",
    "\n"
   ]
  },
  {
   "cell_type": "markdown",
   "metadata": {},
   "source": [
    "## Perform PCA step-by-step"
   ]
  },
  {
   "cell_type": "markdown",
   "metadata": {},
   "source": [
    "1. Center and Standardize, i.e., subtracting the mean of the data from the original dataset\n",
    "2. Find the covariance matrix of the dataset\n",
    "3. Find the eigenvectors associated with the greatest eigenvalues of the covariance matrix\n",
    "4. Project the original dataset on the eigenvectors"
   ]
  },
  {
   "cell_type": "markdown",
   "metadata": {},
   "source": [
    "### Standardize"
   ]
  },
  {
   "cell_type": "markdown",
   "metadata": {},
   "source": [
    "Compute standard scores (commonly called $z$-scores) defined as $z_i=\\frac{x_i-\\mu_X}{\\sigma_X}$."
   ]
  },
  {
   "cell_type": "code",
   "execution_count": 10,
   "metadata": {},
   "outputs": [],
   "source": [
    "# equivalent to below\n",
    "standardized_data = (R-np.mean(R,axis=0)) / np.std(R,axis=0,ddof=0) # must specify ddof here\n",
    "# print(\"\\ncov std,\",np.cov(data, rowvar=False)) # can also add as an attibute here, need to match!\n",
    "\n",
    "# standardized_data = (R-np.mean(R,axis=0)) / np.array( [np.sqrt(Sample_cov[0,0]), np.sqrt(Sample_cov[1,1])])\n",
    "# print(\"\\ncov sqrt,\",np.cov(data, rowvar=False, ddof=1)) # ddof=1 is the default so it can be omitted\n",
    "\n",
    "#from sklearn.preprocessing import StandardScaler\n",
    "#standardized_data = StandardScaler().fit_transform(R)\n",
    "#print(\"\\ncov using scaler,\", np.cov(standardized_data,rowvar=False,ddof=0))\n"
   ]
  },
  {
   "cell_type": "markdown",
   "metadata": {},
   "source": [
    "### Find the covariance matrix "
   ]
  },
  {
   "cell_type": "markdown",
   "metadata": {},
   "source": [
    "As before. Check out the effect of standardization on the covariance matrix."
   ]
  },
  {
   "cell_type": "code",
   "execution_count": 11,
   "metadata": {
    "scrolled": true
   },
   "outputs": [
    {
     "name": "stdout",
     "output_type": "stream",
     "text": [
      "[[1.         0.36537383]\n",
      " [0.36537383 1.        ]]\n"
     ]
    }
   ],
   "source": [
    "Cov = np.cov(standardized_data,rowvar=False, ddof=0)\n",
    "print(Cov)"
   ]
  },
  {
   "cell_type": "markdown",
   "metadata": {},
   "source": [
    "### Find the eigenvectors and eigenvalues "
   ]
  },
  {
   "cell_type": "markdown",
   "metadata": {},
   "source": [
    "Recall the definition of eigenvectors $v$ and -values $\\lambda$: $A v = \\lambda v$, where $A$ is an $n$-by-$n$ matrix, $v$ is a column vector of length $n$, and $\\lambda$ is a scalar."
   ]
  },
  {
   "cell_type": "code",
   "execution_count": 12,
   "metadata": {
    "scrolled": true
   },
   "outputs": [
    {
     "name": "stdout",
     "output_type": "stream",
     "text": [
      "vectors\n",
      " [[-0.70710678  0.70710678]\n",
      " [ 0.70710678  0.70710678]]\n",
      "values\n",
      " [0.63462617 1.36537383]\n"
     ]
    }
   ],
   "source": [
    "values, vectors = eigh(Cov)  # Note that since spicy v1.5.0, use 'subset_by_index' instead of 'eigvals'\n",
    "print(\"vectors\\n\",vectors)\n",
    "print(\"values\\n\",values)"
   ]
  },
  {
   "cell_type": "markdown",
   "metadata": {},
   "source": [
    "Mind that the second eigenvalue of $1.6253$ is larger than the first eigenvalue of $0.3747$."
   ]
  },
  {
   "cell_type": "markdown",
   "metadata": {},
   "source": [
    "Lets check if $\\mathit{Cov}\\ v=\\lambda v$ for the two eigenvectors and -values. As expected:"
   ]
  },
  {
   "cell_type": "code",
   "execution_count": 13,
   "metadata": {},
   "outputs": [
    {
     "name": "stdout",
     "output_type": "stream",
     "text": [
      "[ 5.55111512e-17 -5.55111512e-17]\n",
      "[1.11022302e-16 1.11022302e-16]\n"
     ]
    }
   ],
   "source": [
    "print( Cov@vectors[:,0] - values[0]*vectors[:,0])\n",
    "print( Cov@vectors[:,1] - values[1]*vectors[:,1])"
   ]
  },
  {
   "cell_type": "markdown",
   "metadata": {},
   "source": [
    "The eigenvectors returned are unit vectors and orthogonal, therefore the $2$-Norm is $1$ and the inner (scalar, dot) product is 0."
   ]
  },
  {
   "cell_type": "code",
   "execution_count": 14,
   "metadata": {},
   "outputs": [
    {
     "name": "stdout",
     "output_type": "stream",
     "text": [
      "1.0\n",
      "1.0\n",
      "0.0\n",
      "[[-0.70710678  0.70710678]\n",
      " [ 0.70710678  0.70710678]]\n"
     ]
    }
   ],
   "source": [
    "print(np.linalg.norm(vectors[:,0]))\n",
    "print(np.linalg.norm(vectors[:,1]))\n",
    "print( vectors[:,0]@vectors[:,1])\n",
    "print(vectors)"
   ]
  },
  {
   "cell_type": "markdown",
   "metadata": {},
   "source": [
    "### Project the original dataset on the eigenvectors"
   ]
  },
  {
   "cell_type": "markdown",
   "metadata": {},
   "source": [
    "Compute the scores of the data points corresponding to the two principle components. Since the second eigenvalue of $2.6326$ is larger than the first eigenvalue of $0.5448$, we need to flip the scores left/right since the second column is first principle component (the one with the largest eigenvalue).\n",
    "\n",
    "In `Matlab`, the operation `A'` computes the transpose $A^T$ of a matrix $A$."
   ]
  },
  {
   "cell_type": "code",
   "execution_count": 66,
   "metadata": {},
   "outputs": [],
   "source": [
    "score = vectors@ standardized_data.T;\n",
    "score = score.T;\n",
    "score = np.fliplr(score);\n",
    "vectors = np.fliplr(vectors);"
   ]
  },
  {
   "cell_type": "markdown",
   "metadata": {},
   "source": [
    "Check the correlation of the scores. As expected:"
   ]
  },
  {
   "cell_type": "code",
   "execution_count": 67,
   "metadata": {
    "scrolled": true
   },
   "outputs": [
    {
     "data": {
      "text/plain": [
       "array([[ 1.00000000e+00, -9.09819961e-17],\n",
       "       [-9.09819961e-17,  1.00000000e+00]])"
      ]
     },
     "execution_count": 67,
     "metadata": {},
     "output_type": "execute_result"
    }
   ],
   "source": [
    "np.corrcoef(score,rowvar=False)"
   ]
  },
  {
   "cell_type": "markdown",
   "metadata": {},
   "source": [
    "Produce a biplot of the scores and loading vectors of the two principle components."
   ]
  },
  {
   "cell_type": "code",
   "execution_count": 68,
   "metadata": {},
   "outputs": [
    {
     "data": {
      "image/png": "[encoded data removed]",
      "text/plain": [
       "<Figure size 432x288 with 1 Axes>"
      ]
     },
     "metadata": {
      "needs_background": "light"
     },
     "output_type": "display_data"
    }
   ],
   "source": [
    "# biplot(loading_vector,'scores',score,'varlabels',{'X','Y'});\n",
    "plt.scatter(score[:, 0], score[:, 1], c='r', alpha=0.5,)\n",
    "plt.arrow(0, 0, vectors[0,0], vectors[0,1], color='b', alpha=.5)\n",
    "plt.arrow(0, 0, vectors[1,0], vectors[1,1], color='b', alpha=.5)\n",
    "plt.xlabel('1st principal component')\n",
    "plt.ylabel('2nd principal component')\n",
    "plt.show()\n",
    "\n",
    "\n"
   ]
  },
  {
   "cell_type": "markdown",
   "metadata": {},
   "source": [
    "The eigenvalues of the covariance matrix indicate the variance in this (new) coordinate direction. We can use this information to calculate the relative variance explained by each component: for each component, we divide the variances according to the eigenvectors by the sum of the variances. In our example, the 1st and 2nd principal component contains $81.26$ and $16.53$ percent of the total variance in data."
   ]
  },
  {
   "cell_type": "code",
   "execution_count": 18,
   "metadata": {},
   "outputs": [
    {
     "name": "stdout",
     "output_type": "stream",
     "text": [
      "[1.36537383 0.63462617]\n",
      "[0.68268691 0.31731309]\n"
     ]
    }
   ],
   "source": [
    "variance = np.var(score,axis=0)\n",
    "print(variance)\n",
    "print(variance/np.sum(variance))"
   ]
  },
  {
   "cell_type": "markdown",
   "metadata": {},
   "source": [
    "*Why does this look differently compared to the plot when using the `pca` library? Fix the problem!*"
   ]
  },
  {
   "cell_type": "code",
   "execution_count": 19,
   "metadata": {},
   "outputs": [],
   "source": [
    "#[loading_vector,score,latent,tsquared,variablity_explained,mu] = pca(data); \n",
    "pca2 = PCA()\n",
    "data2 = pca2.fit_transform(standardized_data)\n",
    "#biplot(loading_vector,'scores',score,'varlabels',{'X','Y'});"
   ]
  },
  {
   "cell_type": "code",
   "execution_count": 20,
   "metadata": {},
   "outputs": [
    {
     "name": "stdout",
     "output_type": "stream",
     "text": [
      "[[ 0.40815113  0.91291437]\n",
      " [ 0.91291437 -0.40815113]]\n"
     ]
    }
   ],
   "source": [
    "print(pcamodel.components_)"
   ]
  },
  {
   "cell_type": "code",
   "execution_count": 21,
   "metadata": {},
   "outputs": [
    {
     "data": {
      "image/png": "[encoded data removed]",
      "text/plain": [
       "<Figure size 432x288 with 1 Axes>"
      ]
     },
     "metadata": {
      "needs_background": "light"
     },
     "output_type": "display_data"
    }
   ],
   "source": [
    "# biplot(loading_vector,'scores',score,'varlabels',{'X','Y'});\n",
    "plt.scatter(data2[:, 0], data2[:, 1], c='r', alpha=0.5,)\n",
    "plt.arrow(0, 0, pcamodel.components_[0,0], pcamodel.components_[1,0], color='b', alpha=.5)\n",
    "plt.arrow(0, 0, pcamodel.components_[0,1], pcamodel.components_[1,1], color='b', alpha=.5)\n",
    "plt.xlabel('1st principal component')\n",
    "plt.ylabel('2nd principal component')\n",
    "plt.show()\n",
    "\n",
    "\n"
   ]
  },
  {
   "cell_type": "markdown",
   "metadata": {},
   "source": [
    "## Perform eigendecomposition step-by-step"
   ]
  },
  {
   "cell_type": "markdown",
   "metadata": {},
   "source": [
    "### Eigenvalues"
   ]
  },
  {
   "cell_type": "markdown",
   "metadata": {},
   "source": [
    "We find the eigenvalues of an $n\\times n$ (covariance) matrix $C$ by solving the so-called characteristic equation\n",
    "$\\det(C – \\lambda I) = 0$ where $I$ is the identity matrix of size $n$."
   ]
  },
  {
   "cell_type": "markdown",
   "metadata": {},
   "source": [
    "Here $C=\\mathit{Cov}$ is a $2\\times 2$ matrix and the determinant of such a matrix is defiend as $\\det(C)=c_{11}c_{22}-c_{12}c_{21}$. Hence, we need to solve:\n",
    "\n",
    "\\begin{align}\n",
    "\\det(\\mathit{Cov} – \\lambda I) &=(\\mathit{Cov}_{11}-\\lambda)(\\mathit{Cov}_{22}-\\lambda)-\\mathit{Cov}_{12}\\mathit{Cov}_{21}\\\\\n",
    "    &=\\lambda^2 -(\\mathit{Cov}_{11}+\\mathit{Cov}_{22})\\lambda +\\mathit{Cov}_{11}\\mathit{Cov}_{22} -\\mathit{Cov}_{12}\\mathit{Cov}_{21}\\\\\n",
    "    &=0\n",
    "\\end{align}\n",
    "\n",
    "It's a quadriatic equation in $\\lambda$ with, in general, two solutions."
   ]
  },
  {
   "cell_type": "code",
   "execution_count": 22,
   "metadata": {},
   "outputs": [
    {
     "name": "stdout",
     "output_type": "stream",
     "text": [
      "[[1.         0.36537383]\n",
      " [0.36537383 1.        ]]\n",
      "[1.36537383 0.63462617]\n"
     ]
    }
   ],
   "source": [
    "print(Cov)\n",
    "a = 1;\n",
    "b = -Cov[0,0]-Cov[1,1];\n",
    "c = Cov[0,0]*Cov[1,1]-Cov[0,1]*Cov[1,0];\n",
    "\n",
    "polynomial = np.array([a, b, c]);\n",
    "eigenvalues = np.roots(polynomial)\n",
    "\n",
    "print(eigenvalues)\n"
   ]
  },
  {
   "cell_type": "markdown",
   "metadata": {},
   "source": [
    "Let's test the two solutions $\\lambda_1$ and $\\lambda_2$. As expected:"
   ]
  },
  {
   "cell_type": "code",
   "execution_count": 23,
   "metadata": {},
   "outputs": [
    {
     "name": "stdout",
     "output_type": "stream",
     "text": [
      "-2.4338786162744533e-16\n",
      "-8.112928720914864e-17\n",
      "[[1.36537383 0.        ]\n",
      " [0.         1.36537383]]\n",
      "[[0.63462617 0.        ]\n",
      " [0.         0.63462617]]\n"
     ]
    }
   ],
   "source": [
    "lambda1 = np.diag(np.array([eigenvalues[0], eigenvalues[0]]))\n",
    "Char1 = Cov - lambda1;\n",
    "print(np.linalg.det(Char1))\n",
    "lambda2 = np.diag(np.array([eigenvalues[1], eigenvalues[1]]));\n",
    "Char2 = Cov - lambda2;\n",
    "print(np.linalg.det(Char2))\n",
    "\n",
    "print(lambda1)\n",
    "print(lambda2)"
   ]
  },
  {
   "cell_type": "markdown",
   "metadata": {},
   "source": [
    "BTW, in `Matlab` we can write the shortcut using the characteristic polynomial `poly` of a matrix :"
   ]
  },
  {
   "cell_type": "code",
   "execution_count": 24,
   "metadata": {},
   "outputs": [
    {
     "name": "stdout",
     "output_type": "stream",
     "text": [
      "[1.36537383 0.63462617]\n"
     ]
    }
   ],
   "source": [
    "eigenvalues2 = np.roots(np.poly(Cov))\n",
    "print(eigenvalues2)"
   ]
  },
  {
   "cell_type": "markdown",
   "metadata": {},
   "source": [
    "### Eigenvectors"
   ]
  },
  {
   "cell_type": "markdown",
   "metadata": {},
   "source": [
    "All that's left is to find the two eigenvectors $v_1, v_2$. We understand that by definition:\n",
    "\n",
    "\\begin{align}\n",
    "Cv&=\\lambda v\\\\\n",
    "Cv-\\lambda v&=0\\\\\n",
    "Cv-\\lambda I v&=0\\\\\n",
    "(C-\\lambda I) v&=0\\\\\n",
    "\\end{align}\n",
    "\n",
    "This is nothing but solving a linear equation system."
   ]
  },
  {
   "cell_type": "markdown",
   "metadata": {},
   "source": [
    "Before, we compute the eigenvector $v_1$ associated with the eigenvalue $\\lambda_1=1.6253$, we first, check if a solution exits. Therfore, we comput the rank, the determinat, and the reduced row echelon form of the matrix $A_1=C – \\lambda_1 I$.\n",
    "\n",
    "In `Matlab` the function `rref` computes the [reduced row echelon form](https://en.wikipedia.org/wiki/Row_echelon_form) of a matrix resulting from a [Gaussian elimination](https://en.wikipedia.org/wiki/Gaussian_elimination)."
   ]
  },
  {
   "cell_type": "code",
   "execution_count": 69,
   "metadata": {},
   "outputs": [],
   "source": [
    "A1 = Cov - lambda1\n",
    "A1_rank = np.linalg.matrix_rank(A1)\n",
    "A1_det = np.linalg.det(A1)\n",
    "(_, rref) = qr(A1) # perform QR decomposition, R is RREF\n",
    "A1_red = rref\n"
   ]
  },
  {
   "cell_type": "markdown",
   "metadata": {},
   "source": [
    "As we see, we have a *general* problem: the matrix $A_1$ is not fully ranked, hence, the linear equation system is underdetermined, i.e. we have infinitly many solution. Consequently, its deteminat is 0 and $A_1$ is, hence, not invertible."
   ]
  },
  {
   "cell_type": "markdown",
   "metadata": {},
   "source": [
    "However, the length and the orientation of an eigenvector $v$ are arbitrary. So we can set the last entry to anything, say $v_1(2) =1$, compute $v_1(1)$, and then fix the length of $v$ to get a unit vector. \n",
    "\n",
    "Let $𝐴_1$ be in reduced row echelon form, i.e. $A_1(i,i)=1$, and $v_1(2) =1$. The linear equation reduces to\n",
    "\n",
    "\\begin{align}\n",
    "A_1(1,1)v_1(1) + A_1(1,2)v_1(2) & = 0\\\\\n",
    "1v_1(1) + A_1(1,2)1 & = 0\\\\\n",
    "v_1(1) + A_1(1,2) & = 0\\\\\n",
    "v_1(1) & = - A_1(1,2) \\\\\n",
    "\\end{align}\n",
    "\n",
    "To make it a unit length vector, we divide by the length ($2$-norm) of the vector."
   ]
  },
  {
   "cell_type": "code",
   "execution_count": 71,
   "metadata": {},
   "outputs": [
    {
     "name": "stdout",
     "output_type": "stream",
     "text": [
      "[0.45905508 0.88840781]\n"
     ]
    }
   ],
   "source": [
    "v1 = np.array([-A1_red[0,1],1])\n",
    "eigenvector1 = v1/np.linalg.norm(v1)\n",
    "print(eigenvector1)\n"
   ]
  },
  {
   "cell_type": "markdown",
   "metadata": {},
   "source": [
    "Finally, we are ready to compute the eigenvector $v_2$ associated with the eigenvalue $\\lambda_2=0.3747$ in the same way."
   ]
  },
  {
   "cell_type": "code",
   "execution_count": 72,
   "metadata": {},
   "outputs": [
    {
     "name": "stdout",
     "output_type": "stream",
     "text": [
      "[0.45905508 0.88840781]\n"
     ]
    }
   ],
   "source": [
    "A2 = Cov - lambda2\n",
    "(_, rref2) = qr(A2) # perform QR decomposition, R is RREF\n",
    "A2_red = rref2\n",
    "v2 = [-A2_red[0,1],1];\n",
    "eigenvector2 = v2/np.linalg.norm(v2)\n",
    "print(eigenvector2)"
   ]
  },
  {
   "cell_type": "markdown",
   "metadata": {},
   "source": [
    "## References"
   ]
  },
  {
   "cell_type": "markdown",
   "metadata": {},
   "source": [
    "1. http://mres.uni-potsdam.de/index.php/2017/09/14/principal-component-analysis-in-6-steps/\n",
    "2. https://www.youtube.com/watch?v=ssfMqFycXOU"
   ]
  }
 ],
 "metadata": {
  "kernelspec": {
   "display_name": "Python 3",
   "language": "python",
   "name": "python3"
  },
  "language_info": {
   "codemirror_mode": {
    "name": "ipython",
    "version": 3
   },
   "file_extension": ".py",
   "mimetype": "text/x-python",
   "name": "python",
   "nbconvert_exporter": "python",
   "pygments_lexer": "ipython3",
   "version": "3.7.9"
  }
 },
 "nbformat": 4,
 "nbformat_minor": 4
}
