{
 "cells": [
  {
   "cell_type": "markdown",
   "metadata": {},
   "source": [
    "# Variants of stochastic gradient-based optimization"
   ]
  },
  {
   "cell_type": "markdown",
   "metadata": {},
   "source": [
    "## Steps"
   ]
  },
  {
   "cell_type": "markdown",
   "metadata": {},
   "source": [
    "1. Setting the scene\n",
    "2. Stochastic Gradient Descent (SGD)\n",
    "3. SGD with adaptive learning rate\n",
    "4. SGD with momentum \n",
    "5. SGD with accumulated squared gradient: AdaGrad\n",
    "6. SGD with accumulated squared gradient: RMSProp\n",
    "7. SGD with accumulated squared gradient: ADAM\n",
    "8. SGD with Newton’s method\n",
    "9. SGD with the conjugate gradient method"
   ]
  },
  {
   "cell_type": "markdown",
   "metadata": {},
   "source": [
    "### Imports"
   ]
  },
  {
   "cell_type": "code",
   "execution_count": 1,
   "metadata": {},
   "outputs": [],
   "source": [
    "import numpy as np\n",
    "import matplotlib.pyplot as plt\n",
    "from matplotlib import cm\n",
    "from matplotlib.ticker import LinearLocator\n",
    "import matplotlib.lines as lines"
   ]
  },
  {
   "cell_type": "markdown",
   "metadata": {},
   "source": [
    "## Setting the scene"
   ]
  },
  {
   "cell_type": "markdown",
   "metadata": {},
   "source": [
    "During learning, we optimize the mean squared error $MSE$ of the models $m$ for the model parameters $\\mathbf w$: \n",
    "\n",
    "$$MSE(\\mathbf w,m,X,Y) =\\frac{1}{N}\\sum_{i=1}^{N}(y_i - m(\\mathbf w, \\mathbf  x_i))^2$$"
   ]
  },
  {
   "cell_type": "markdown",
   "metadata": {},
   "source": [
    "In other words, we find $\\arg\\min_{\\mathbf w} MSE(\\mathbf w, m, X, Y)$."
   ]
  },
  {
   "cell_type": "markdown",
   "metadata": {},
   "source": [
    "We will reuse some functions defined in the notebook \"Learn an XOR Neural Network using gradient-based optimization\" including:\n",
    "1. The mean squared error function `mse` (loss function).\n",
    "2. The gradient of the mean squared error function `grad_mse` (gradient of the loss function).\n",
    "3. The gradient descent function for the loss function `grad_desc_mse`.\n",
    "4. The 3D surcace and contour plot function `plot3D`."
   ]
  },
  {
   "cell_type": "code",
   "execution_count": 2,
   "metadata": {},
   "outputs": [],
   "source": [
    "def mse(ws, m, X, Y):\n",
    "    N = X.shape[0]\n",
    "    err = 0;\n",
    "    for i in range(N):\n",
    "        xi=X[i,:]\n",
    "        yi=m(ws,xi)\n",
    "        err = err + (Y[i]-yi)**2;\n",
    "    err = err/N;\n",
    "    return err\n",
    "\n",
    "def grad_mse(ws, m, grads, X, Y):\n",
    "    N = X.shape[0]\n",
    "    M = ws.shape[0]\n",
    "    grad_ws = np.zeros(M)\n",
    "    \n",
    "    for i in range(N):\n",
    "        xi = X[i,:]\n",
    "        yi = Y[i]\n",
    "        tmp = yi - m(ws,xi)\n",
    "        for j in range(M):\n",
    "            grad_ws[j] = grad_ws[j] + tmp * grads[j](ws,xi)\n",
    "    grad_ws = -2/N*grad_ws;\n",
    "    return grad_ws\n",
    "\n",
    "def grad_desc_mse(K, ws, learning_eps, loss, grad_loss, verbose=False, ax=None):\n",
    "    history = [ loss(ws) ]\n",
    "    for k in range(K):\n",
    "        grad_ws = grad_loss(ws)\n",
    "        old_ws = ws\n",
    "        ws = old_ws - learning_eps * grad_ws;\n",
    "        history.append(loss(ws))\n",
    "        if verbose:\n",
    "            plt.plot([old_ws[0],ws[0]],[old_ws[1],ws[1]], c=\"b\", linewidth=1)\n",
    "    return ws, history\n",
    "\n",
    "def plot3d(f, A, B, real3d=True):\n",
    "    Z = arrayfun(f,A,B)\n",
    "    if real3d:\n",
    "        fig, ax = plt.subplots(subplot_kw={\"projection\": \"3d\"})\n",
    "        surf = ax.plot_surface(A, B, Z, cmap=cm.coolwarm, linewidth=0, antialiased=False)\n",
    "    else:\n",
    "        cs = plt.contour(A,B,Z)\n",
    "        plt.clabel(cs, inline=True, fontsize=9)\n",
    "#     return Z, fig, ax\n",
    "    \n",
    "def arrayfun(f,A,B):\n",
    "    Z = np.zeros(A.shape)\n",
    "    for row in range(A.shape[0]):\n",
    "        for col in range(A.shape[1]):\n",
    "            Z[row,col] = f(A[row,col],B[row,col])\n",
    "    return Z\n",
    "\n",
    "def arrayfun3(f,A,B,C):\n",
    "    Z = np.zeros(A.shape)\n",
    "    for i in range(A.shape[0]):\n",
    "        Z[i] = f(A[i],B[i],C[i])\n",
    "    return Z\n",
    "\n",
    "def fullfact(levels):\n",
    "    \"\"\"\n",
    "    @Author: https://github.com/tisimst/pyDOE/blob/436143702507a5c8ff87b361223eee8171d6a1d7/pyDOE/doe_factorial.py\n",
    "    \"\"\"\n",
    "    n = len(levels)  # number of factors\n",
    "    nb_lines = np.prod(levels)  # number of trial conditions\n",
    "    H = np.zeros((nb_lines, n))\n",
    "    \n",
    "    level_repeat = 1\n",
    "    range_repeat = np.prod(levels)\n",
    "    for i in range(n):\n",
    "        range_repeat //= levels[i]\n",
    "        lvl = []\n",
    "        for j in range(levels[i]):\n",
    "            lvl += [j]*level_repeat\n",
    "        rng = lvl*range_repeat\n",
    "        level_repeat *= levels[i]\n",
    "        H[:, i] = rng\n",
    "     \n",
    "    return H"
   ]
  },
  {
   "cell_type": "markdown",
   "metadata": {},
   "source": [
    "First we generate sample data points. The generator function is $y=20x_1 -3x_2$. We sample data at integer points $x_{i,1}\\times x_{i,2} \\in [1\\ldots N]\\times [1\\ldots N], N=100$ and add a random error to $y_i$ that is normally distributed proportional to $\\mathcal{N}(0,10)$. \n",
    "\n",
    "Below we plot the function."
   ]
  },
  {
   "cell_type": "code",
   "execution_count": 3,
   "metadata": {},
   "outputs": [
    {
     "data": {
      "image/png": "[encoded data removed]",
      "text/plain": [
       "<Figure size 432x288 with 1 Axes>"
      ]
     },
     "metadata": {
      "needs_background": "light"
     },
     "output_type": "display_data"
    }
   ],
   "source": [
    "rng = np.random.default_rng(3)\n",
    "\n",
    "N=100 # N=1000;\n",
    "\n",
    "XX = np.fliplr(fullfact([N,N]));\n",
    "a10 = 20\n",
    "a20 = -3 \n",
    "X1 = XX[:,0]\n",
    "X2 = XX[:,1]\n",
    "\n",
    "f0 = lambda x1,x2: a10*x1 + a20*x2\n",
    "f = lambda x1,x2,r: a10*x1 + a20*x2 + r\n",
    "R = rng.normal(0, 1, (1,N*N)).T\n",
    "Y = arrayfun3(f,X1,X2,R)\n",
    "interval = np.arange(0,N,N/10)\n",
    "A,B = np.meshgrid(interval, interval)\n",
    "ff = lambda x1,x2: f(x1,x2,rng.normal(0, 10))\n",
    "plot3d(ff,A,B)"
   ]
  },
  {
   "cell_type": "markdown",
   "metadata": {},
   "source": [
    "The model that we use throughout this notebook is a simple linear Neural Network model. It consists of one neuron connected to the input $\\mathbf x$ and an identity, i.e., no effective, activation function. The neuron and the whole model $m_1$ implements $m_1(\\mathbf w, \\mathbf x) = \\mathbf w^T \\mathbf x$."
   ]
  },
  {
   "cell_type": "code",
   "execution_count": 4,
   "metadata": {
    "scrolled": true
   },
   "outputs": [],
   "source": [
    "m1 = lambda ws,x: ws[0]*x[0] + ws[1]*x[1]\n",
    "mse1 = lambda ws: mse(ws,m1,XX,Y)"
   ]
  },
  {
   "cell_type": "markdown",
   "metadata": {},
   "source": [
    "As the Tensorflow default, we implement the Glorot uniform initializer for setting the initial weights $\\mathbf w_0$.\n",
    "It draws samples from a uniform random distribution within $[-\\mathit{limit}, \\mathit{limit}]$,\n",
    "where $\\mathit{limit} = \\sqrt{\\frac{6}{\\mathit{in} + \\mathit{out}}}$, and\n",
    "where $\\mathit{in}$ and $\\mathit{out}$ is the number of input and output units, resp."
   ]
  },
  {
   "cell_type": "code",
   "execution_count": 5,
   "metadata": {},
   "outputs": [
    {
     "name": "stdout",
     "output_type": "stream",
     "text": [
      "[0.23791112 0.3523239 ]\n"
     ]
    }
   ],
   "source": [
    "_in = 2;\n",
    "out = 1;\n",
    "limit = np.sqrt(6 / (_in + out))\n",
    "ws0 = np.array([rng.uniform()*2*limit-limit, rng.uniform()*2*limit-limit])\n",
    "print(ws0)"
   ]
  },
  {
   "cell_type": "markdown",
   "metadata": {},
   "source": [
    "We assess the loss $MSE$ of $m_1$ for this initial weights setting."
   ]
  },
  {
   "cell_type": "code",
   "execution_count": 6,
   "metadata": {},
   "outputs": [
    {
     "data": {
      "text/plain": [
       "994568.9221731804"
      ]
     },
     "execution_count": 6,
     "metadata": {},
     "output_type": "execute_result"
    }
   ],
   "source": [
    "mse1(ws0)"
   ]
  },
  {
   "cell_type": "markdown",
   "metadata": {},
   "source": [
    "The gradient of $MSE(\\mathbf w)$ for any $\\mathbf w$ is defiend as:\n",
    "\n",
    "$$\n",
    "\\begin{aligned}\n",
    "\\nabla_{MSE}(\\mathbf w) &= \\left [ \n",
    "\\frac{\\partial MSE(\\mathbf w)}{\\partial w_1},\n",
    "\\frac{\\partial MSE(\\mathbf w)}{\\partial w_2}\n",
    "\\right ]^T\\\\\n",
    "&= \\frac{1}{N}\\left [ \n",
    "\\frac{\\partial \\sum_{i=1}^{N}(y_i - m_1(\\mathbf w,\\mathbf x_i)^2}{\\partial w_1}, \n",
    "\\frac{\\partial \\sum_{i=1}^{N}(y_i - m_1(\\mathbf w,\\mathbf x_i))^2}{\\partial w_2} \n",
    "\\right ]^T \\\\\n",
    "&= \\frac{1}{N} \\left [ \n",
    "\\sum_{i=1}^{N}2(y_i- m_1(\\mathbf w,\\mathbf x_i))\\frac{-\\partial m_1(\\mathbf w,\\mathbf x_i)}{\\partial w_1},\n",
    "\\sum_{i=1}^{N}2(y_i- m_1(\\mathbf w,\\mathbf x_i))\\frac{-\\partial m_1(\\mathbf w,\\mathbf x_i)}{\\partial w_2}\n",
    "\\right ]^T \\\\\n",
    "&= -\\frac{2}{N} \\left [ \n",
    "\\sum_{i=1}^{N}(y_i- m_1(\\mathbf w,\\mathbf x_i))\\frac{\\partial m_1(\\mathbf w,\\mathbf x_i)}{\\partial w_1},\n",
    "\\sum_{i=1}^{N}(y_i- m_1(\\mathbf w,\\mathbf x_i))\\frac{\\partial m_1(\\mathbf w,\\mathbf x_i)}{\\partial w_2}\n",
    "\\right ]^T \\\\\n",
    "\\end{aligned}\n",
    "$$"
   ]
  },
  {
   "cell_type": "markdown",
   "metadata": {},
   "source": [
    "We can plug in the function $m_1$ and the first derivative of $m_1$ wrt. $w_1$ and $w_2$ resp.\n",
    "\n",
    "$$\n",
    "\\begin{aligned}\n",
    "\\frac{\\partial m_1(\\mathbf w,\\mathbf x_i)}{\\partial w_1} &=\\frac{\\partial \\mathbf w^T\\mathbf x_{i}}{\\partial w_1} = \\frac{\\partial w_1 x_{i,1} + w_2 x_{i,2}}{\\partial w_1}  =x_{i,1}\\\\\n",
    "\\frac{\\partial m_1(\\mathbf w,\\mathbf x_i)}{\\partial w_2} &=\\frac{\\partial \\mathbf w^T\\mathbf x_{i}}{\\partial w_2} = \\frac{\\partial w_1 x_{i,1} + w_2 x_{i,2}}{\\partial w_2}  = x_{i,2}\\\\\n",
    "\\end{aligned}\n",
    "$$"
   ]
  },
  {
   "cell_type": "markdown",
   "metadata": {},
   "source": [
    "We have already defined the function $m_1$. Let's also define the functions of the first derivative of $m_1$ wrt. $w_1$ and $w_2$ resp. For the sake of generality, we keep $\\mathbf w$ as a formal parameter `ws` even though it is actually not needed for  derivatives of this concrete model $m_1$. "
   ]
  },
  {
   "cell_type": "code",
   "execution_count": 7,
   "metadata": {},
   "outputs": [],
   "source": [
    "gradients1 = [lambda ws,x: x[0], lambda ws,x: x[1]]"
   ]
  },
  {
   "cell_type": "markdown",
   "metadata": {},
   "source": [
    "The gradient $\\nabla_{MSE}(\\mathbf w)$ has been defined using $m_1$ and the first derivative of $m_1$ wrt. $w_1$ and $w_2$, resp., as parameters."
   ]
  },
  {
   "cell_type": "markdown",
   "metadata": {},
   "source": [
    "The gradient descent function optimizes $\\mathbf w$ by iterating over:\n",
    "\n",
    "$$\\mathbf w_{k+1}= \\mathbf w_k - \\varepsilon \\nabla_{MSE}(\\mathbf w_k)$$\n",
    "\n",
    "staring with $\\mathbf w_0$."
   ]
  },
  {
   "cell_type": "markdown",
   "metadata": {},
   "source": [
    "Below we apply the gradient descent function minimizing $MSE$ for the model $m_1$. We plot the $MSE$ for each step $k$ in the iteration as a function of the current parameter setting $\\mathbf w_k$. We also marked the starting point $\\mathbf w_0$ with a `+` and the (ideal) minimum $(20, -3)$ with a `*`."
   ]
  },
  {
   "cell_type": "code",
   "execution_count": 8,
   "metadata": {},
   "outputs": [
    {
     "ename": "NameError",
     "evalue": "name 'ax' is not defined",
     "output_type": "error",
     "traceback": [
      "\u001b[0;31m---------------------------------------------------------------------------\u001b[0m",
      "\u001b[0;31mNameError\u001b[0m                                 Traceback (most recent call last)",
      "\u001b[0;32m<ipython-input-8-bd65977412dc>\u001b[0m in \u001b[0;36m<module>\u001b[0;34m\u001b[0m\n\u001b[1;32m     11\u001b[0m \u001b[0mlearning_eps\u001b[0m \u001b[0;34m=\u001b[0m \u001b[0;36m0.00015\u001b[0m\u001b[0;34m;\u001b[0m\u001b[0;34m\u001b[0m\u001b[0;34m\u001b[0m\u001b[0m\n\u001b[1;32m     12\u001b[0m \u001b[0;34m\u001b[0m\u001b[0m\n\u001b[0;32m---> 13\u001b[0;31m \u001b[0mws\u001b[0m\u001b[0;34m,\u001b[0m \u001b[0mhistory\u001b[0m \u001b[0;34m=\u001b[0m \u001b[0mgrad_desc_mse\u001b[0m\u001b[0;34m(\u001b[0m\u001b[0mK\u001b[0m\u001b[0;34m,\u001b[0m \u001b[0mws0\u001b[0m\u001b[0;34m,\u001b[0m \u001b[0mlearning_eps\u001b[0m\u001b[0;34m,\u001b[0m \u001b[0mmse1\u001b[0m\u001b[0;34m,\u001b[0m \u001b[0mgrad_loss\u001b[0m\u001b[0;34m,\u001b[0m \u001b[0;32mTrue\u001b[0m\u001b[0;34m,\u001b[0m \u001b[0max\u001b[0m\u001b[0;34m)\u001b[0m\u001b[0;34m;\u001b[0m\u001b[0;34m\u001b[0m\u001b[0;34m\u001b[0m\u001b[0m\n\u001b[0m\u001b[1;32m     14\u001b[0m \u001b[0minterval\u001b[0m   \u001b[0;34m=\u001b[0m \u001b[0mnp\u001b[0m\u001b[0;34m.\u001b[0m\u001b[0marange\u001b[0m\u001b[0;34m(\u001b[0m \u001b[0mnp\u001b[0m\u001b[0;34m.\u001b[0m\u001b[0mminimum\u001b[0m\u001b[0;34m(\u001b[0m\u001b[0ma10\u001b[0m\u001b[0;34m,\u001b[0m\u001b[0mws0\u001b[0m\u001b[0;34m[\u001b[0m\u001b[0;36m0\u001b[0m\u001b[0;34m]\u001b[0m\u001b[0;34m)\u001b[0m\u001b[0;34m-\u001b[0m\u001b[0;36m10\u001b[0m\u001b[0;34m,\u001b[0m \u001b[0mnp\u001b[0m\u001b[0;34m.\u001b[0m\u001b[0mmaximum\u001b[0m\u001b[0;34m(\u001b[0m\u001b[0ma10\u001b[0m\u001b[0;34m,\u001b[0m\u001b[0mws0\u001b[0m\u001b[0;34m[\u001b[0m\u001b[0;36m0\u001b[0m\u001b[0;34m]\u001b[0m\u001b[0;34m)\u001b[0m\u001b[0;34m+\u001b[0m\u001b[0;36m10\u001b[0m\u001b[0;34m,\u001b[0m \u001b[0;36m1\u001b[0m \u001b[0;34m)\u001b[0m\u001b[0;34m\u001b[0m\u001b[0;34m\u001b[0m\u001b[0m\n\u001b[1;32m     15\u001b[0m \u001b[0minterval2\u001b[0m  \u001b[0;34m=\u001b[0m \u001b[0mnp\u001b[0m\u001b[0;34m.\u001b[0m\u001b[0marange\u001b[0m\u001b[0;34m(\u001b[0m \u001b[0mnp\u001b[0m\u001b[0;34m.\u001b[0m\u001b[0mminimum\u001b[0m\u001b[0;34m(\u001b[0m\u001b[0ma20\u001b[0m\u001b[0;34m,\u001b[0m\u001b[0mws0\u001b[0m\u001b[0;34m[\u001b[0m\u001b[0;36m1\u001b[0m\u001b[0;34m]\u001b[0m\u001b[0;34m)\u001b[0m\u001b[0;34m-\u001b[0m\u001b[0;36m10\u001b[0m\u001b[0;34m,\u001b[0m \u001b[0mnp\u001b[0m\u001b[0;34m.\u001b[0m\u001b[0mmaximum\u001b[0m\u001b[0;34m(\u001b[0m\u001b[0ma20\u001b[0m\u001b[0;34m,\u001b[0m\u001b[0mws0\u001b[0m\u001b[0;34m[\u001b[0m\u001b[0;36m1\u001b[0m\u001b[0;34m]\u001b[0m\u001b[0;34m)\u001b[0m\u001b[0;34m+\u001b[0m\u001b[0;36m10\u001b[0m\u001b[0;34m,\u001b[0m \u001b[0;36m1\u001b[0m \u001b[0;34m)\u001b[0m\u001b[0;34m\u001b[0m\u001b[0;34m\u001b[0m\u001b[0m\n",
      "\u001b[0;31mNameError\u001b[0m: name 'ax' is not defined"
     ]
    },
    {
     "data": {
      "image/png": "[encoded data removed]",
      "text/plain": [
       "<Figure size 432x288 with 1 Axes>"
      ]
     },
     "metadata": {
      "needs_background": "light"
     },
     "output_type": "display_data"
    }
   ],
   "source": [
    "# plot search space\n",
    "f = lambda a, b: mse1([a,b]) # convert to np array?\n",
    "\n",
    "# hold on\n",
    "plt.plot(a10,a20,'*r')\n",
    "plt.plot(ws0[0],ws0[1],'+r')\n",
    "\n",
    "# # gradient descent\n",
    "grad_loss = lambda ws: grad_mse(ws, m1, gradients1, XX, Y)\n",
    "K = 20; \n",
    "learning_eps = 0.00015; \n",
    "\n",
    "ws, history = grad_desc_mse(K, ws0, learning_eps, mse1, grad_loss, True, ax);\n",
    "interval   = np.arange( np.minimum(a10,ws0[0])-10, np.maximum(a10,ws0[0])+10, 1 )\n",
    "interval2  = np.arange( np.minimum(a20,ws0[1])-10, np.maximum(a20,ws0[1])+10, 1 )\n",
    "A,B = np.meshgrid(interval, interval2)\n",
    "plot3d(f, A, B, False) #3D contour\n",
    "\n",
    "plt.show()"
   ]
  },
  {
   "cell_type": "markdown",
   "metadata": {},
   "source": [
    "The history plot shows the convergence of the algorithm. After ca. $k=15$ iterations, the loss $MSE$ is almost zero. "
   ]
  },
  {
   "cell_type": "code",
   "execution_count": null,
   "metadata": {},
   "outputs": [],
   "source": [
    "plt.plot(range(len(history)),history)\n",
    "plt.show()"
   ]
  },
  {
   "cell_type": "markdown",
   "metadata": {},
   "source": [
    "## Stochastic Gradient Descent (SGD)"
   ]
  },
  {
   "cell_type": "markdown",
   "metadata": {},
   "source": [
    "SGD works like the gradient descent but computes the gradient based on a mini batch of size $m \\ll N$. Therefore, our SGD implementation `stochastic_grad_desc_mse` generates in each iteration an array `randices`, i.e., random indices  making up the current mini batch sample of the whole data set. We resample this array in each iteration of the SGD algorithm."
   ]
  },
  {
   "cell_type": "markdown",
   "metadata": {},
   "source": [
    "We also define a corresponding `grad_mse2` function that computes the gradient only based on the mini batch data points. "
   ]
  },
  {
   "cell_type": "code",
   "execution_count": null,
   "metadata": {},
   "outputs": [],
   "source": [
    "%%file stochastic_grad_desc_mse.m\n",
    "function [ws, history] = stochastic_grad_desc_mse(K, ws, learning_eps, loss, grad_loss, N, verbose)\n",
    "    batch_size = N*0.01;\n",
    "    history(1) = loss(ws);\n",
    "    for k = 1:K\n",
    "        randices = randsample(1:N,batch_size,false);\n",
    "        grad_ws = grad_loss(ws, randices);\n",
    "        old_ws = ws;\n",
    "        ws= old_ws - learning_eps * grad_ws;\n",
    "        if verbose\n",
    "            line([old_ws(1),ws(1)],[old_ws(2),ws(2)]);\n",
    "        end\n",
    "        history(k+1) = loss(ws);\n",
    "    end\n",
    "end"
   ]
  },
  {
   "cell_type": "code",
   "execution_count": null,
   "metadata": {},
   "outputs": [],
   "source": [
    "%% plot search space\n",
    "plot3d(f, A, B, false) %3D contour\n",
    "hold on\n",
    "plot(a10,a20,'*r')\n",
    "plot(ws0(1),ws0(2),'+r')\n",
    "\n",
    "%% stochastic gradient descent\n",
    "grad_loss2 = @(ws, randices)(grad_mse(ws, m1, gradients1, XX(randices,:),Y(randices)));\n",
    "tic;\n",
    "[ws, history] = stochastic_grad_desc_mse(K, ws0, learning_eps, mse1, grad_loss2, N*N, true);\n",
    "toc"
   ]
  },
  {
   "cell_type": "code",
   "execution_count": null,
   "metadata": {},
   "outputs": [],
   "source": [
    "plot(1:length(history),history)"
   ]
  },
  {
   "cell_type": "markdown",
   "metadata": {},
   "source": [
    "## SGD with adaptive learning rate"
   ]
  },
  {
   "cell_type": "markdown",
   "metadata": {},
   "source": [
    "The learning rate $\\varepsilon$ is adapted in each iteration, e.g., exponentially by $\\varepsilon_{k+1} = (1-\\alpha)\\varepsilon_{k}$ with $\\alpha$ a new hyper-parameter. "
   ]
  },
  {
   "cell_type": "code",
   "execution_count": null,
   "metadata": {},
   "outputs": [],
   "source": [
    "%%file stochastic_adaptive_grad_desc_mse.m\n",
    "function [ws, history] = stochastic_adaptive_grad_desc_mse(K, ws, learning_eps, loss, grad_loss, N, alpha, verbose)\n",
    "    batch_size = N*0.01;\n",
    "    history(1) = loss(ws);\n",
    "    for k = 1:K\n",
    "        randices = randsample(1:N,batch_size,false);\n",
    "        grad_ws = grad_loss(ws, randices);\n",
    "        old_ws = ws;\n",
    "        ws= old_ws - learning_eps * grad_ws;\n",
    "        learning_eps = (1-alpha) * learning_eps;\n",
    "        if verbose\n",
    "            line([old_ws(1),ws(1)],[old_ws(2),ws(2)]);\n",
    "        end\n",
    "        history(k+1) = loss(ws);\n",
    "    end\n",
    "end"
   ]
  },
  {
   "cell_type": "code",
   "execution_count": null,
   "metadata": {},
   "outputs": [],
   "source": [
    "%% plot search space\n",
    "plot3d(f, A, B, false) %3D contour\n",
    "hold on\n",
    "plot(a10,a20,'*r')\n",
    "plot(ws0(1),ws0(2),'+r')\n",
    "\n",
    "%% stochastic adaptive gradient descent\n",
    "alpha = 0.03;\n",
    "tic;\n",
    "[ws, history] = stochastic_adaptive_grad_desc_mse(K, ws0, learning_eps, mse1, grad_loss2, N*N, alpha, true);\n",
    "toc"
   ]
  },
  {
   "cell_type": "code",
   "execution_count": null,
   "metadata": {},
   "outputs": [],
   "source": [
    "plot(1:length(history),history)"
   ]
  },
  {
   "cell_type": "markdown",
   "metadata": {},
   "source": [
    "## SGD with momentum "
   ]
  },
  {
   "cell_type": "markdown",
   "metadata": {},
   "source": [
    "The gradient can be understood as a velocity at which we move towards the optimum. In this analogy, momentum $p$ is introduced as the velocity $v$ (gradient) times mass $m$, a new hyper-parameter of the algorithm. The velocity is set to the exponentially decaying moving average of past gradients. The initial velocity $v_0$ is the initial gradient. "
   ]
  },
  {
   "cell_type": "markdown",
   "metadata": {},
   "source": [
    "**OBS!** The velocity (earlier gradient vectors) and the current gradient vector point \"uphill\", i.e, into the inverse direction of the expected minimum. They should, hence, be **both** subtracted from the current parameters. "
   ]
  },
  {
   "cell_type": "code",
   "execution_count": null,
   "metadata": {},
   "outputs": [],
   "source": [
    "%%file stochastic_momentum_grad_desc_mse.m\n",
    "function [ws, history] = stochastic_momentum_grad_desc_mse(K, ws, learning_eps, loss, grad_loss, N, mass, verbose)\n",
    "    batch_size = N*0.01;\n",
    "    history(1) = loss(ws);\n",
    "    v = 0;\n",
    "    for k = 1:K\n",
    "        randices = randsample(1:N,batch_size,false);\n",
    "        grad_ws = grad_loss(ws, randices);\n",
    "        v = (v+grad_ws)/2;\n",
    "        old_ws = ws;\n",
    "        ws= old_ws - mass * v - learning_eps * grad_ws;\n",
    "        if verbose\n",
    "            line([old_ws(1),ws(1)],[old_ws(2),ws(2)]);\n",
    "        end\n",
    "        history(k+1) = loss(ws);\n",
    "    end\n",
    "end"
   ]
  },
  {
   "cell_type": "code",
   "execution_count": null,
   "metadata": {},
   "outputs": [],
   "source": [
    "%% plot search space\n",
    "plot3d(f, A, B, false) %3D contour\n",
    "hold on\n",
    "plot(a10,a20,'*r')\n",
    "plot(ws0(1),ws0(2),'+r')\n",
    "\n",
    "%% stochastic momentum gradient descent\n",
    "mass = 1/2 * 0.00015;\n",
    "learning_eps = 1/2 * 0.00015;\n",
    "tic;\n",
    "[ws, history] = stochastic_momentum_grad_desc_mse(K, ws0, learning_eps, mse1, grad_loss2, N*N, mass, true);\n",
    "toc"
   ]
  },
  {
   "cell_type": "code",
   "execution_count": null,
   "metadata": {},
   "outputs": [],
   "source": [
    "plot(1:length(history),history)"
   ]
  },
  {
   "cell_type": "markdown",
   "metadata": {},
   "source": [
    "## SGD with accumulated squared gradient: AdaGrad"
   ]
  },
  {
   "cell_type": "markdown",
   "metadata": {},
   "source": [
    "With AdaGrad, each parameter has its own learning rate.\n",
    "This learning rate is always decreasing, but faster for the parameters with the larger gradients. The derease is quite fast, so we have to adapt the constant component $\\varepsilon$ of the learning rate."
   ]
  },
  {
   "cell_type": "code",
   "execution_count": null,
   "metadata": {},
   "outputs": [],
   "source": [
    "%%file ada_grad_mse.m\n",
    "function [ws, history] = ada_grad_mse(K, ws, learning_eps, loss, grad_loss, N, verbose)\n",
    "    batch_size = N*0.01;\n",
    "    history(1) = loss(ws);\n",
    "    r = zeros(length(ws),1);\n",
    "    delta = 1e-10*ones(length(ws),1);\n",
    "    for k = 1:K\n",
    "        randices = randsample(1:N,batch_size,false);\n",
    "        grad_ws = grad_loss(ws, randices);\n",
    "        old_ws = ws;\n",
    "        r = r + grad_ws .* grad_ws; \n",
    "        ws= old_ws - learning_eps/(delta+sqrt(r)) .* grad_ws;\n",
    "        if verbose\n",
    "            line([old_ws(1),ws(1)],[old_ws(2),ws(2)]);\n",
    "        end\n",
    "        history(k+1) = loss(ws);\n",
    "    end\n",
    "end"
   ]
  },
  {
   "cell_type": "code",
   "execution_count": null,
   "metadata": {},
   "outputs": [],
   "source": [
    "%% plot search space\n",
    "plot3d(f, A, B, false) %3D contour\n",
    "hold on\n",
    "plot(a10,a20,'*r')\n",
    "plot(ws0(1),ws0(2),'+r')\n",
    "\n",
    "%% AdaGrad\n",
    "learning_eps = 15;\n",
    "tic;\n",
    "[ws, history] = ada_grad_mse(K, ws0, learning_eps, mse1, grad_loss2, N*N, true);\n",
    "toc"
   ]
  },
  {
   "cell_type": "code",
   "execution_count": null,
   "metadata": {},
   "outputs": [],
   "source": [
    "plot(1:length(history),history)"
   ]
  },
  {
   "cell_type": "markdown",
   "metadata": {},
   "source": [
    "## SGD with accumulated squared gradient: RMSProp"
   ]
  },
  {
   "cell_type": "markdown",
   "metadata": {},
   "source": [
    "RMSProp adds a hyper-parameter $\\rho \\in [0\\ldots 1]$ to AdaGrad. It biases between the accumulated squared gradients $r$, i.e., the historic (squared) velocity, and the current squared gradient before deviding the learning rate by $\\sqrt{r}$."
   ]
  },
  {
   "cell_type": "code",
   "execution_count": null,
   "metadata": {},
   "outputs": [],
   "source": [
    "%%file rms_prob_mse.m\n",
    "function [ws, history] = rms_prob_mse(K, ws, learning_eps, loss, grad_loss, N, rho, verbose)\n",
    "    batch_size = N*0.01;\n",
    "    history(1) = loss(ws);\n",
    "    r = zeros(length(ws),1);\n",
    "    delta = 1e-10*ones(length(ws),1);\n",
    "    for k = 1:K\n",
    "        randices = randsample(1:N,batch_size,false);\n",
    "        grad_ws = grad_loss(ws, randices);\n",
    "        old_ws = ws;\n",
    "        r = rho*r + (1-rho) * grad_ws .* grad_ws; \n",
    "        ws= old_ws - learning_eps/(delta+sqrt(r)) .* grad_ws;\n",
    "        if verbose\n",
    "            line([old_ws(1),ws(1)],[old_ws(2),ws(2)]);\n",
    "        end\n",
    "        history(k+1) = loss(ws);\n",
    "    end\n",
    "end"
   ]
  },
  {
   "cell_type": "markdown",
   "metadata": {},
   "source": [
    "For RMSProb, it was hard to find good hyper-parameters just by trying out a few. Here the loss for different hyper-parameter settings of $\\rho \\in [0\\ldots 1]$ and $\\varepsilon \\in [1\\ldots 20]$. We finally chose the setting with the minimum loss after 20 iterations: $\\varepsilon = 1, \\rho=0.98$. Note, that we needed to increase the number of iterations to arrive at a the ideal parameters. So, for this simplistic setup, RMSProb did not speed up convergence."
   ]
  },
  {
   "cell_type": "markdown",
   "metadata": {},
   "source": [
    "![title](img/rms_prob_hyperparameters.png)"
   ]
  },
  {
   "cell_type": "code",
   "execution_count": null,
   "metadata": {},
   "outputs": [],
   "source": [
    "%% plot search space\n",
    "plot3d(f, A, B, false) %3D contour\n",
    "hold on\n",
    "plot(a10,a20,'*r')\n",
    "plot(ws0(1),ws0(2),'+r')\n",
    "\n",
    "%% RMSProb; \n",
    "learning_eps = 1;\n",
    "rho = 0.98;\n",
    "K = 40; %!\n",
    "tic;\n",
    "[ws, history] = rms_prob_mse(K, ws0, learning_eps, mse1, grad_loss2, N*N, rho, true);\n",
    "toc"
   ]
  },
  {
   "cell_type": "code",
   "execution_count": null,
   "metadata": {},
   "outputs": [],
   "source": [
    "plot(1:20,history(1:20))"
   ]
  },
  {
   "cell_type": "markdown",
   "metadata": {},
   "source": [
    "## SGD with accumulated squared gradient: ADAM"
   ]
  },
  {
   "cell_type": "markdown",
   "metadata": {},
   "source": [
    "ADAM seems to be the current choice of many. However, it hasn't been trivial to choose the learning rate and the two hyper-parameters $\\rho_1, \\rho_2$. We even needed to increase the number of iterations to arrive at a the ideal parameters. So, for this simplistic setup, ADAM did not speed up convergence."
   ]
  },
  {
   "cell_type": "code",
   "execution_count": null,
   "metadata": {},
   "outputs": [],
   "source": [
    "%%file adam_mse.m\n",
    "function [ws, history] = adam_mse(K, ws, learning_eps, loss, grad_loss, N, rho1, rho2, verbose)\n",
    "    batch_size = N*0.01;\n",
    "    history(1) = loss(ws);\n",
    "    s = zeros(length(ws),1);\n",
    "    r = zeros(length(ws),1);\n",
    "    t = 0;\n",
    "    delta = 1e-10*ones(length(ws),1);\n",
    "    for k = 1:K\n",
    "        randices = randsample(1:N,batch_size,false);\n",
    "        grad_ws = grad_loss(ws, randices);\n",
    "        old_ws = ws;\n",
    "        t = t +1;\n",
    "        s = rho1*s + (1-rho1) * grad_ws; \n",
    "        r = rho2*r + (1-rho2) * grad_ws .* grad_ws; \n",
    "        s_hat = s/(1-rho1^t);\n",
    "        r_hat = r/(1-rho2^t);\n",
    "        ws= old_ws - (learning_eps*s_hat)/(delta+sqrt(r));\n",
    "        if verbose\n",
    "            line([old_ws(1),ws(1)],[old_ws(2),ws(2)]);\n",
    "        end\n",
    "        history(k+1) = loss(ws);\n",
    "    end\n",
    "end"
   ]
  },
  {
   "cell_type": "code",
   "execution_count": null,
   "metadata": {},
   "outputs": [],
   "source": [
    "%% plot search space\n",
    "plot3d(f, A, B, false) %3D contour\n",
    "hold on\n",
    "plot(a10,a20,'*r')\n",
    "plot(ws0(1),ws0(2),'+r')\n",
    "\n",
    "%% ADAM; \n",
    "learning_eps = 0.1; \n",
    "rho1 = 0.9;\n",
    "rho2 = 0.999;\n",
    "K=400; %!!\n",
    "tic;\n",
    "[ws, history] = adam_mse(K, ws0, learning_eps, mse1, grad_loss2, N*N, rho1, rho2, true);\n",
    "toc"
   ]
  },
  {
   "cell_type": "code",
   "execution_count": null,
   "metadata": {},
   "outputs": [],
   "source": [
    "plot(1:20,history(1:20))"
   ]
  },
  {
   "cell_type": "markdown",
   "metadata": {},
   "source": [
    "## SGD with Newton’s method "
   ]
  },
  {
   "cell_type": "markdown",
   "metadata": {},
   "source": [
    "It is obviously difficult to set the learning rate (and the other parameters) right. To help this, Newton's method (and other second order methods) involve the second order derivatives, e.g., the Hessian matrix $H_{MSE}$. Then they iterate:\n",
    "\n",
    "$$\n",
    "\\mathbf w_{k+1} = \\mathbf w_k - H_{MSE}(\\mathbf w_k)^{-1} \\nabla_{MSE}(\\mathbf w_k) \n",
    "$$\n",
    "\n",
    "where $H_{MSE}$ is the Hessian matrix of $MSE$. \n",
    "\n",
    "$H_{MSE}$ is defined as:\n",
    "$$\n",
    "\\begin{aligned}\n",
    "H_{MSE}(\\mathbf w) &= \n",
    "\\begin{bmatrix}\n",
    "\\frac{\\partial^2 MSE(\\mathbf w)}{\\partial w_1^2} & \\frac{\\partial^2 MSE(\\mathbf w)}{\\partial w_1 \\partial w_2} \\\\\n",
    "\\frac{\\partial^2 MSE(\\mathbf w)}{\\partial w_2 \\partial w_1} & \\frac{\\partial^2 MSE(\\mathbf w)}{\\partial w_2^2} \n",
    "\\end{bmatrix}\\\\\n",
    "&=\n",
    "\\frac{-2}{N}\n",
    "\\begin{bmatrix}\n",
    "\\frac{\\partial (\\sum_{i=1}^{N}(y_i- m_1(\\mathbf w, \\mathbf x_i)x_{i,1})}{\\partial w_1} & \n",
    "\\frac{\\partial (\\sum_{i=1}^{N}(y_i- m_1(\\mathbf w, \\mathbf x_i)x_{i,1})}{\\partial w_2} \\\\\n",
    "\\frac{\\partial (\\sum_{i=1}^{N}(y_i- m_1(\\mathbf w, \\mathbf x_i)x_{i,2})}{\\partial w_1} & \n",
    "\\frac{\\partial (\\sum_{i=1}^{N}(y_i- m_1(\\mathbf w, \\mathbf x_i)x_{i,2})}{\\partial w_2} \\\\\n",
    "\\end{bmatrix}\\\\\n",
    "&=\n",
    "\\frac{2}{N}\n",
    "\\begin{bmatrix}\n",
    "\\sum_{i=1}^{N}x_{i,1}^2 & \\sum_{i=1}^{N}x_{i,1}x_{i,2} \\\\\n",
    "\\sum_{i=1}^{N}x_{i,1}x_{i,2} & \\sum_{i=1}^{N} x_{i,2}^2\n",
    "\\end{bmatrix}\\\\\n",
    "\\end{aligned}\n",
    "$$\n",
    "\n",
    "This approach generalizes easily to a stochastic version of Newtons method using only a sample of the training data of size $m \\ll N$."
   ]
  },
  {
   "cell_type": "code",
   "execution_count": null,
   "metadata": {},
   "outputs": [],
   "source": [
    "%%file hessian_mse.m\n",
    "function H = hessian_mse(ws, X)\n",
    "    N = length(X);\n",
    "    M = length(ws);\n",
    "    H = zeros(M);\n",
    "    for r=1:M\n",
    "        for c=1:M\n",
    "            for i=1:N\n",
    "                H(r,c) = H(r,c) + X(i,r)*X(i,c);\n",
    "            end\n",
    "        end\n",
    "    end\n",
    "    H = 2/N*H;\n",
    "end"
   ]
  },
  {
   "cell_type": "code",
   "execution_count": null,
   "metadata": {},
   "outputs": [],
   "source": [
    "grad2_loss = @(ws, randices)(hessian_mse(ws, XX(randices,:)));"
   ]
  },
  {
   "cell_type": "code",
   "execution_count": null,
   "metadata": {},
   "outputs": [],
   "source": [
    "%%file stochastic_newton_mse.m\n",
    "function [ws, history] = stochastic_newton_mse(K, ws, loss, grad_loss, grad2_loss, N, verbose)\n",
    "    batch_size = N*0.01;\n",
    "    history(1) = loss(ws);\n",
    "    for k = 1:K\n",
    "        randices = randsample(1:N,batch_size,false);\n",
    "        grad_ws = grad_loss(ws, randices);\n",
    "        old_ws = ws;\n",
    "        H = grad2_loss(ws, randices);\n",
    "        ws= old_ws - inv(H) * grad_ws;\n",
    "        if verbose\n",
    "            line([old_ws(1),ws(1)],[old_ws(2),ws(2)]);\n",
    "        end\n",
    "        history(k+1) = loss(ws);\n",
    "    end\n",
    "end"
   ]
  },
  {
   "cell_type": "code",
   "execution_count": null,
   "metadata": {},
   "outputs": [],
   "source": [
    "%% plot search space\n",
    "plot3d(f, A, B, false) %3D contour\n",
    "hold on\n",
    "plot(a10,a20,'*r')\n",
    "plot(ws0(1),ws0(2),'+r')\n",
    "\n",
    "%% Newton's method; \n",
    "K=1; %!!!\n",
    "tic;\n",
    "[ws, history] = stochastic_newton_mse(K, ws0, mse1, grad_loss2, grad2_loss, N*N, true);\n",
    "toc"
   ]
  },
  {
   "cell_type": "code",
   "execution_count": null,
   "metadata": {},
   "outputs": [],
   "source": [
    "plot(1:length(history),history)"
   ]
  },
  {
   "cell_type": "markdown",
   "metadata": {},
   "source": [
    "## SGD with the conjugate gradient method"
   ]
  },
  {
   "cell_type": "markdown",
   "metadata": {},
   "source": [
    "The Hessian is quite large, with a size $O(n^2)$ for $n$ parameters, and needs to be updated in each iteration. The conjugate gradient method tries to avoid the explicite calculation of the Hessian. "
   ]
  },
  {
   "cell_type": "markdown",
   "metadata": {},
   "source": [
    "Part of the algorithm is a search along the (adjusted) gradient line for the optimum (lowest loss) point on this line. Therefore, we would like to use the mini batch instead of the whole training data set. We define a stochastic loss function accordingly.  "
   ]
  },
  {
   "cell_type": "code",
   "execution_count": null,
   "metadata": {},
   "outputs": [],
   "source": [
    "mse2 = @(ws, randices)(mse(ws,m1,XX(randices,:),Y(randices)));"
   ]
  },
  {
   "cell_type": "markdown",
   "metadata": {},
   "source": [
    "In *linear* conjugate gradient descent, we search along the gradient line for the point to adjust the parameters to. For *non-linear* conjugate gradient descent, we adjust the gradient line before this linear search based on the gradients' history. "
   ]
  },
  {
   "cell_type": "markdown",
   "metadata": {},
   "source": [
    "**OBS!** For non-linear conjugate gradient descent, the gradient line adjustment (actually computing its scaling factor $\\beta$) in iteration $k$ requires the gradient of iteration $k-1$. This gradient is not available in the first iteration. Therefore, we need to do a linear conjugate gradient descent in the first iteration. "
   ]
  },
  {
   "cell_type": "code",
   "execution_count": null,
   "metadata": {},
   "outputs": [],
   "source": [
    "%%file cg_mse.m\n",
    "function [ws, history] = cg_mse(K, ws, loss, stochastic_loss, grad_loss, N, verbose)\n",
    "    %initialization\n",
    "    batch_size = N*0.01;\n",
    "    history(1) = loss(ws);\n",
    "    %we only need variables at t (var) and t-1 (var_old) \n",
    "    rho_old = zeros(length(ws),1);\n",
    "    grad_ws_old = zeros(length(ws),1);\n",
    "    \n",
    "    for k = 1:K\n",
    "        randices = randsample(1:N,batch_size,false);\n",
    "        %Compute gradient\n",
    "        grad_ws = grad_loss(ws, randices);\n",
    "        if k==1\n",
    "            %Linear cg, i.e., no search direction adjustment in the first round\n",
    "            rho = - grad_ws;\n",
    "        else\n",
    "            %Compute Polak-Ribière\n",
    "            beta = ((grad_ws - grad_ws_old)' * grad_ws) /(grad_ws_old' * grad_ws_old);\n",
    "            %Compute search direction\n",
    "            rho = - grad_ws + beta*rho_old;\n",
    "        end\n",
    "        %Naive line search for epsilon* = argmin stochastic_loss(ws+epsilon * rho)\n",
    "        epsilon_star = 0.00001;\n",
    "        minimum_star = stochastic_loss(ws+epsilon_star*rho,randices);\n",
    "        for epsilon = 0.00001:0.0001:1\n",
    "            minimum = stochastic_loss(ws+epsilon*rho,randices);\n",
    "            if minimum < minimum_star\n",
    "                epsilon_star = epsilon;\n",
    "                minimum_star = minimum;\n",
    "            end\n",
    "        end\n",
    "        %Remember parameters (for drawing the line of this step if verbose) \n",
    "        old_ws = ws;\n",
    "        %Update the parameters\n",
    "        ws= old_ws + epsilon_star * rho;\n",
    "        %Remember the variables at t as the old variables at t-1 in the next iteration \n",
    "        rho_old = rho;\n",
    "        grad_ws_old = grad_ws;\n",
    "        %Draw the line \n",
    "        if verbose\n",
    "            line([old_ws(1),ws(1)],[old_ws(2),ws(2)]);\n",
    "        end\n",
    "        history(k+1) = loss(ws);\n",
    "    end\n",
    "end"
   ]
  },
  {
   "cell_type": "code",
   "execution_count": null,
   "metadata": {},
   "outputs": [],
   "source": [
    "%% plot search space\n",
    "plot3d(f, A, B, false) %3D contour\n",
    "hold on\n",
    "plot(a10,a20,'*r')\n",
    "plot(ws0(1),ws0(2),'+r')\n",
    "\n",
    "%%CG; \n",
    "K=20;\n",
    "tic;\n",
    "[ws, history] = cg_mse(K, ws0, mse1, mse2, grad_loss2, N*N, true);\n",
    "toc"
   ]
  },
  {
   "cell_type": "code",
   "execution_count": null,
   "metadata": {
    "scrolled": true
   },
   "outputs": [],
   "source": [
    "plot(1:length(history),history)"
   ]
  },
  {
   "cell_type": "markdown",
   "metadata": {},
   "source": [
    "The line search that we implemented naïvely in the above algorithm is actually an optimization problem. Since, we only have one variable $\\varepsilon$ to optimize for, we could use the quickly converging Newton method to implement this optimization. \n",
    "\n",
    "Substituting $\\mathbf w \\rightarrow \\mathbf w + \\varepsilon\\boldsymbol{\\rho}$, we seek to find $\\varepsilon^* = \\arg\\min_{\\varepsilon} MSE(\\mathbf w + \\varepsilon\\boldsymbol{\\rho},m,X,Y)$. This leads to the following function to optimize:\n",
    "\n",
    "$$MSE^*(\\varepsilon,\\mathbf w,\\boldsymbol{\\rho},m,X,Y) =\\frac{1}{N}\\sum_{i=1}^{N}(y_i - m(\\mathbf w+\\varepsilon\\boldsymbol{\\rho}, \\mathbf  x_i))^2$$\n",
    "\n",
    "Recall, that only $\\varepsilon$ is a variable in this function; all others are constant.\n",
    "\n",
    "To apply Newton's method, we find the first and second derivations of $MSE^*$:"
   ]
  },
  {
   "cell_type": "markdown",
   "metadata": {},
   "source": [
    "The gradient of $MSE^*(\\varepsilon)$ is:\n",
    "\n",
    "$$\n",
    "\\begin{aligned}\n",
    "\\nabla_{MSE^*}(\\varepsilon) &= \\frac{\\partial MSE^*(\\varepsilon)}{\\partial \\varepsilon}\\\\\n",
    "&= \\frac{1}{N}\n",
    "\\frac{\\partial \\sum_{i=1}^{N}(y_i - m_1(\\mathbf w + \\varepsilon\\boldsymbol{\\rho},\\mathbf x_i))^2}{\\partial \\varepsilon}\\\\\n",
    "&= \\frac{1}{N}  \n",
    "\\sum_{i=1}^{N}2(y_i- m_1(\\mathbf w + \\varepsilon\\boldsymbol{\\rho},\\mathbf x_i))\\frac{-\\partial m_1(\\mathbf w + \\varepsilon\\boldsymbol{\\rho},\\mathbf x_i)}{\\partial \\varepsilon}\\\\\n",
    "&= -\\frac{2}{N} \n",
    "\\sum_{i=1}^{N}(y_i- m_1(\\mathbf w + \\varepsilon\\boldsymbol{\\rho},\\mathbf x_i))\\frac{\\partial m_1(\\mathbf w + \\varepsilon\\boldsymbol{\\rho},\\mathbf x_i)}{\\partial \\varepsilon}\\\\\n",
    "\\end{aligned}\n",
    "$$"
   ]
  },
  {
   "cell_type": "markdown",
   "metadata": {},
   "source": [
    "We can plug in the function $m_1$ and the first derivation of $m_1$ to $\\varepsilon$.\n",
    "\n",
    "$$\n",
    "\\begin{aligned}\n",
    "\\frac{\\partial m_1(\\mathbf w + \\varepsilon\\boldsymbol{\\rho},\\mathbf x_i)}{\\partial \\varepsilon} &=\\frac{\\partial (\\mathbf w + \\varepsilon\\boldsymbol{\\rho})^T\\mathbf x_{i}}{\\partial \\varepsilon} = \\frac{\\partial (\\mathbf w^T \\mathbf x_{i} + \\varepsilon\\boldsymbol{\\rho}^T\\mathbf x_{i})}{\\partial \\varepsilon}  =\\boldsymbol{\\rho}^T\\mathbf x_{i}\\\\\n",
    "\\end{aligned}\n",
    "$$"
   ]
  },
  {
   "cell_type": "markdown",
   "metadata": {},
   "source": [
    "The second derivation of $MSE^*(\\varepsilon)$ is:\n",
    "\n",
    "$$\n",
    "\\begin{aligned}\n",
    "h_{MSE^*}(\\varepsilon) &= \\frac{\\partial^2 MSE^*(\\varepsilon)}{\\partial \\varepsilon^2}\\\\\n",
    "&= -\\frac{2}{N} \n",
    "\\frac{\\partial \\sum_{i=1}^{N}(y_i- m_1(\\mathbf w + \\varepsilon\\boldsymbol{\\rho},\\mathbf x_i))\\boldsymbol{\\rho}^T\\mathbf x_{i}}{\\partial \\varepsilon}\\\\\n",
    "&= -\\frac{2}{N} \n",
    "\\frac{\\partial \\sum_{i=1}^{N}(y_i- (\\mathbf w^T \\mathbf x_i + \\varepsilon\\boldsymbol{\\rho}^T\\mathbf x_i))\\boldsymbol{\\rho}^T\\mathbf x_{i}}{\\partial \\varepsilon}\\\\\n",
    "&= \\frac{2}{N} \n",
    "\\sum_{i=1}^{N}(\\boldsymbol{\\rho}^T\\mathbf x_{i})^2\\\\\n",
    "\\end{aligned}\n",
    "$$"
   ]
  },
  {
   "cell_type": "code",
   "execution_count": null,
   "metadata": {},
   "outputs": [],
   "source": [
    "%%file grad_eps.m\n",
    "function grad_eps = grad_eps(eps, ws, rho, m, X, Y)\n",
    "    N = length(X);\n",
    "    grad_eps = 0;\n",
    "    for i=1:N\n",
    "        xi = X(i,:);\n",
    "        yi = Y(i);\n",
    "        tmp = yi - m(ws+eps*rho, xi);\n",
    "        grad_eps = grad_eps + tmp*(rho'*xi');\n",
    "    end\n",
    "    grad_eps = -2/N*grad_eps;\n",
    "end"
   ]
  },
  {
   "cell_type": "code",
   "execution_count": null,
   "metadata": {},
   "outputs": [],
   "source": [
    "stochastic_grad_eps = @(eps, ws, rho, randices)(grad_eps(eps, ws, rho, m1, XX(randices,:), Y(randices)));"
   ]
  },
  {
   "cell_type": "code",
   "execution_count": null,
   "metadata": {},
   "outputs": [],
   "source": [
    "%%file grad2_eps.m\n",
    "function grad2_eps = grad2_eps(rho, X)\n",
    "    N = length(X);\n",
    "    grad2_eps = 0;\n",
    "    for i=1:N\n",
    "        xi = X(i,:);\n",
    "        tmp = rho'*xi';\n",
    "        grad2_eps = grad2_eps + tmp^2;\n",
    "    end\n",
    "    grad2_eps = 2/N*grad2_eps;\n",
    "end"
   ]
  },
  {
   "cell_type": "code",
   "execution_count": null,
   "metadata": {},
   "outputs": [],
   "source": [
    "stochastic_grad2_eps = @(rho, randices)(grad2_eps(rho, XX(randices,:)));"
   ]
  },
  {
   "cell_type": "code",
   "execution_count": null,
   "metadata": {},
   "outputs": [],
   "source": [
    "%%file cg_mse_newton.m\n",
    "function [ws, history] = cg_mse_newton(K, ws, loss, grad_loss, stochastic_grad_eps, stochastic_grad2_eps, N, verbose)\n",
    "    %initialization\n",
    "    batch_size = N*0.01;\n",
    "    history(1) = loss(ws);\n",
    "    %we only need variables at t (var) and t-1 (var_old) \n",
    "    rho_old = zeros(length(ws),1);\n",
    "    grad_ws_old = zeros(length(ws),1);\n",
    "    \n",
    "    for k = 1:K\n",
    "        randices = randsample(1:N,batch_size,false);\n",
    "        %Compute gradient\n",
    "        grad_ws = grad_loss(ws, randices);\n",
    "        if k==1\n",
    "            %Linear cg, i.e., no search direction adjustment in the first round\n",
    "            rho = - grad_ws;\n",
    "        else\n",
    "            %Compute Polak-Ribière\n",
    "            beta = ((grad_ws - grad_ws_old)' * grad_ws) /(grad_ws_old' * grad_ws_old);\n",
    "            %Compute search direction\n",
    "            rho = - grad_ws + beta*rho_old;\n",
    "        end\n",
    "        %Newton line search for epsilon* = argmin stochastic_loss(ws+epsilon * rho)\n",
    "        %Just one iteration as the (stochastic) loss function is quadratic in epsilon\n",
    "        epsilon_star = 0.5;\n",
    "        grad_eps = stochastic_grad_eps(epsilon_star, ws, rho, randices);\n",
    "        h = stochastic_grad2_eps(rho, randices);\n",
    "        epsilon_star = epsilon_star - grad_eps/h;\n",
    "\n",
    "        %Remember parameters (for drawing the line of this step if verbose) \n",
    "        old_ws = ws;\n",
    "        %Update the parameters\n",
    "        ws= old_ws + epsilon_star * rho;\n",
    "        %Remember the variables at t as the old variables at t-1 in the next iteration \n",
    "        rho_old = rho;\n",
    "        grad_ws_old = grad_ws;\n",
    "        %Draw the line \n",
    "        if verbose\n",
    "            line([old_ws(1),ws(1)],[old_ws(2),ws(2)]);\n",
    "        end\n",
    "        history(k+1) = loss(ws);\n",
    "    end\n",
    "end"
   ]
  },
  {
   "cell_type": "code",
   "execution_count": null,
   "metadata": {},
   "outputs": [],
   "source": [
    "%% plot search space\n",
    "plot3d(f, A, B, false) %3D contour\n",
    "hold on\n",
    "plot(a10,a20,'*r')\n",
    "plot(ws0(1),ws0(2),'+r')\n",
    "\n",
    "%% CG w Newton's method\n",
    "K=20;\n",
    "tic;\n",
    "[ws, history] = cg_mse_newton(K, ws0, mse1, grad_loss2, stochastic_grad_eps, stochastic_grad2_eps, N*N, true);\n",
    "toc"
   ]
  },
  {
   "cell_type": "code",
   "execution_count": null,
   "metadata": {},
   "outputs": [],
   "source": [
    "plot(1:length(history),history)"
   ]
  }
 ],
 "metadata": {
  "kernelspec": {
   "display_name": "Python 3",
   "language": "python",
   "name": "python3"
  },
  "language_info": {
   "codemirror_mode": {
    "name": "ipython",
    "version": 3
   },
   "file_extension": ".py",
   "mimetype": "text/x-python",
   "name": "python",
   "nbconvert_exporter": "python",
   "pygments_lexer": "ipython3",
   "version": "3.7.10"
  },
  "varInspector": {
   "cols": {
    "lenName": 16,
    "lenType": 16,
    "lenVar": 40
   },
   "kernels_config": {
    "python": {
     "delete_cmd_postfix": "",
     "delete_cmd_prefix": "del ",
     "library": "var_list.py",
     "varRefreshCmd": "print(var_dic_list())"
    },
    "r": {
     "delete_cmd_postfix": ") ",
     "delete_cmd_prefix": "rm(",
     "library": "var_list.r",
     "varRefreshCmd": "cat(var_dic_list()) "
    }
   },
   "position": {
    "height": "565px",
    "left": "1097px",
    "right": "20px",
    "top": "120px",
    "width": "331px"
   },
   "types_to_exclude": [
    "module",
    "function",
    "builtin_function_or_method",
    "instance",
    "_Feature"
   ],
   "window_display": false
  }
 },
 "nbformat": 4,
 "nbformat_minor": 2
}
