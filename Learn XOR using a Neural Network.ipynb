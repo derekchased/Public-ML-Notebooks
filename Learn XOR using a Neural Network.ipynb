{
 "cells": [
  {
   "cell_type": "markdown",
   "metadata": {},
   "source": [
    "# Learn XOR using a Neural Network"
   ]
  },
  {
   "cell_type": "markdown",
   "metadata": {},
   "source": [
    "For demonstration purposes, we learn neural network models of increasing complexity implementing the XOR function. Eventually, we will arrive at the model suggested in this [tutorial](https://blog.thoughtram.io/machine-learning/2016/11/02/understanding-XOR-with-keras-and-tensorlow.html)."
   ]
  },
  {
   "cell_type": "markdown",
   "metadata": {},
   "source": [
    "## Imports"
   ]
  },
  {
   "cell_type": "code",
   "execution_count": 1,
   "metadata": {},
   "outputs": [
    {
     "name": "stdout",
     "output_type": "stream",
     "text": [
      "Requirement already satisfied: numpy in /Users/wlomsi/opt/anaconda3/lib/python3.7/site-packages (1.19.5)\n",
      "Requirement already satisfied: tensorflow in /Users/wlomsi/opt/anaconda3/lib/python3.7/site-packages (2.4.1)\n",
      "Requirement already satisfied: astunparse~=1.6.3 in /Users/wlomsi/opt/anaconda3/lib/python3.7/site-packages (from tensorflow) (1.6.3)\n",
      "Requirement already satisfied: six~=1.15.0 in /Users/wlomsi/opt/anaconda3/lib/python3.7/site-packages (from tensorflow) (1.15.0)\n",
      "Requirement already satisfied: grpcio~=1.32.0 in /Users/wlomsi/opt/anaconda3/lib/python3.7/site-packages (from tensorflow) (1.32.0)\n",
      "Requirement already satisfied: wrapt~=1.12.1 in /Users/wlomsi/opt/anaconda3/lib/python3.7/site-packages (from tensorflow) (1.12.1)\n",
      "Requirement already satisfied: absl-py~=0.10 in /Users/wlomsi/opt/anaconda3/lib/python3.7/site-packages (from tensorflow) (0.11.0)\n",
      "Requirement already satisfied: protobuf>=3.9.2 in /Users/wlomsi/opt/anaconda3/lib/python3.7/site-packages (from tensorflow) (3.11.3)\n",
      "Requirement already satisfied: keras-preprocessing~=1.1.2 in /Users/wlomsi/opt/anaconda3/lib/python3.7/site-packages (from tensorflow) (1.1.2)\n",
      "Requirement already satisfied: google-pasta~=0.2 in /Users/wlomsi/opt/anaconda3/lib/python3.7/site-packages (from tensorflow) (0.2.0)\n",
      "Requirement already satisfied: opt-einsum~=3.3.0 in /Users/wlomsi/opt/anaconda3/lib/python3.7/site-packages (from tensorflow) (3.3.0)\n",
      "Requirement already satisfied: typing-extensions~=3.7.4 in /Users/wlomsi/opt/anaconda3/lib/python3.7/site-packages (from tensorflow) (3.7.4.3)\n",
      "Requirement already satisfied: gast==0.3.3 in /Users/wlomsi/opt/anaconda3/lib/python3.7/site-packages (from tensorflow) (0.3.3)\n",
      "Requirement already satisfied: tensorflow-estimator<2.5.0,>=2.4.0 in /Users/wlomsi/opt/anaconda3/lib/python3.7/site-packages (from tensorflow) (2.4.0)\n",
      "Requirement already satisfied: numpy~=1.19.2 in /Users/wlomsi/opt/anaconda3/lib/python3.7/site-packages (from tensorflow) (1.19.5)\n",
      "Requirement already satisfied: tensorboard~=2.4 in /Users/wlomsi/opt/anaconda3/lib/python3.7/site-packages (from tensorflow) (2.4.1)\n",
      "Requirement already satisfied: wheel~=0.35 in /Users/wlomsi/opt/anaconda3/lib/python3.7/site-packages (from tensorflow) (0.36.2)\n",
      "Requirement already satisfied: h5py~=2.10.0 in /Users/wlomsi/opt/anaconda3/lib/python3.7/site-packages (from tensorflow) (2.10.0)\n",
      "Requirement already satisfied: flatbuffers~=1.12.0 in /Users/wlomsi/opt/anaconda3/lib/python3.7/site-packages (from tensorflow) (1.12)\n",
      "Requirement already satisfied: termcolor~=1.1.0 in /Users/wlomsi/opt/anaconda3/lib/python3.7/site-packages (from tensorflow) (1.1.0)\n",
      "Requirement already satisfied: setuptools in /Users/wlomsi/opt/anaconda3/lib/python3.7/site-packages (from protobuf>=3.9.2->tensorflow) (44.0.0.post20200106)\n",
      "Requirement already satisfied: werkzeug>=0.11.15 in /Users/wlomsi/opt/anaconda3/lib/python3.7/site-packages (from tensorboard~=2.4->tensorflow) (1.0.0)\n",
      "Requirement already satisfied: markdown>=2.6.8 in /Users/wlomsi/opt/anaconda3/lib/python3.7/site-packages (from tensorboard~=2.4->tensorflow) (3.2.1)\n",
      "Requirement already satisfied: google-auth<2,>=1.6.3 in /Users/wlomsi/opt/anaconda3/lib/python3.7/site-packages (from tensorboard~=2.4->tensorflow) (1.12.0)\n",
      "Requirement already satisfied: tensorboard-plugin-wit>=1.6.0 in /Users/wlomsi/opt/anaconda3/lib/python3.7/site-packages (from tensorboard~=2.4->tensorflow) (1.8.0)\n",
      "Requirement already satisfied: requests<3,>=2.21.0 in /Users/wlomsi/opt/anaconda3/lib/python3.7/site-packages (from tensorboard~=2.4->tensorflow) (2.22.0)\n",
      "Requirement already satisfied: google-auth-oauthlib<0.5,>=0.4.1 in /Users/wlomsi/opt/anaconda3/lib/python3.7/site-packages (from tensorboard~=2.4->tensorflow) (0.4.1)\n",
      "Requirement already satisfied: cachetools<5.0,>=2.0.0 in /Users/wlomsi/opt/anaconda3/lib/python3.7/site-packages (from google-auth<2,>=1.6.3->tensorboard~=2.4->tensorflow) (4.0.0)\n",
      "Requirement already satisfied: rsa<4.1,>=3.1.4 in /Users/wlomsi/opt/anaconda3/lib/python3.7/site-packages (from google-auth<2,>=1.6.3->tensorboard~=2.4->tensorflow) (4.0)\n",
      "Requirement already satisfied: pyasn1-modules>=0.2.1 in /Users/wlomsi/opt/anaconda3/lib/python3.7/site-packages (from google-auth<2,>=1.6.3->tensorboard~=2.4->tensorflow) (0.2.8)\n",
      "Requirement already satisfied: requests-oauthlib>=0.7.0 in /Users/wlomsi/opt/anaconda3/lib/python3.7/site-packages (from google-auth-oauthlib<0.5,>=0.4.1->tensorboard~=2.4->tensorflow) (1.3.0)\n",
      "Requirement already satisfied: pyasn1<0.5.0,>=0.4.6 in /Users/wlomsi/opt/anaconda3/lib/python3.7/site-packages (from pyasn1-modules>=0.2.1->google-auth<2,>=1.6.3->tensorboard~=2.4->tensorflow) (0.4.8)\n",
      "Requirement already satisfied: certifi>=2017.4.17 in /Users/wlomsi/opt/anaconda3/lib/python3.7/site-packages (from requests<3,>=2.21.0->tensorboard~=2.4->tensorflow) (2020.4.5.1)\n",
      "Requirement already satisfied: idna<2.9,>=2.5 in /Users/wlomsi/opt/anaconda3/lib/python3.7/site-packages (from requests<3,>=2.21.0->tensorboard~=2.4->tensorflow) (2.8)\n",
      "Requirement already satisfied: chardet<3.1.0,>=3.0.2 in /Users/wlomsi/opt/anaconda3/lib/python3.7/site-packages (from requests<3,>=2.21.0->tensorboard~=2.4->tensorflow) (3.0.4)\n",
      "Requirement already satisfied: urllib3!=1.25.0,!=1.25.1,<1.26,>=1.21.1 in /Users/wlomsi/opt/anaconda3/lib/python3.7/site-packages (from requests<3,>=2.21.0->tensorboard~=2.4->tensorflow) (1.25.7)\n",
      "Requirement already satisfied: oauthlib>=3.0.0 in /Users/wlomsi/opt/anaconda3/lib/python3.7/site-packages (from requests-oauthlib>=0.7.0->google-auth-oauthlib<0.5,>=0.4.1->tensorboard~=2.4->tensorflow) (3.1.0)\n",
      "Requirement already satisfied: sklearn in /Users/wlomsi/opt/anaconda3/lib/python3.7/site-packages (0.0)\n",
      "Requirement already satisfied: scikit-learn in /Users/wlomsi/opt/anaconda3/lib/python3.7/site-packages (from sklearn) (0.22.2.post1)\n",
      "Requirement already satisfied: joblib>=0.11 in /Users/wlomsi/opt/anaconda3/lib/python3.7/site-packages (from scikit-learn->sklearn) (0.14.1)\n",
      "Requirement already satisfied: numpy>=1.11.0 in /Users/wlomsi/opt/anaconda3/lib/python3.7/site-packages (from scikit-learn->sklearn) (1.19.5)\n",
      "Requirement already satisfied: scipy>=0.17.0 in /Users/wlomsi/opt/anaconda3/lib/python3.7/site-packages (from scikit-learn->sklearn) (1.4.1)\n"
     ]
    }
   ],
   "source": [
    "!pip install numpy \n",
    "!pip install tensorflow \n",
    "!pip install sklearn "
   ]
  },
  {
   "cell_type": "code",
   "execution_count": 2,
   "metadata": {},
   "outputs": [],
   "source": [
    "import numpy as np\n",
    "from tensorflow.keras import Sequential\n",
    "from tensorflow.keras.layers import Dense\n",
    "from sklearn.metrics import mean_squared_error, accuracy_score\n",
    "\n",
    "import matplotlib.pyplot as plt"
   ]
  },
  {
   "cell_type": "markdown",
   "metadata": {},
   "source": [
    "## Create the XOR function as data"
   ]
  },
  {
   "cell_type": "code",
   "execution_count": 3,
   "metadata": {},
   "outputs": [
    {
     "name": "stdout",
     "output_type": "stream",
     "text": [
      "Input: (4, 2)\n",
      "Output: (4, 1)\n"
     ]
    }
   ],
   "source": [
    "# Create XOR\n",
    "X = np.array([[0,0],[0,1],[1,0],[1,1]], \"float32\")\n",
    "Y = np.array([[0],[1],[1],[0]], \"float32\")\n",
    "\n",
    "# Dataset shape\n",
    "print(\"Input: {0}\".format(X.shape))\n",
    "print(\"Output: {0}\".format(Y.shape))"
   ]
  },
  {
   "cell_type": "markdown",
   "metadata": {},
   "source": [
    "## Model 1"
   ]
  },
  {
   "cell_type": "markdown",
   "metadata": {},
   "source": [
    "Define and train a too trivial neural network model: one neuron, three parameters, purely linear and, hence, it misses 50% of the right answers."
   ]
  },
  {
   "cell_type": "code",
   "execution_count": 7,
   "metadata": {
    "scrolled": true
   },
   "outputs": [
    {
     "name": "stdout",
     "output_type": "stream",
     "text": [
      "Model: \"sequential_3\"\n",
      "_________________________________________________________________\n",
      "Layer (type)                 Output Shape              Param #   \n",
      "=================================================================\n",
      "dense_3 (Dense)              (None, 1)                 3         \n",
      "=================================================================\n",
      "Total params: 3\n",
      "Trainable params: 3\n",
      "Non-trainable params: 0\n",
      "_________________________________________________________________\n",
      "None\n"
     ]
    }
   ],
   "source": [
    "# Define the model\n",
    "model1 = Sequential()\n",
    "model1.add(Dense(1, input_dim=2, activation='linear'))\n",
    "\n",
    "# Compile the model\n",
    "model1.compile(loss='mean_squared_error',\n",
    "              optimizer='adam',\n",
    "              metrics=['binary_accuracy','mean_squared_error'])\n",
    "\n",
    "print(model1.summary())"
   ]
  },
  {
   "cell_type": "code",
   "execution_count": 8,
   "metadata": {},
   "outputs": [
    {
     "data": {
      "text/plain": [
       "[]"
      ]
     },
     "execution_count": 8,
     "metadata": {},
     "output_type": "execute_result"
    },
    {
     "data": {
      "image/png": "[encoded data removed]",
      "text/plain": [
       "<Figure size 432x288 with 1 Axes>"
      ]
     },
     "metadata": {
      "needs_background": "light"
     },
     "output_type": "display_data"
    }
   ],
   "source": [
    "# Train the model\n",
    "history = model1.fit(X, Y, epochs=1000, verbose=0)\n",
    "\n",
    "plt.plot(history.history['mean_squared_error'])\n",
    "plt.plot(history.history['binary_accuracy'])\n",
    "plt.ylabel('mean squared error / binary accuracy')\n",
    "plt.xlabel('epoch')\n",
    "plt.plot()"
   ]
  },
  {
   "cell_type": "markdown",
   "metadata": {},
   "source": [
    "Evaluate the model:"
   ]
  },
  {
   "cell_type": "code",
   "execution_count": 9,
   "metadata": {},
   "outputs": [
    {
     "name": "stdout",
     "output_type": "stream",
     "text": [
      "Mean squared error: 0.26\n",
      "Binary accuracy: 0.50\n"
     ]
    }
   ],
   "source": [
    "preds = model1.predict(X)\n",
    "mse = mean_squared_error(preds, Y)\n",
    "print(\"Mean squared error: {0:.2f}\".format(mse))\n",
    "acc = accuracy_score(preds.round(), Y)\n",
    "print(\"Binary accuracy: {0:.2f}\".format(acc))"
   ]
  },
  {
   "cell_type": "code",
   "execution_count": 10,
   "metadata": {},
   "outputs": [
    {
     "data": {
      "text/plain": [
       "array([[0.4074329 ],\n",
       "       [0.5479205 ],\n",
       "       [0.43225238],\n",
       "       [0.57273996]], dtype=float32)"
      ]
     },
     "execution_count": 10,
     "metadata": {},
     "output_type": "execute_result"
    }
   ],
   "source": [
    "preds"
   ]
  },
  {
   "cell_type": "markdown",
   "metadata": {},
   "source": [
    "Use the model"
   ]
  },
  {
   "cell_type": "code",
   "execution_count": 11,
   "metadata": {},
   "outputs": [],
   "source": [
    "def my_xor(x1,x2,m):\n",
    "    \"\"\"Return x1 XOR x2.\"\"\"\n",
    "    res =  m.predict(np.array([[x1,x2]], \"float32\")).round()\n",
    "    return int(res[0][0])"
   ]
  },
  {
   "cell_type": "code",
   "execution_count": 12,
   "metadata": {},
   "outputs": [
    {
     "name": "stdout",
     "output_type": "stream",
     "text": [
      "0\n",
      "1\n",
      "0\n",
      "1\n"
     ]
    }
   ],
   "source": [
    "print(format(my_xor(0,0, model1)))\n",
    "print(format(my_xor(0,1, model1)))\n",
    "print(format(my_xor(1,0, model1)))\n",
    "print(format(my_xor(1,1, model1)))"
   ]
  },
  {
   "cell_type": "markdown",
   "metadata": {},
   "source": [
    "## Model 2"
   ]
  },
  {
   "cell_type": "markdown",
   "metadata": {},
   "source": [
    "The slightly more complex neural network model introduces a sigmpod activation function. It is hence not linear anymore. However, one neuron is not enough. Its accuracy does not improve."
   ]
  },
  {
   "cell_type": "code",
   "execution_count": 13,
   "metadata": {
    "scrolled": true
   },
   "outputs": [
    {
     "name": "stdout",
     "output_type": "stream",
     "text": [
      "Model: \"sequential_4\"\n",
      "_________________________________________________________________\n",
      "Layer (type)                 Output Shape              Param #   \n",
      "=================================================================\n",
      "dense_4 (Dense)              (None, 1)                 3         \n",
      "=================================================================\n",
      "Total params: 3\n",
      "Trainable params: 3\n",
      "Non-trainable params: 0\n",
      "_________________________________________________________________\n",
      "None\n"
     ]
    }
   ],
   "source": [
    "# Define the model\n",
    "model2 = Sequential()\n",
    "model2.add(Dense(1, input_dim=2, activation='sigmoid'))\n",
    "\n",
    "# Compile the model\n",
    "model2.compile(loss='mean_squared_error',\n",
    "              optimizer='adam',\n",
    "              metrics=['binary_accuracy','mean_squared_error'])\n",
    "\n",
    "print(model2.summary())"
   ]
  },
  {
   "cell_type": "code",
   "execution_count": 14,
   "metadata": {},
   "outputs": [
    {
     "data": {
      "text/plain": [
       "[]"
      ]
     },
     "execution_count": 14,
     "metadata": {},
     "output_type": "execute_result"
    },
    {
     "data": {
      "image/png": "[encoded data removed]",
      "text/plain": [
       "<Figure size 432x288 with 1 Axes>"
      ]
     },
     "metadata": {
      "needs_background": "light"
     },
     "output_type": "display_data"
    }
   ],
   "source": [
    "# Train the model\n",
    "history = model2.fit(X, Y, epochs=1000, verbose=0)\n",
    "\n",
    "plt.plot(history.history['mean_squared_error'])\n",
    "plt.plot(history.history['binary_accuracy'])\n",
    "plt.ylabel('mean squared error / binary accuracy')\n",
    "plt.xlabel('epoch')\n",
    "plt.plot()"
   ]
  },
  {
   "cell_type": "markdown",
   "metadata": {},
   "source": [
    "Evaluate the model:"
   ]
  },
  {
   "cell_type": "code",
   "execution_count": 15,
   "metadata": {},
   "outputs": [
    {
     "name": "stdout",
     "output_type": "stream",
     "text": [
      "Mean squared error: 0.25\n",
      "Binary accuracy: 0.50\n"
     ]
    }
   ],
   "source": [
    "preds = model2.predict(X)\n",
    "mse = mean_squared_error(preds, Y)\n",
    "print(\"Mean squared error: {0:.2f}\".format(mse))\n",
    "acc = accuracy_score(preds.round(), Y)\n",
    "print(\"Binary accuracy: {0:.2f}\".format(acc))"
   ]
  },
  {
   "cell_type": "code",
   "execution_count": 16,
   "metadata": {},
   "outputs": [
    {
     "data": {
      "text/plain": [
       "array([[0.51002544],\n",
       "       [0.51442444],\n",
       "       [0.4854492 ],\n",
       "       [0.4898481 ]], dtype=float32)"
      ]
     },
     "execution_count": 16,
     "metadata": {},
     "output_type": "execute_result"
    }
   ],
   "source": [
    "preds"
   ]
  },
  {
   "cell_type": "markdown",
   "metadata": {},
   "source": [
    "Use the model"
   ]
  },
  {
   "cell_type": "code",
   "execution_count": 17,
   "metadata": {},
   "outputs": [
    {
     "name": "stdout",
     "output_type": "stream",
     "text": [
      "1\n",
      "1\n",
      "0\n",
      "0\n"
     ]
    }
   ],
   "source": [
    "print(format(my_xor(0,0, model2)))\n",
    "print(format(my_xor(0,1, model2)))\n",
    "print(format(my_xor(1,0, model2)))\n",
    "print(format(my_xor(1,1, model2)))"
   ]
  },
  {
   "cell_type": "markdown",
   "metadata": {},
   "source": [
    "## Model 3"
   ]
  },
  {
   "cell_type": "markdown",
   "metadata": {},
   "source": [
    "We add a hidden layer with 32 neurons and a linear activation function:"
   ]
  },
  {
   "cell_type": "code",
   "execution_count": 18,
   "metadata": {
    "scrolled": true
   },
   "outputs": [
    {
     "name": "stdout",
     "output_type": "stream",
     "text": [
      "Model: \"sequential_5\"\n",
      "_________________________________________________________________\n",
      "Layer (type)                 Output Shape              Param #   \n",
      "=================================================================\n",
      "dense_5 (Dense)              (None, 32)                96        \n",
      "_________________________________________________________________\n",
      "dense_6 (Dense)              (None, 1)                 33        \n",
      "=================================================================\n",
      "Total params: 129\n",
      "Trainable params: 129\n",
      "Non-trainable params: 0\n",
      "_________________________________________________________________\n",
      "None\n"
     ]
    }
   ],
   "source": [
    "# Define the model\n",
    "model3 = Sequential()\n",
    "model3.add(Dense(32, input_dim=2, activation='linear'))\n",
    "model3.add(Dense(1, activation='sigmoid'))\n",
    "\n",
    "# Compile the model\n",
    "model3.compile(loss='mean_squared_error',\n",
    "              optimizer='adam',\n",
    "              metrics=['binary_accuracy','mean_squared_error'])\n",
    "\n",
    "print(model3.summary())"
   ]
  },
  {
   "cell_type": "code",
   "execution_count": 19,
   "metadata": {},
   "outputs": [
    {
     "data": {
      "text/plain": [
       "[]"
      ]
     },
     "execution_count": 19,
     "metadata": {},
     "output_type": "execute_result"
    },
    {
     "data": {
      "image/png": "[encoded data removed]",
      "text/plain": [
       "<Figure size 432x288 with 1 Axes>"
      ]
     },
     "metadata": {
      "needs_background": "light"
     },
     "output_type": "display_data"
    }
   ],
   "source": [
    "# Train the model\n",
    "history = model3.fit(X, Y, epochs=1000, verbose=0)\n",
    "\n",
    "plt.plot(history.history['mean_squared_error'])\n",
    "plt.plot(history.history['binary_accuracy'])\n",
    "plt.ylabel('mean squared error / binary accuracy')\n",
    "plt.xlabel('epoch')\n",
    "plt.plot()"
   ]
  },
  {
   "cell_type": "markdown",
   "metadata": {},
   "source": [
    "Evaluate the model:"
   ]
  },
  {
   "cell_type": "code",
   "execution_count": 20,
   "metadata": {},
   "outputs": [
    {
     "name": "stdout",
     "output_type": "stream",
     "text": [
      "Mean squared error: 0.25\n",
      "Binary accuracy: 0.50\n"
     ]
    }
   ],
   "source": [
    "preds = model3.predict(X)\n",
    "mse = mean_squared_error(preds, Y)\n",
    "print(\"Mean squared error: {0:.2f}\".format(mse))\n",
    "acc = accuracy_score(preds.round(), Y)\n",
    "print(\"Binary accuracy: {0:.2f}\".format(acc))"
   ]
  },
  {
   "cell_type": "code",
   "execution_count": 21,
   "metadata": {},
   "outputs": [
    {
     "data": {
      "text/plain": [
       "array([[0.5       ],\n",
       "       [0.49999994],\n",
       "       [0.49999997],\n",
       "       [0.49999994]], dtype=float32)"
      ]
     },
     "execution_count": 21,
     "metadata": {},
     "output_type": "execute_result"
    }
   ],
   "source": [
    "preds"
   ]
  },
  {
   "cell_type": "markdown",
   "metadata": {},
   "source": [
    "Use the model"
   ]
  },
  {
   "cell_type": "code",
   "execution_count": 22,
   "metadata": {},
   "outputs": [
    {
     "name": "stdout",
     "output_type": "stream",
     "text": [
      "0\n",
      "0\n",
      "0\n",
      "0\n"
     ]
    }
   ],
   "source": [
    "print(format(my_xor(0,0, model3)))\n",
    "print(format(my_xor(0,1, model3)))\n",
    "print(format(my_xor(1,0, model3)))\n",
    "print(format(my_xor(1,1, model3)))"
   ]
  },
  {
   "cell_type": "markdown",
   "metadata": {},
   "source": [
    "## Model 4"
   ]
  },
  {
   "cell_type": "markdown",
   "metadata": {},
   "source": [
    "Finally we change the linear activation of the hidden layer to a relu activation, define and train the neural network model:"
   ]
  },
  {
   "cell_type": "code",
   "execution_count": 23,
   "metadata": {
    "scrolled": true
   },
   "outputs": [
    {
     "name": "stdout",
     "output_type": "stream",
     "text": [
      "Model: \"sequential_6\"\n",
      "_________________________________________________________________\n",
      "Layer (type)                 Output Shape              Param #   \n",
      "=================================================================\n",
      "dense_7 (Dense)              (None, 32)                96        \n",
      "_________________________________________________________________\n",
      "dense_8 (Dense)              (None, 1)                 33        \n",
      "=================================================================\n",
      "Total params: 129\n",
      "Trainable params: 129\n",
      "Non-trainable params: 0\n",
      "_________________________________________________________________\n",
      "None\n"
     ]
    }
   ],
   "source": [
    "# Define the model\n",
    "model = Sequential()\n",
    "model.add(Dense(32, input_dim=2, activation='relu'))\n",
    "model.add(Dense(1, activation='sigmoid'))\n",
    "\n",
    "# Compile the model\n",
    "model.compile(loss='mean_squared_error',\n",
    "              optimizer='adam',\n",
    "              metrics=['binary_accuracy','mean_squared_error'])\n",
    "\n",
    "print(model.summary())"
   ]
  },
  {
   "cell_type": "code",
   "execution_count": 24,
   "metadata": {},
   "outputs": [
    {
     "data": {
      "text/plain": [
       "[]"
      ]
     },
     "execution_count": 24,
     "metadata": {},
     "output_type": "execute_result"
    },
    {
     "data": {
      "image/png": "[encoded data removed]",
      "text/plain": [
       "<Figure size 432x288 with 1 Axes>"
      ]
     },
     "metadata": {
      "needs_background": "light"
     },
     "output_type": "display_data"
    }
   ],
   "source": [
    "# Train the model\n",
    "history = model.fit(X, Y, epochs=1000, verbose=0)\n",
    "\n",
    "plt.plot(history.history['mean_squared_error'])\n",
    "plt.plot(history.history['binary_accuracy'])\n",
    "plt.ylabel('mean squared error / binary accuracy')\n",
    "plt.xlabel('epoch')\n",
    "plt.plot()"
   ]
  },
  {
   "cell_type": "markdown",
   "metadata": {},
   "source": [
    "Evaluate the model:"
   ]
  },
  {
   "cell_type": "code",
   "execution_count": 25,
   "metadata": {},
   "outputs": [
    {
     "name": "stdout",
     "output_type": "stream",
     "text": [
      "Mean squared error: 0.02\n",
      "Binary accuracy: 1.00\n"
     ]
    }
   ],
   "source": [
    "preds = model.predict(X)\n",
    "mse = mean_squared_error(preds, Y)\n",
    "print(\"Mean squared error: {0:.2f}\".format(mse))\n",
    "acc = accuracy_score(preds.round(), Y)\n",
    "print(\"Binary accuracy: {0:.2f}\".format(acc))"
   ]
  },
  {
   "cell_type": "code",
   "execution_count": 26,
   "metadata": {},
   "outputs": [
    {
     "data": {
      "text/plain": [
       "array([[0.2231865 ],\n",
       "       [0.9265102 ],\n",
       "       [0.9262619 ],\n",
       "       [0.07314506]], dtype=float32)"
      ]
     },
     "execution_count": 26,
     "metadata": {},
     "output_type": "execute_result"
    }
   ],
   "source": [
    "preds"
   ]
  },
  {
   "cell_type": "markdown",
   "metadata": {},
   "source": [
    "Use the model"
   ]
  },
  {
   "cell_type": "code",
   "execution_count": 27,
   "metadata": {},
   "outputs": [
    {
     "name": "stdout",
     "output_type": "stream",
     "text": [
      "0\n",
      "1\n",
      "1\n",
      "0\n"
     ]
    }
   ],
   "source": [
    "print(format(my_xor(0,0, model)))\n",
    "print(format(my_xor(0,1, model)))\n",
    "print(format(my_xor(1,0, model)))\n",
    "print(format(my_xor(1,1, model)))"
   ]
  },
  {
   "cell_type": "code",
   "execution_count": 28,
   "metadata": {},
   "outputs": [
    {
     "data": {
      "text/plain": [
       "[<tf.Variable 'dense_7/kernel:0' shape=(2, 32) dtype=float32, numpy=\n",
       " array([[ 0.5841585 , -0.40610948,  0.47656116,  0.42090777,  0.67791224,\n",
       "         -0.6785542 ,  1.01337   , -0.09686431, -0.7274387 , -0.35593182,\n",
       "          0.85415804,  0.48906428,  0.43369898,  0.45748276,  0.03979011,\n",
       "         -0.35918638, -0.00746563,  0.56471896, -0.18285531, -0.6517244 ,\n",
       "         -0.8904212 , -0.3317663 , -0.13710234,  0.59699464,  0.5079917 ,\n",
       "          0.0680659 ,  0.11669786, -0.13440311, -0.7058186 ,  0.00473294,\n",
       "          0.8290723 ,  0.49467745],\n",
       "        [ 0.42012337, -0.41425356,  0.476701  ,  0.4208277 , -0.67774546,\n",
       "          0.6784214 , -0.9552125 , -0.04287672,  0.7275185 ,  0.13895619,\n",
       "         -0.8537566 ,  0.48908606,  0.43375036,  0.45748317, -0.25806844,\n",
       "         -0.3487216 , -0.31596452,  0.5646652 ,  0.07326906,  0.6516293 ,\n",
       "          0.8903991 , -0.39805925, -0.05443189, -0.5967017 ,  0.3700263 ,\n",
       "         -0.33955663, -0.28666174, -0.12362745,  0.71218073,  0.34388974,\n",
       "          0.6712245 ,  0.4945108 ]], dtype=float32)>,\n",
       " <tf.Variable 'dense_7/bias:0' shape=(32,) dtype=float32, numpy=\n",
       " array([ 2.6830065e-05,  0.0000000e+00, -4.7673902e-01, -4.2083034e-01,\n",
       "        -1.4808307e-04, -6.0265316e-05, -3.7328536e-03,  0.0000000e+00,\n",
       "        -2.5799783e-04, -1.5038756e-01, -2.6750498e-04, -4.8909506e-01,\n",
       "        -4.3367171e-01, -4.5750245e-01, -5.5213232e-02,  0.0000000e+00,\n",
       "         0.0000000e+00, -5.6462610e-01, -8.7454200e-02, -6.3964777e-05,\n",
       "        -5.7086989e-04,  0.0000000e+00,  0.0000000e+00, -4.0037517e-04,\n",
       "        -1.7880581e-04, -8.6302288e-02, -1.2756759e-01,  0.0000000e+00,\n",
       "        -5.9706192e-03, -5.9790242e-02, -2.8156253e-04, -4.9450025e-01],\n",
       "       dtype=float32)>,\n",
       " <tf.Variable 'dense_8/kernel:0' shape=(32, 1) dtype=float32, numpy=\n",
       " array([[ 0.59014314],\n",
       "        [ 0.25838786],\n",
       "        [-0.9395376 ],\n",
       "        [-1.1769105 ],\n",
       "        [ 0.9516826 ],\n",
       "        [ 0.8325533 ],\n",
       "        [ 0.759005  ],\n",
       "        [-0.41023412],\n",
       "        [ 0.74170476],\n",
       "        [-0.10770869],\n",
       "        [ 0.67869174],\n",
       "        [-0.88916147],\n",
       "        [-0.9916941 ],\n",
       "        [-1.0793768 ],\n",
       "        [-0.03996238],\n",
       "        [ 0.39010197],\n",
       "        [ 0.35091442],\n",
       "        [-0.8723093 ],\n",
       "        [-0.07056343],\n",
       "        [ 0.89218175],\n",
       "        [ 0.59900767],\n",
       "        [ 0.17794281],\n",
       "        [ 0.10244524],\n",
       "        [ 1.1256785 ],\n",
       "        [ 0.61407775],\n",
       "        [-0.3059283 ],\n",
       "        [-0.06548443],\n",
       "        [ 0.08725858],\n",
       "        [ 1.0550493 ],\n",
       "        [-0.10132286],\n",
       "        [ 0.5540443 ],\n",
       "        [-0.95617634]], dtype=float32)>,\n",
       " <tf.Variable 'dense_8/bias:0' shape=(1,) dtype=float32, numpy=array([-1.2472085], dtype=float32)>]"
      ]
     },
     "execution_count": 28,
     "metadata": {},
     "output_type": "execute_result"
    }
   ],
   "source": [
    "model.trainable_weights"
   ]
  },
  {
   "cell_type": "code",
   "execution_count": null,
   "metadata": {},
   "outputs": [],
   "source": []
  }
 ],
 "metadata": {
  "kernelspec": {
   "display_name": "Python 3",
   "language": "python",
   "name": "python3"
  },
  "language_info": {
   "codemirror_mode": {
    "name": "ipython",
    "version": 3
   },
   "file_extension": ".py",
   "mimetype": "text/x-python",
   "name": "python",
   "nbconvert_exporter": "python",
   "pygments_lexer": "ipython3",
   "version": "3.7.4"
  }
 },
 "nbformat": 4,
 "nbformat_minor": 2
}
