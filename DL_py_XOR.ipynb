{
 "cells": [
  {
   "cell_type": "markdown",
   "metadata": {},
   "source": [
    "# Learn an XOR Neural Network using gradient-based optimization"
   ]
  },
  {
   "cell_type": "markdown",
   "metadata": {},
   "source": [
    "## Steps"
   ]
  },
  {
   "cell_type": "markdown",
   "metadata": {},
   "source": [
    "1. Setting the scene\n",
    "2. Model 1: linear, one layer, no activation function \n",
    "3. Model 2: almost linear, one layer, sigmoid activation function \n",
    "4. Model 3: one hidden layer with linear and one output layer with sigmoid activation \n",
    "5. Model 4: one hidden layer with relu and one output layer with sigmoid activation \n",
    "6. Comparison with Model 4 learned with Tensorflow"
   ]
  },
  {
   "cell_type": "markdown",
   "metadata": {},
   "source": [
    "## Setting the scene"
   ]
  },
  {
   "cell_type": "markdown",
   "metadata": {},
   "source": [
    "All models $m_i$ follow the standard Neural Network architecture: <img src=\"img/NN.jpg\"> The models vary in the number of layers, the numbers of neurons per layer and in the activation function."
   ]
  },
  {
   "cell_type": "markdown",
   "metadata": {},
   "source": [
    "During learning, we optimize the mean squared error $MSE$ of the models $m$ for the model parameters $\\mathbf w, \\mathbf b$: \n",
    "\n",
    "$$MSE(\\mathbf w,\\mathbf b,m,X,Y) =\\frac{1}{N}\\sum_{i=1}^{N}(y_i - m(\\mathbf w, \\mathbf  b, x_i))^2$$"
   ]
  },
  {
   "cell_type": "code",
   "execution_count": 1,
   "metadata": {},
   "outputs": [],
   "source": [
    "import numpy as np\n",
    "import matplotlib.pyplot as plt\n",
    "from matplotlib import cm\n",
    "from matplotlib.ticker import LinearLocator\n"
   ]
  },
  {
   "cell_type": "markdown",
   "metadata": {},
   "source": [
    "In other words, we find $\\arg\\min_{\\mathbf w, \\mathbf b} MSE(\\mathbf w, \\mathbf b,m,X,Y)$.\n",
    "Since we implement a binary, logic function (two arguments, two values per argument), $N=2^2=4$ and $X,Y$ define the XOR function:"
   ]
  },
  {
   "cell_type": "markdown",
   "metadata": {},
   "source": [
    "## Model 1: linear, one layer, no activation function "
   ]
  },
  {
   "cell_type": "markdown",
   "metadata": {},
   "source": [
    "The first model is a (too) simple linear Neural Network model. It consists of one neuron connected to the input $x_1$ and $x_2$ and an identity, i.e., no effective, activation function. The neuron and the whole model $m_1$ implements $m_1(\\mathbf w, b, x) = w_1x_1+w_2x_2+b$."
   ]
  },
  {
   "cell_type": "markdown",
   "metadata": {},
   "source": [
    "As the Tensorflow default, we implement the Glorot uniform initializer for setting the initial weights $\\mathbf w_0$.\n",
    "It draws samples from a uniform random distribution within $[-\\mathit{limit}, \\mathit{limit}]$,\n",
    "where $\\mathit{limit} = \\sqrt{\\frac{6}{\\mathit{in} + \\mathit{out}}}$, and\n",
    "where $\\mathit{in}$ and $\\mathit{out}$ is the number of input and output units, resp. The initial bias $b_0$ is set to $0$."
   ]
  },
  {
   "cell_type": "markdown",
   "metadata": {},
   "source": [
    "We are ready to assess $MSE$ for $m_1$ for this initial weights setting."
   ]
  },
  {
   "cell_type": "markdown",
   "metadata": {},
   "source": [
    "The gradient of $MSE(\\mathbf w,b)$ for any $\\mathbf w, b$ is defiend as:\n",
    "\n",
    "$$\n",
    "\\begin{aligned}\n",
    "\\nabla MSE(\\mathbf w,b) &= \\left [ \n",
    "\\frac{\\partial MSS(\\mathbf w,b)}{\\partial w_1}, \n",
    "\\frac{\\partial MSS(\\mathbf w,b)}{\\partial w_2}, \n",
    "\\frac{\\partial MSE(\\mathbf w,b)}{\\partial b}\n",
    "\\right ]^T\\\\\n",
    "&= \\frac{1}{4}\\left [ \n",
    "\\frac{\\partial \\sum_{i=1}^{4}(y_i - m_1(\\mathbf w,b,x_i))^2}{\\partial w_1}, \n",
    "\\frac{\\partial \\sum_{i=1}^{4}(y_i - m_1(\\mathbf w,b,x_i))^2}{\\partial w_2}, \n",
    "\\frac{\\partial \\sum_{i=1}^{4}(y_i - m_1(\\mathbf w,b,x_i))^2}{\\partial b} \n",
    "\\right ]^T \\\\\n",
    "&= \\frac{1}{4} \\left [ \n",
    "\\sum_{i=1}^{4}2(y_i- m_1(\\mathbf w,b,x_i))\\frac{-\\partial m_1(\\mathbf w,b,x_i)}{\\partial w_1},\n",
    "\\sum_{i=1}^{4}2(y_i- m_1(\\mathbf w,b,x_i))\\frac{-\\partial m_1(\\mathbf w,b,x_i)}{\\partial w_2},\n",
    "\\sum_{i=1}^{4}2(y_i- m_1(\\mathbf w,b,x_i))\\frac{-\\partial m_1(\\mathbf w,b,x_i)}{\\partial b}\n",
    "\\right ]^T \\\\\n",
    "&= -\\frac{1}{2} \\left [ \n",
    "\\sum_{i=1}^{4}(y_i- m_1(\\mathbf w,b,x_i))\\frac{\\partial m_1(\\mathbf w,b,x_i)}{\\partial w_1},\n",
    "\\sum_{i=1}^{4}(y_i- m_1(\\mathbf w,b,x_i))\\frac{\\partial m_1(\\mathbf w,b,x_i)}{\\partial w_2},\n",
    "\\sum_{i=1}^{4}(y_i- m_1(\\mathbf w,b,x_i))\\frac{\\partial m_1(\\mathbf w,b,x_i)}{\\partial b}\n",
    "\\right ]^T \\\\\n",
    "\\end{aligned}\n",
    "$$"
   ]
  },
  {
   "cell_type": "markdown",
   "metadata": {},
   "source": [
    "We can plug in the function $m_1$ and the first derivative of $m_1$ wrt. $w_1, w_2,$ and $b$ resp.\n",
    "\n",
    "$$\n",
    "\\begin{aligned}\n",
    "\\frac{\\partial m_1(\\mathbf w,b,x_i)}{\\partial w_j} &=\\frac{\\partial(\\sum_{j=1}^{2} w_jx_{ij})+b}{\\partial w_j} = x_{ij}\\\\\n",
    "\\frac{\\partial m_1(\\mathbf w,b,x_i)}{\\partial b} &=\\frac{\\partial(\\sum_{j=1}^{2} w_jx_{ij})+b}{\\partial b} = 1\\\\\n",
    "\\end{aligned}\n",
    "$$"
   ]
  },
  {
   "cell_type": "markdown",
   "metadata": {},
   "source": [
    "We have already defined the function $m_1$. Let's also define the functions of the first derivative of $m_1$ wrt. $w_1, w_2,$ and $b$ resp. For the sake of generality, we keep the parameters $\\mathbf w, b$ that are actually not needed for  derivatives of this concrete model $m_1$. "
   ]
  },
  {
   "cell_type": "code",
   "execution_count": 2,
   "metadata": {},
   "outputs": [],
   "source": [
    "# Set rand generator\n",
    "rng = np.random.default_rng(3)\n",
    "\n",
    "# Setup Initial Weight Parameters\n",
    "in_units = 2;\n",
    "out_units = 1;\n",
    "glorot_limit = np.sqrt(6 / (in_units + out_units))\n",
    "\n",
    "# Define Data\n",
    "X = np.array(  [[0,0],[0,1], [1,0], [1,1]] )\n",
    "Y = np.array([0,1,1,0])\n",
    "ws0 = np.array([rng.random()*2*glorot_limit-glorot_limit, rng.random()*2*glorot_limit-glorot_limit, 0])"
   ]
  },
  {
   "cell_type": "code",
   "execution_count": 3,
   "metadata": {},
   "outputs": [],
   "source": [
    "def mse(ws, m, X, Y):\n",
    "    N = X.shape[0]\n",
    "    err = 0;\n",
    "    for i in range(N):\n",
    "        xi=X[i,:]\n",
    "        yi=m(ws,xi)\n",
    "        err = err + (Y[i]-yi)**2;\n",
    "    err = err/N;\n",
    "    return err"
   ]
  },
  {
   "cell_type": "code",
   "execution_count": 4,
   "metadata": {},
   "outputs": [],
   "source": [
    "m1 = lambda ws,x: ws[0]*x[0] + ws[1]*x[1] + ws[2]\n",
    "mse1 = lambda ws: mse(ws,m1,X,Y)"
   ]
  },
  {
   "cell_type": "code",
   "execution_count": 5,
   "metadata": {},
   "outputs": [
    {
     "data": {
      "text/plain": [
       "2.858219150123684"
      ]
     },
     "execution_count": 5,
     "metadata": {},
     "output_type": "execute_result"
    }
   ],
   "source": [
    "mse1(ws0)"
   ]
  },
  {
   "cell_type": "code",
   "execution_count": 6,
   "metadata": {},
   "outputs": [],
   "source": [
    "gradients1=[lambda ws,x: x[0], lambda ws,x: x[1], lambda ws,x: 1]"
   ]
  },
  {
   "cell_type": "code",
   "execution_count": 7,
   "metadata": {},
   "outputs": [],
   "source": [
    "def grad_mse(ws, m, grads, X, Y):\n",
    "    N = X.shape[0]\n",
    "    M = ws.shape[0]\n",
    "    grad_ws = np.zeros(M)\n",
    "    \n",
    "    for i in range(N):\n",
    "        xi = X[i,:]\n",
    "        yi = Y[i]\n",
    "        tmp = yi - m(ws,xi)\n",
    "        for j in range(M):\n",
    "            grad_ws[j] = grad_ws[j] + tmp * grads[j](ws,xi)\n",
    "    grad_ws = -2/N*grad_ws;\n",
    "    return grad_ws\n",
    "\n",
    "def grad_desc_mse(K, ws, learning_eps, loss, grad_loss, verbose):\n",
    "    history = [ loss(ws) ]\n",
    "    for k in range(K):\n",
    "        grad_ws = grad_loss(ws)\n",
    "        old_ws = ws\n",
    "        ws = old_ws - learning_eps * grad_ws;\n",
    "        history.append(loss(ws))\n",
    "    return ws, history"
   ]
  },
  {
   "cell_type": "markdown",
   "metadata": {},
   "source": [
    "The gradient of $MSE$ can now be defined using $m_1$ and the first derivative of $m_1$ wrt. $w_1, w_2,$ and $b$, resp., as parameters."
   ]
  },
  {
   "cell_type": "markdown",
   "metadata": {},
   "source": [
    "Finally, we are ready to define the gradient descent function optimizing $\\mathbf w, b$ by iterating over:\n",
    "\n",
    "$$(\\mathbf w_{k+1}, b_{k+1}) = (\\mathbf w_k, b_k) - \\varepsilon \\nabla MSE(\\mathbf w_k,b_k)$$\n",
    "\n",
    "staring with $(\\mathbf w_0, b_0)$."
   ]
  },
  {
   "cell_type": "code",
   "execution_count": 8,
   "metadata": {},
   "outputs": [
    {
     "name": "stdout",
     "output_type": "stream",
     "text": [
      "ws\n",
      " [-7.64143784e-05 -7.61722482e-05  5.00090495e-01]\n",
      "history\n",
      " [2.85821915 1.20117115 0.6078505  0.39202171 0.31120951 0.27940259\n",
      " 0.26586639 0.25946718 0.25606966 0.2540695  0.25279927 0.25195282\n",
      " 0.25137279 0.25096911 0.25068577 0.25048595 0.25034465 0.25024458\n",
      " 0.25017363 0.2501233  0.25008757 0.25006221 0.2500442  0.2500314\n",
      " 0.25002231 0.25001586 0.25001127 0.25000801 0.25000569 0.25000404\n",
      " 0.25000287 0.25000204 0.25000145 0.25000103 0.25000073 0.25000052\n",
      " 0.25000037 0.25000026 0.25000019 0.25000013 0.25000009 0.25000007\n",
      " 0.25000005 0.25000003 0.25000002 0.25000002 0.25000001 0.25000001\n",
      " 0.25000001 0.25       0.25      ]\n"
     ]
    }
   ],
   "source": [
    "grad_loss = lambda ws: grad_mse(ws, m1, gradients1, X, Y)\n",
    "K = 50;\n",
    "learning_eps = 0.5;\n",
    "ws, history = grad_desc_mse(K, ws0, learning_eps, mse1, grad_loss, True)\n",
    "print(\"ws\\n\",ws)\n",
    "print(\"history\\n\",np.array(history))"
   ]
  },
  {
   "cell_type": "code",
   "execution_count": 9,
   "metadata": {
    "scrolled": true
   },
   "outputs": [
    {
     "data": {
      "image/png": "[encoded data removed]",
      "text/plain": [
       "<Figure size 432x288 with 1 Axes>"
      ]
     },
     "metadata": {
      "needs_background": "light"
     },
     "output_type": "display_data"
    }
   ],
   "source": [
    "plt.plot(np.arange(len(history)),history)\n",
    "plt.show()"
   ]
  },
  {
   "cell_type": "code",
   "execution_count": 10,
   "metadata": {},
   "outputs": [
    {
     "name": "stdout",
     "output_type": "stream",
     "text": [
      "my_xor1 0 0 1\n",
      "my_xor1 0 1 1\n",
      "my_xor1 1 0 1\n",
      "my_xor1 1 1 0\n"
     ]
    }
   ],
   "source": [
    "my_xor1 = lambda x1, x2: round(ws[0]*x1 + ws[1]*x2 + ws[2])\n",
    "for i in range(4):\n",
    "    print(\"my_xor1\", X[i,0],X[i,1], my_xor1( X[i,0],X[i,1]))\n"
   ]
  },
  {
   "cell_type": "code",
   "execution_count": 11,
   "metadata": {},
   "outputs": [],
   "source": [
    "def accuracy(X,Y,f):\n",
    "    correct = 0\n",
    "    for i in range(X.shape[0]):\n",
    "        y = f(X[i,0],X[i,1])\n",
    "        if y==Y[i]:\n",
    "            correct = correct +1\n",
    "        else:\n",
    "            print(X[i,0],X[i,1], \"is\", y,\"but should be\",Y[i])\n",
    "    return correct/X.shape[0]\n"
   ]
  },
  {
   "cell_type": "code",
   "execution_count": 12,
   "metadata": {},
   "outputs": [
    {
     "name": "stdout",
     "output_type": "stream",
     "text": [
      "0 0 is 1 but should be 0\n",
      "accuracy: 0.75\n"
     ]
    }
   ],
   "source": [
    "a=accuracy(X,Y,my_xor1)\n",
    "print(\"accuracy:\",a)"
   ]
  },
  {
   "cell_type": "code",
   "execution_count": 13,
   "metadata": {},
   "outputs": [],
   "source": [
    "f = lambda x1, x2: ws[0]*x1 + ws[1]*x2+ws[2]\n",
    "\n",
    "def plot3d(f, A, B):\n",
    "    Z = np.zeros(A.shape)\n",
    "    for row in range(A.shape[0]):\n",
    "        for col in range(A.shape[1]):\n",
    "            Z[row,col] = f(A[row,col],B[row,col])\n",
    "    fig, ax = plt.subplots(subplot_kw={\"projection\": \"3d\"})\n",
    "    surf = ax.plot_surface(A, B, Z, cmap=cm.coolwarm, linewidth=0, antialiased=False)\n",
    "    "
   ]
  },
  {
   "cell_type": "code",
   "execution_count": 14,
   "metadata": {},
   "outputs": [
    {
     "data": {
      "image/png": "[encoded data removed]",
      "text/plain": [
       "<Figure size 432x288 with 1 Axes>"
      ]
     },
     "metadata": {
      "needs_background": "light"
     },
     "output_type": "display_data"
    }
   ],
   "source": [
    "interval = np.arange(0,1.1,.1)\n",
    "x1,x2 = np.meshgrid(interval,interval)\n",
    "plot3d(f,x1,x2)"
   ]
  },
  {
   "cell_type": "markdown",
   "metadata": {},
   "source": [
    "## Model 2: linear, one layer, sigmoid activation function "
   ]
  },
  {
   "cell_type": "markdown",
   "metadata": {},
   "source": [
    "The second model is still a (too) simple Neural Network model. As model $m_1$, it consists of one neuron connected to the input $x_1$ and $x_2$ but it uses a sigmoid activation function $s(x)=\\frac{1}{1+e^{-x}}$. \n",
    "The cell body still implements $m_1(\\mathbf w, b, x) = w_1x_1+w_2x_2+b$, the whole model $m_2$ implements:\n",
    "\n",
    "$$m_2(\\mathbf w, b, x)=\\frac{1}{1+e^{-m_1(\\mathbf w, b, x)}}$$"
   ]
  },
  {
   "cell_type": "markdown",
   "metadata": {},
   "source": [
    "Note that we just plug in $m_1$ into $m_2$ and $m_2$ into the loss function $MSE$ to obtain the new composite model and loss functions."
   ]
  },
  {
   "cell_type": "code",
   "execution_count": 15,
   "metadata": {},
   "outputs": [],
   "source": [
    "s = lambda x: 1.0 / (1.0 + np.exp(-x))\n",
    "m2 = lambda ws,x: s(m1(ws,x))\n",
    "mse2 = lambda ws: mse(ws,m2,X,Y)"
   ]
  },
  {
   "cell_type": "markdown",
   "metadata": {},
   "source": [
    "As we use the same initialization, we can assess $MSE$ for $m_2$ and this initial weights setting."
   ]
  },
  {
   "cell_type": "code",
   "execution_count": 16,
   "metadata": {
    "scrolled": false
   },
   "outputs": [
    {
     "name": "stdout",
     "output_type": "stream",
     "text": [
      "0.3272533006274785\n"
     ]
    }
   ],
   "source": [
    "print(mse2(ws0))"
   ]
  },
  {
   "cell_type": "markdown",
   "metadata": {},
   "source": [
    "For model $m_2$, the gradient of $MSE(\\mathbf w,b)$ for any $\\mathbf w, b$ is almost identical as before. We just plug in $m_2$ instead of $m_1$ and $m_2'$ instead of $m_1'$:\n",
    "\n",
    "$$\n",
    "\\begin{aligned}\n",
    "\\nabla MSE(\\vec w,b) &= -\\frac{1}{2} \\left [ \n",
    "\\sum_{i=1}^{4}(y_i- m_2(\\mathbf w,b,x_i))\\frac{\\partial m_2(\\mathbf w,b,x_i)}{\\partial w_1},\n",
    "\\sum_{i=1}^{4}(y_i- m_2(\\mathbf w,b,x_i))\\frac{\\partial m_2(\\mathbf w,b,x_i)}{\\partial w_2},\n",
    "\\sum_{i=1}^{4}(y_i- m_2(\\mathbf w,b,x_i))\\frac{\\partial m_2(\\mathbf w,b,x_i)}{\\partial b}\n",
    "\\right ]^T \\\\\n",
    "\\end{aligned}\n",
    "$$"
   ]
  },
  {
   "cell_type": "markdown",
   "metadata": {},
   "source": [
    "Let $s(x)=\\frac{1}{1+e^{-x}}$. Then $\\frac{\\partial s(x)}{\\partial x} = s(x)s(1-x)$, see the [details here](https://towardsdatascience.com/derivative-of-the-sigmoid-function-536880cf918e).\n",
    "\n",
    "$$\n",
    "\\begin{aligned}\n",
    "\\frac{\\partial m_2(\\mathbf w,b,x_i)}{\\partial \\mathbf w, b} \n",
    "&=\\frac{\\partial s(m_1(\\mathbf w,b,x_i))}{\\partial \\mathbf w, b} \\\\\n",
    "&=s(m_1(\\mathbf w,b,x_i))s(1-m_1(\\mathbf w,b,x_i))\\frac{\\partial m_1(\\mathbf w,b,x_i)}{\\partial \\mathbf w, b} \\\\\n",
    "\\end{aligned}\n",
    "$$"
   ]
  },
  {
   "cell_type": "markdown",
   "metadata": {},
   "source": [
    "We can plug in the function $m_1$ and the first derivative of $m_1$ wrt. $w_1, w_2,$ and $b$, resp., as computed before.\n",
    "\n",
    "$$\n",
    "\\begin{aligned}\n",
    "\\frac{\\partial m_1(\\mathbf w,b,x_i)}{\\partial w_j} &=\\frac{\\partial(\\sum_{j=1}^{2} w_jx_{ij})+b}{\\partial w_j} = x_{ij}\\\\\n",
    "\\frac{\\partial m_1(\\mathbf w,b,x_i)}{\\partial b} &=\\frac{\\partial(\\sum_{j=1}^{2} w_jx_{ij})+b}{\\partial b} = 1\\\\\n",
    "\\end{aligned}\n",
    "$$"
   ]
  },
  {
   "cell_type": "markdown",
   "metadata": {},
   "source": [
    "We have already defined the function $m_1$, the functions of the first derivative of $m_1$ wrt. $w_1, w_2,$ and $b$, resp, and the sigmoid activation function $f$. The gradient calculation depends of these functions and the gradient descent method does not change either. We just need to pulg together the new neural network:"
   ]
  },
  {
   "cell_type": "code",
   "execution_count": 17,
   "metadata": {},
   "outputs": [],
   "source": [
    "gradients2 = [lambda ws,x: s(m1(ws,x)) *s(1-m1(ws,x))*gradients1[0](ws,x),\n",
    "              lambda ws,x: s(m1(ws,x)) *s(1-m1(ws,x))*gradients1[1](ws,x),\n",
    "              lambda ws,x: s(m1(ws,x)) *s(1-m1(ws,x))*gradients1[2](ws,x)]"
   ]
  },
  {
   "cell_type": "code",
   "execution_count": 18,
   "metadata": {
    "scrolled": false
   },
   "outputs": [
    {
     "name": "stdout",
     "output_type": "stream",
     "text": [
      "ws\n",
      " [-0.02754347  0.01134317  0.01028174]\n",
      "\n",
      "history\n",
      " [0.3272533006274785, 0.2971819459026664, 0.27383948457410856, 0.2616273789021809, 0.2572616433547416, 0.2557393818122032, 0.25490316085983933, 0.2542463597392265, 0.2536793352163198, 0.2531844469228599, 0.25275362113190153, 0.25237974712573097, 0.25205604588392916, 0.2517762395982406, 0.251534656071834, 0.2513262461779373, 0.2511465568830785, 0.25099168550939366, 0.25085822755071463, 0.2507432238134737, 0.25064410965370365, 0.25055866765238805, 0.25048498433424204, 0.2504214111228228, 0.25036652948208793, 0.2503191200501367, 0.2502781354885234, 0.2502426767290353, 0.2502119722855291, 0.2501853603019829, 0.2501622730227686, 0.25014222339266134, 0.2501247935190515, 0.2501096247550052, 0.2500964091877698, 0.2500848823421272, 0.25007481693109557, 0.2500660175076163, 0.2500583158899136, 0.25005156725020755, 0.25004564677149393, 0.2500404467903027, 0.2500358743548726, 0.2500318491382018, 0.25002830165410883, 0.2500251717319316, 0.25002240721193736, 0.2500199628290576, 0.2500177992573102, 0.2500158822913376, 0.2500141821449645]\n"
     ]
    }
   ],
   "source": [
    "grad_loss = lambda ws: grad_mse(ws, m2, gradients2, X, Y)\n",
    "K = 50;\n",
    "learning_eps = 2;\n",
    "ws, history = grad_desc_mse(K, ws0, learning_eps, mse2, grad_loss, False)\n",
    "print(\"ws\\n\", ws)\n",
    "print(\"\\nhistory\\n\", history)"
   ]
  },
  {
   "cell_type": "code",
   "execution_count": 19,
   "metadata": {},
   "outputs": [
    {
     "data": {
      "image/png": "[encoded data removed]",
      "text/plain": [
       "<Figure size 432x288 with 1 Axes>"
      ]
     },
     "metadata": {
      "needs_background": "light"
     },
     "output_type": "display_data"
    }
   ],
   "source": [
    "plt.plot(np.arange(len(history)),history)\n",
    "plt.show()"
   ]
  },
  {
   "cell_type": "code",
   "execution_count": 20,
   "metadata": {},
   "outputs": [
    {
     "name": "stdout",
     "output_type": "stream",
     "text": [
      "my_xor2 0 0 1\n",
      "my_xor2 0 1 1\n",
      "my_xor2 1 0 0\n",
      "my_xor2 1 1 0\n",
      "0 0 is 1 but should be 0\n",
      "1 0 is 0 but should be 1\n",
      "acc: 0.5\n"
     ]
    }
   ],
   "source": [
    "my_xor2 = lambda x1, x2: round( s(ws[0]*x1 + ws[1]*x2 + ws[2]))\n",
    "for i in range(4):\n",
    "    print(\"my_xor2\", X[i,0],X[i,1], my_xor2( X[i,0],X[i,1]))\n",
    "a=accuracy(X,Y,my_xor2)\n",
    "print(\"acc:\",a)"
   ]
  },
  {
   "cell_type": "code",
   "execution_count": 21,
   "metadata": {},
   "outputs": [
    {
     "data": {
      "image/png": "[encoded data removed]",
      "text/plain": [
       "<Figure size 432x288 with 1 Axes>"
      ]
     },
     "metadata": {
      "needs_background": "light"
     },
     "output_type": "display_data"
    }
   ],
   "source": [
    "f = lambda x1, x2: (s(ws[0]*x1 + ws[1]*x2 + ws[2]))\n",
    "interval = np.arange(0,1.1,.1)\n",
    "A,B = np.meshgrid(interval,interval)\n",
    "plot3d(f, A, B) "
   ]
  },
  {
   "cell_type": "markdown",
   "metadata": {},
   "source": [
    "Not much changes as the co-domain of $m_1$ is just in the domain of the sigmoid activation function $s$ where it is almost linear."
   ]
  },
  {
   "cell_type": "markdown",
   "metadata": {},
   "source": [
    "## Model 3: one hidden layer with linear and one output layer with sigmoid activation"
   ]
  },
  {
   "cell_type": "markdown",
   "metadata": {},
   "source": [
    "The third model adds a hidden layer of 32 neurons with linear activation function. Each of these neurons uses the three parameters $w_1, w_2, b$. As before, all parameters are captured in the parameter array `ws`. The parameters for each neuron are at different positions in this array. Let's define the model $m_3$ with hidden and output layers and the corresponding loss function $MSE$."
   ]
  },
  {
   "cell_type": "markdown",
   "metadata": {},
   "source": [
    "We initialize the weight vector:"
   ]
  },
  {
   "cell_type": "code",
   "execution_count": 22,
   "metadata": {},
   "outputs": [],
   "source": [
    "def hidden_layer(ws,x,n):\n",
    "    y = np.zeros(n)\n",
    "    for i in range(n):\n",
    "        i1 = (i)*3\n",
    "        i2 = (i)*3+1\n",
    "        i3 = (i)*3+2\n",
    "        y[i] = ws[i1]*x[0]+ws[i2]*x[1]+ws[i3] # as m1 before\n",
    "    return y"
   ]
  },
  {
   "cell_type": "code",
   "execution_count": 23,
   "metadata": {},
   "outputs": [],
   "source": [
    "n=32\n",
    "#weights indices for the output layer n*3+1=97:n*3+n=128\n",
    "#bias index for for the output layer n*3+n+1=129\n",
    "mo = lambda ws,x: np.dot( hidden_layer(ws,x,n), ws[n*3:n*4]) + ws[n*4]\n",
    "m3 = lambda ws,x: s(mo(ws,x))\n",
    "mse3 = lambda ws: mse(ws,m3,X,Y)"
   ]
  },
  {
   "cell_type": "code",
   "execution_count": 24,
   "metadata": {},
   "outputs": [],
   "source": [
    "ws0 = np.zeros(n*3+n+1)#129\n",
    "_in = 2;\n",
    "out = 1;\n",
    "limit = np.sqrt(6 / (_in + out));\n",
    "for i in range(n):\n",
    "    i1 = i*3\n",
    "    i2 = i*3+1\n",
    "    i3 = i*3+2\n",
    "    ws0[i1] = rng.random()*2*limit-limit;\n",
    "    ws0[i2] = rng.random()*2*limit-limit;\n",
    "    ws0[i3] = 0;\n",
    "_in = n;\n",
    "out = 1;\n",
    "limit = np.sqrt(6 / (_in + out))\n",
    "\n",
    "for i in range(n*3,n*3+n):\n",
    "    ws0[i] = rng.random()*2*limit-limit;\n",
    "\n",
    "# print(ws0)"
   ]
  },
  {
   "cell_type": "code",
   "execution_count": 25,
   "metadata": {},
   "outputs": [
    {
     "data": {
      "text/plain": [
       "0.25135529389852146"
      ]
     },
     "execution_count": 25,
     "metadata": {},
     "output_type": "execute_result"
    }
   ],
   "source": [
    "mse3(ws0)"
   ]
  },
  {
   "cell_type": "markdown",
   "metadata": {},
   "source": [
    "Even for model the $m_3$ the gradient of $MSE({\\mathbf{ws}}_o,{\\mathbf{ws}}_h)$ for any weight ${\\mathbf{ws}}_o,{\\mathbf{ws}}_h$ of the output and hidden layers, resp., is almost identical as before. We just plug in $m_3$ instead of $m_2$ and $m_3'$ instead of $m_2'$:\n",
    "\n",
    "$$\n",
    "\\begin{aligned}\n",
    "\\nabla MSE({\\mathbf{ws}}_o,{\\mathbf{ws}}_h) &= -\\frac{1}{2} \\left [ \n",
    "\\sum_{i=1}^{4}(y_i- m_3({\\mathbf{ws}}_o,{\\mathbf{ws}}_h)\\frac{\\partial m_3({\\mathbf{ws}}_o,{\\mathbf{ws}}_h,x_i)}{\\partial {\\mathbf{ws}}_o,{\\mathbf{ws}}_h}\\right ]^T \\\\\n",
    "\\frac{\\partial m_3({\\mathbf{ws}}_o,{\\mathbf{ws}}_h,x_i)}{\\partial ({\\mathbf{ws}}_o,{\\mathbf{ws}}_h)} \n",
    "&=\\frac{\\partial s(m_o(\\vec{\\mathit{ws}}_o,\\vec{\\mathit{ws}}_h,x_i))}{\\partial ({\\mathbf{ws}}_o,{\\mathbf{ws}}_h)} \\\\\n",
    "&=s(m_o({\\mathbf{ws}}_o,{\\mathbf{ws}}_h,x_i))s(1-m_o({\\mathbf{ws}}_o,{\\mathbf{ws}}_h,x_i))\\frac{\\partial m_o({\\mathbf{ws}}_o,{\\mathbf{ws}}_h,x_i)}{\\partial ({\\mathbf{ws}}_o,{\\mathbf{ws}}_h)} \\\\\n",
    "\\frac{\\partial m_o({\\mathbf{ws}}_o,{\\mathbf{ws}}_h,x_i)}{\\partial ({\\mathbf{ws}}_o,{\\mathbf{ws}}_h)}\n",
    "&=\\frac{\\partial \\sum_{k=1}^{n} (m_1({\\mathbf{ws}}_{h,3(k-1)+1:2},{\\mathbf{ws}}_{h,3(k-1)+3},x_i){\\mathbf{ws}}_{o,k}) + {\\mathbf{ws}}_{o,n+1}}{\\partial ({\\mathbf{ws}}_o,{\\mathbf{ws}}_h)}\n",
    "\\end{aligned}\n",
    "$$"
   ]
  },
  {
   "cell_type": "markdown",
   "metadata": {},
   "source": [
    "The term ${\\mathbf{ws}}_{o,k}$  selects the $k$ weights of the output layer and the term ${\\mathbf{ws}}_{o, k+1}$ selects the bias $b$ from the vector ${\\mathbf{ws}_o}$. \n",
    "The term ${\\mathbf{ws}}_{h,3(k-1)+1:2}$ selects the two weights $\\mathbf w_{k,1}$ and $\\mathbf w_{k,2}$ of the $k$-th neuron in the hidden layer, and the term ${\\mathbf{ws}}_{h,3(k-1)+3}$ selects the $k$-th bias $\\mathbf b_k$ from the vector ${\\mathbf{ws}_h}$. \n",
    "\n",
    "The gradients wrt. the parameters of the hidden layer are\n",
    "\n",
    "$$\n",
    "\\begin{aligned}\n",
    "\\frac{\\partial m_o(\\mathbf{ws}_o,\\mathbf{ws}_h,x_i)}{\\partial {\\mathbf{ws}}_{h,3(k-1)+j}}\n",
    "&=\n",
    "\\begin{cases}\n",
    "  \\frac{\\partial m_1(\\mathbf{w}_k,b_k,x_i)}{\\partial \\mathbf{w}_{k,j}}\\mathbf{ws}_{o,k}, & \\text{if}\\ j=1,2 \\\\\n",
    "  \\frac{\\partial m_1(\\mathbf{w}_k,b_k,x_i)}{\\partial b_k}\\mathbf{ws}_{o,k}, & \\text{if}\\ j=3 \n",
    "\\end{cases}\n",
    "\\end{aligned}\n",
    "$$\n",
    "\n",
    "Since the cell function of the hidden layer is $m_1$, we can plug in the first derivative of $m_1$ wrt. $w_1, w_2,$ and $b$, resp., as computed before.\n",
    "\n",
    "$$\n",
    "\\begin{aligned}\n",
    "\\frac{\\partial m_1(\\mathbf w,b,x_i)}{\\partial w_j} &=\\frac{\\partial(\\sum_{j=1}^{2} w_jx_{ij})+b}{\\partial w_j} = x_{ij}\\\\\n",
    "\\frac{\\partial m_1(\\mathbf w,b,x_i)}{\\partial b} &=\\frac{\\partial(\\sum_{j=1}^{2} w_jx_{ij})+b}{\\partial b} = 1\\\\\n",
    "\\end{aligned}\n",
    "$$\n",
    "\n",
    "The gradients wrt. the weights and the bias, resp., of the output layer are\n",
    "\n",
    "$$\n",
    "\\begin{aligned}\n",
    "\\frac{\\partial m_o({\\mathbf{ws}}_o,{\\mathbf{ws}}_h,x_i)}{\\partial {\\mathbf{ws}}_{o,k}}\n",
    "&= m_1(\\vec{w_k},b_k,x_i)\\\\\n",
    "\\frac{\\partial m_o({\\mathbf{ws}}_o,{\\mathbf{ws}}_h,x_i)}{\\partial {\\mathbf{ws}}_{o,n+1}}\n",
    "&= 1\n",
    "\\end{aligned}\n",
    "$$"
   ]
  },
  {
   "cell_type": "code",
   "execution_count": 26,
   "metadata": {},
   "outputs": [],
   "source": [
    "# parameters (weights and bias) hidden layer\n",
    "gradients3 = []\n",
    "model1 = []\n",
    "for k in range(n):\n",
    "    i1 = 3*k;\n",
    "    i2 = 3*k+1;\n",
    "    i3 = 3*k+2;\n",
    "    gradients3.extend([lambda ws,x,k=k: s(mo(ws,x)) * s(1-mo(ws,x)) * x[0] * ws[3*n+k], #gradients1{1}=x(1),\n",
    "                  lambda ws,x,k=k: s(mo(ws,x)) * s(1-mo(ws,x)) * x[1] * ws[3*n+k], #gradients1{2}=x(2),\n",
    "                  lambda ws,x,k=k: s(mo(ws,x)) * s(1-mo(ws,x)) * ws[3*n+k]]) #gradients1{3}=1]\n",
    "    model1.append(lambda ws,x, i1=i1, i2=i2, i3=i3: ws[i1] * x[0] + ws[i2] * x[1] + ws[i3])\n",
    "\n",
    "#weights output layer\n",
    "k=0;\n",
    "for i in range(3*n,4*n):\n",
    "    gradients3.append(lambda ws,x,k=k: s(mo(ws,x)) * s(1-mo(ws,x)) * model1[k](ws,x))\n",
    "    k=k+1\n",
    "\n",
    "#bias output layer\n",
    "gradients3.append(lambda ws,x: s(mo(ws,x))*s(1-mo(ws,x)))"
   ]
  },
  {
   "cell_type": "markdown",
   "metadata": {},
   "source": [
    "We are ready to compute the initial loss:"
   ]
  },
  {
   "cell_type": "code",
   "execution_count": 27,
   "metadata": {},
   "outputs": [
    {
     "data": {
      "image/png": "[encoded data removed]",
      "text/plain": [
       "<Figure size 432x288 with 1 Axes>"
      ]
     },
     "metadata": {
      "needs_background": "light"
     },
     "output_type": "display_data"
    }
   ],
   "source": [
    "grad_loss = lambda ws: grad_mse(ws, m3, gradients3, X, Y)\n",
    "K = 50\n",
    "learning_eps = .5\n",
    "ws, history = grad_desc_mse(K, ws0, learning_eps, mse3, grad_loss, False);\n",
    "plt.plot(range(len(history)),history)\n",
    "plt.show()"
   ]
  },
  {
   "cell_type": "code",
   "execution_count": 28,
   "metadata": {
    "scrolled": true
   },
   "outputs": [
    {
     "name": "stdout",
     "output_type": "stream",
     "text": [
      "my_xor3 0 0 1\n",
      "my_xor3 0 1 1\n",
      "my_xor3 1 0 1\n",
      "my_xor3 1 1 0\n",
      "0 0 is 1 but should be 0\n",
      "acc: 0.75\n"
     ]
    },
    {
     "data": {
      "image/png": "[encoded data removed]",
      "text/plain": [
       "<Figure size 432x288 with 1 Axes>"
      ]
     },
     "metadata": {
      "needs_background": "light"
     },
     "output_type": "display_data"
    }
   ],
   "source": [
    "my_xor3 = lambda x1, x2: round(m3(ws,[x1,x2]))\n",
    "\n",
    "for i in range(4):\n",
    "    print(\"my_xor3\", X[i,0],X[i,1], my_xor3( X[i,0],X[i,1]))\n",
    "a=accuracy(X,Y,my_xor3)\n",
    "print(\"acc:\",a)\n",
    "\n",
    "f = lambda x1, x2: m3(ws,np.array([x1,x2]).T)\n",
    "interval = np.arange(0,1.1,.1)\n",
    "A,B = np.meshgrid(interval,interval)\n",
    "plot3d(f, A, B) "
   ]
  },
  {
   "cell_type": "markdown",
   "metadata": {},
   "source": [
    "## Model 4: one hidden layer with relu and one output layer with sigmoid activation "
   ]
  },
  {
   "cell_type": "markdown",
   "metadata": {},
   "source": [
    "The final model uses the Rectified Linear Unit (ReLU) activation function $r(x)=\\max(0,x)$ in the hidden layer. Hence, the hidden layer neurons compute $\\max(0, w_1x_1+w_2x_2+b)=\\max(0,m_1(\\vec w,b,x))$. We can easily change the hidden layer function accordingly."
   ]
  },
  {
   "cell_type": "code",
   "execution_count": 29,
   "metadata": {},
   "outputs": [],
   "source": [
    "hidden_layer_4 = lambda ws,x,n: np.maximum(0, hidden_layer(ws,x,n))\n",
    "mo4 = lambda ws,x: np.dot(hidden_layer_4(ws,x,n), ws[n*3:n*3+n]) + ws[n*3+n]\n",
    "m4 = lambda ws,x: s(mo4(ws,x))\n",
    "mse4 = lambda ws: mse(ws,m4,X,Y)"
   ]
  },
  {
   "cell_type": "markdown",
   "metadata": {},
   "source": [
    "The network structure does not change, hence, the initialization remains the same as well. We can directly compute the initial loss:"
   ]
  },
  {
   "cell_type": "code",
   "execution_count": 30,
   "metadata": {},
   "outputs": [
    {
     "data": {
      "text/plain": [
       "0.22772032832996214"
      ]
     },
     "execution_count": 30,
     "metadata": {},
     "output_type": "execute_result"
    }
   ],
   "source": [
    "mse4(ws0)"
   ]
  },
  {
   "cell_type": "markdown",
   "metadata": {},
   "source": [
    "No surprise it is the same as for model $m_3$ as all weights and all input is positive."
   ]
  },
  {
   "cell_type": "markdown",
   "metadata": {},
   "source": [
    "As for the model $m_4$ itself, we need to subsitute $m_1(\\mathbf w,b,x)$ with $r(\\mathbf w,b,x)=\\max(0,m_1(\\mathbf w,b,x))$ and $m_1'(\\mathbf w,b,x)$ with $r'(m_1(\\mathbf w,b,x))m_1'(\\mathbf w,b,x)$.\n",
    "\n",
    "$$r'(z) = \\begin{cases}\n",
    "  0, & \\text{if}\\ z<0 \\\\\n",
    "  1, & \\text{if}\\ z>0 \n",
    "\\end{cases}\n",
    "$$\n",
    "\n",
    "Note that $r'(z)$ is undefined in $z=0$, since its left and right derivative are not equal for $z=0$. In practice , we pick $r'(0)=0$ as Tensorflow does. Consequently: \n",
    "\n",
    "$$r'(m_1(\\mathbf w,b,x))m_1'(\\mathbf w,b,x) = \\begin{cases}\n",
    "  0, & \\text{if}\\ m_1(\\mathbf w,b,x)\\leq 0 \\\\\n",
    "  m_1'(\\mathbf w,b,x), & \\text{if}\\ m_1(\\mathbf w,b,x)>0 \n",
    "\\end{cases}\n",
    "$$\n"
   ]
  },
  {
   "cell_type": "code",
   "execution_count": 31,
   "metadata": {},
   "outputs": [],
   "source": [
    "def ite(cond, tc, fc):\n",
    "    if (cond):\n",
    "        res = tc;\n",
    "    else:\n",
    "        res = fc;\n",
    "    return res"
   ]
  },
  {
   "cell_type": "code",
   "execution_count": 32,
   "metadata": {},
   "outputs": [],
   "source": [
    "# parameters (wights and bias) hidden layer\n",
    "model1 = []\n",
    "gradients4=[]\n",
    "for k in range(n):\n",
    "    i1 = 3*(k)\n",
    "    i2 = 3*(k)+1\n",
    "    i3 = 3*(k)+2\n",
    "    model1.append(lambda ws,x,i1=i1,i2=i2,i3=i3: max(0,np.amax(ws[i1]*x[0]+ws[i2]*x[1]+ws[i3])))\n",
    "    gradients4.extend( [lambda ws,x,k=k: s(mo4(ws,x))*s(1-mo4(ws,x))*ite(model1[k](ws,x)<=0, 0, x[0]) * ws[3*n+k],\n",
    "                        lambda ws,x,k=k: s(mo4(ws,x))*s(1-mo4(ws,x))*ite(model1[k](ws,x)<=0, 0, x[1]) * ws[3*n+k],\n",
    "                        lambda ws,x,k=k: s(mo4(ws,x))*s(1-mo4(ws,x))*ite(model1[k](ws,x)<=0, 0, 1)    * ws[3*n+k]])\n",
    "#weights output layer\n",
    "k=0;\n",
    "for i in range(3*n,4*n):\n",
    "    gradients4.append( lambda ws,x,k=k: s(mo4(ws,x))*s(1-mo4(ws,x))*max(0,np.amax(model1[k](ws,x))))\n",
    "    k=k+1;\n",
    "\n",
    "#bias output layer\n",
    "gradients4.append(lambda ws,x: s(mo4(ws,x))*s(1-mo4(ws,x)))"
   ]
  },
  {
   "cell_type": "code",
   "execution_count": 33,
   "metadata": {},
   "outputs": [
    {
     "data": {
      "image/png": "[encoded data removed]",
      "text/plain": [
       "<Figure size 432x288 with 1 Axes>"
      ]
     },
     "metadata": {
      "needs_background": "light"
     },
     "output_type": "display_data"
    }
   ],
   "source": [
    "grad_loss = lambda ws: grad_mse(ws, m4, gradients4, X, Y)\n",
    "K = 500;\n",
    "learning_eps = 1.5;\n",
    "ws, history = grad_desc_mse(K, ws, learning_eps, mse4, grad_loss, False)\n",
    "plt.plot(range(len(history)),history)\n",
    "plt.show()"
   ]
  },
  {
   "cell_type": "code",
   "execution_count": 34,
   "metadata": {
    "scrolled": true
   },
   "outputs": [
    {
     "name": "stdout",
     "output_type": "stream",
     "text": [
      "my_xor4 0 0 0\n",
      "my_xor4 0 1 1\n",
      "my_xor4 1 0 1\n",
      "my_xor4 1 1 1\n",
      "acc: 1.0\n"
     ]
    },
    {
     "data": {
      "image/png": "[encoded data removed]",
      "text/plain": [
       "<Figure size 432x288 with 1 Axes>"
      ]
     },
     "metadata": {
      "needs_background": "light"
     },
     "output_type": "display_data"
    }
   ],
   "source": [
    "my_xor4 = lambda x1, x2: round(m4(ws,[x1,x2]))\n",
    "\n",
    "for i in range(4):\n",
    "    print(\"my_xor4\", X[i,0],X[i,1], my_xor2( X[i,0],X[i,1]))\n",
    "a=accuracy(X,Y,my_xor4)\n",
    "print(\"acc:\",a)\n",
    "\n",
    "f = lambda x1, x2: m4(ws,[x1,x2])\n",
    "interval = np.arange(0,1.1,.1)\n",
    "A,B = np.meshgrid(interval,interval)\n",
    "plot3d(f, A, B) "
   ]
  },
  {
   "cell_type": "markdown",
   "metadata": {},
   "source": [
    "## Comparison with Model 4 learned with Tensorflow"
   ]
  },
  {
   "cell_type": "markdown",
   "metadata": {},
   "source": [
    "Weights of the hidden layer (manually copied):"
   ]
  },
  {
   "cell_type": "markdown",
   "metadata": {},
   "source": [
    "Weights of the output layer manually copied:"
   ]
  },
  {
   "cell_type": "code",
   "execution_count": 35,
   "metadata": {},
   "outputs": [],
   "source": [
    "ws = np.array([0.4165,0.4166,-0.4165,0.7749,-0.7749,-0.0000,0.8378,-0.8377,-0.0000,0.6412,-0.6410,-0.0000,0.3972,0.4098,-0.0001,-0.1352,-0.0922,0,-0.6043,0.6043,0.0000,-0.2029,-0.0989,0,-0.7233,0.7417,-0.0016,-0.3532,-0.0898,0,-0.8890,1.1195,-0.0006,-0.2864,0.1329,-0.1479,0.5403,0.5400,-0.5399,0.3718,0.3717,-0.3718,-0.8237,0.8246,-0.0006,-0.3350,-0.4357,1.1574,-0.8567,0.8568,-0.0001,0.5161,0.5162,-0.5161,-0.2546,-0.4190,0,0.5956,-0.5953,-0.0002,0.8092,-0.8092,-0.0001,0.0025,-0.3767,-0.0225,0.3720,0.2882,0.0000,-0.1701,-0.3812,0,0.3481,0.3483,-0.3483,-0.3833,0.1525,-0.1667,-0.1724,-0.2506,0,0.7133,-0.7133,-0.0000,-0.1465,-0.3041,0,-0.1788,-0.3443,0,-0.6636,0.6634,0.0001,-0.3972,-0.0385,0,-0.8178,1.0260,0.7672,0.9984,0.3301,0.1319,0.9221,0.2039,1.0058,0.2067,0.7480,-0.2558,-0.8314,-0.9526,0.9463,-1.0113,0.5946,-1.0231,-0.0410,0.9589,0.7448,-0.1044,0.2573,0.3014,-0.8235,-0.2117,-0.2832,1.0406,0.4091,0.3733,0.8760,0.1910,-0.8885])"
   ]
  },
  {
   "cell_type": "markdown",
   "metadata": {},
   "source": [
    "Replace the learned weights of model $m_4$ with the copied weights and assess the function:"
   ]
  },
  {
   "cell_type": "code",
   "execution_count": 36,
   "metadata": {},
   "outputs": [
    {
     "name": "stdout",
     "output_type": "stream",
     "text": [
      "my_xor5 0 0 0.0\n",
      "my_xor5 0 1 1.0\n",
      "my_xor5 1 0 1.0\n",
      "my_xor5 1 1 0.0\n",
      "acc: 1.0\n"
     ]
    },
    {
     "data": {
      "image/png": "[encoded data removed]",
      "text/plain": [
       "<Figure size 432x288 with 1 Axes>"
      ]
     },
     "metadata": {
      "needs_background": "light"
     },
     "output_type": "display_data"
    }
   ],
   "source": [
    "my_xor5 = lambda x1, x2: np.round(m4(ws,[x1,x2]))\n",
    "\n",
    "for i in range(4):\n",
    "    print(\"my_xor5\", X[i,0],X[i,1], my_xor5( X[i,0],X[i,1]))\n",
    "a=accuracy(X,Y,my_xor5)\n",
    "print(\"acc:\",a)\n",
    "\n",
    "f = lambda x1, x2: m4(ws,[x1,x2])\n",
    "interval = np.arange(0,1.1,.1)\n",
    "A,B = np.meshgrid(interval,interval)\n",
    "plot3d(f, A, B) "
   ]
  },
  {
   "cell_type": "code",
   "execution_count": null,
   "metadata": {},
   "outputs": [],
   "source": []
  }
 ],
 "metadata": {
  "kernelspec": {
   "display_name": "Python 3",
   "language": "python",
   "name": "python3"
  },
  "language_info": {
   "codemirror_mode": {
    "name": "ipython",
    "version": 3
   },
   "file_extension": ".py",
   "mimetype": "text/x-python",
   "name": "python",
   "nbconvert_exporter": "python",
   "pygments_lexer": "ipython3",
   "version": "3.7.10"
  },
  "varInspector": {
   "cols": {
    "lenName": 16,
    "lenType": 16,
    "lenVar": 40
   },
   "kernels_config": {
    "python": {
     "delete_cmd_postfix": "",
     "delete_cmd_prefix": "del ",
     "library": "var_list.py",
     "varRefreshCmd": "print(var_dic_list())"
    },
    "r": {
     "delete_cmd_postfix": ") ",
     "delete_cmd_prefix": "rm(",
     "library": "var_list.r",
     "varRefreshCmd": "cat(var_dic_list()) "
    }
   },
   "position": {
    "height": "626px",
    "left": "926px",
    "right": "20px",
    "top": "120px",
    "width": "373px"
   },
   "types_to_exclude": [
    "module",
    "function",
    "builtin_function_or_method",
    "instance",
    "_Feature"
   ],
   "window_display": false
  }
 },
 "nbformat": 4,
 "nbformat_minor": 2
}
