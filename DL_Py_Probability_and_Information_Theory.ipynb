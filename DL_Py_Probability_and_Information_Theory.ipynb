{
 "cells": [
  {
   "cell_type": "markdown",
   "metadata": {},
   "source": [
    "# Probability and Information Theory"
   ]
  },
  {
   "cell_type": "markdown",
   "metadata": {},
   "source": [
    "## Steps"
   ]
  },
  {
   "cell_type": "markdown",
   "metadata": {},
   "source": [
    "1. Understand the problem and the mathematical model and generate data\n",
    "2. Load the (generated) data and get an overview\n",
    "3. Try to fit parametric probability distributions\n",
    "4. Joint  and conditional probabilities, chain rule and Bayes' Theorem\n",
    "5. Self-entropy of an event and entropy of a distribution"
   ]
  },
  {
   "cell_type": "markdown",
   "metadata": {},
   "source": [
    "## Understand the problem and the mathematical model and generate data"
   ]
  },
  {
   "cell_type": "markdown",
   "metadata": {},
   "source": [
    "From [1] we learned the following simplified model for simulating and understanding the spreading of diseases. "
   ]
  },
  {
   "cell_type": "markdown",
   "metadata": {},
   "source": [
    "![Epidemic process](img/epidemic_process.png)"
   ]
  },
  {
   "cell_type": "markdown",
   "metadata": {},
   "source": [
    "A fraction of $\\beta$ of the susceptible indivisuals $S$ gets infected each unit of time, say each day. A fraction $\\mu$ of the infected recover. A simple generalization is a third parameter $\\nu$ and the assumption that only $\\nu\\mu$ individuals recover, while ${1-\\nu}\\mu$ individuals die.\n",
    "\n",
    "This leads to the following system of ordinary differencial equations (ODEs):\n",
    "\n",
    "\\begin{align}\n",
    "\\frac{\\delta S}{\\delta t} & = -\\beta S(t)I(t)\\\\\n",
    "\\frac{\\delta I}{\\delta t} & = \\beta S(t)I(t) -\\mu I(t)\\\\\n",
    "\\frac{\\delta R}{\\delta t} & = \\nu\\mu I(t)\\\\\n",
    "\\frac{\\delta D}{\\delta t} & = (1-\\nu)\\mu I(t)\n",
    "\\end{align}\n",
    "\n",
    "Given starting values of $S(0)=99, I(0)=1, R(0)=D(0)=0$ and parameter values for $\\beta=0.05\\%, \\mu=1.75\\%, \\nu=99\\%$, we can simulate this system of ODEs.\n",
    "\n",
    "In `Matlab`, we use the ordinary differencial equation solver `ode45`."
   ]
  },
  {
   "cell_type": "code",
   "execution_count": 122,
   "metadata": {},
   "outputs": [
    {
     "name": "stdout",
     "output_type": "stream",
     "text": [
      "Overwriting virusSpreading.m\n"
     ]
    }
   ],
   "source": [
    "%%file virusSpreading.m\n",
    "function res = virusSpreading(t, y, beta, mu, nu)\n",
    "    S=y(1);\n",
    "    I=y(2);\n",
    "    R=y(3);\n",
    "    D=y(4);\n",
    "    \n",
    "    res(1,1)=-beta*S*I;\n",
    "    res(2,1)=beta*S*I-mu*I;\n",
    "    res(3,1)=nu*mu*I;\n",
    "    res(4,1)=(1-nu)*mu*I;\n",
    "end"
   ]
  },
  {
   "cell_type": "code",
   "execution_count": 123,
   "metadata": {},
   "outputs": [
    {
     "name": "stdout",
     "output_type": "stream",
     "text": [
      "Overwriting simVirusSpreading.m\n"
     ]
    }
   ],
   "source": [
    "%%file simVirusSpreading.m\n",
    "function res = simVirusSpreading(beta, verbose)\n",
    "    S0 =99;\n",
    "    I0 =1;\n",
    "    R0 = 0;\n",
    "    D0 = 0;\n",
    "    y0 = [S0, I0, R0, D0]';\n",
    "    t_span = [0 500];\n",
    "    mu = 0.0175;\n",
    "    nu = 0.99;\n",
    "    [tSol, ySol] = ode45(@(t,y) virusSpreading(t, y, beta, mu, nu), t_span, y0);\n",
    "    if verbose\n",
    "        plot(tSol, ySol);\n",
    "        legend(\"Susceptible\",\"Infected\",\"Recovered\",\"Dead\");\n",
    "    end\n",
    "    res = [tSol, ySol];\n",
    "end"
   ]
  },
  {
   "cell_type": "code",
   "execution_count": 124,
   "metadata": {},
   "outputs": [
    {
     "ename": "SyntaxError",
     "evalue": "invalid syntax (<ipython-input-124-6c312e9a134f>, line 1)",
     "output_type": "error",
     "traceback": [
      "\u001b[0;36m  File \u001b[0;32m\"<ipython-input-124-6c312e9a134f>\"\u001b[0;36m, line \u001b[0;32m1\u001b[0m\n\u001b[0;31m    format compact\u001b[0m\n\u001b[0m                 ^\u001b[0m\n\u001b[0;31mSyntaxError\u001b[0m\u001b[0;31m:\u001b[0m invalid syntax\n"
     ]
    }
   ],
   "source": [
    "format compact\n",
    "beta = 0.0005; %0.05%\n",
    "simVirusSpreading(beta, true);"
   ]
  },
  {
   "cell_type": "markdown",
   "metadata": {},
   "source": [
    "Note that the development highly depends on the parameter $\\beta$. So, if all behave well, the infection risk drops and the infection spreading slows down. Inversely, if we misbehave and increase the risk of infection, the infection spreads faster. Here simulations with $\\beta = 0.03\\%$ and $\\beta = 0.07\\%$, respectively."
   ]
  },
  {
   "cell_type": "code",
   "execution_count": null,
   "metadata": {
    "scrolled": true
   },
   "outputs": [],
   "source": [
    "beta = 0.0003;\n",
    "simVirusSpreading(beta, true);"
   ]
  },
  {
   "cell_type": "code",
   "execution_count": null,
   "metadata": {},
   "outputs": [],
   "source": [
    "beta = 0.0007;\n",
    "simVirusSpreading(beta, true);"
   ]
  },
  {
   "cell_type": "markdown",
   "metadata": {},
   "source": [
    "Of course, the exact parameters values for $\\beta, \\mu, \\nu$ are not known but can only be approximated from observations. The ODE model is an abstraction of the real process, which depends on deterministic but unknown variables and randomness. Therefore, it makes sense to understand disease spreading as a **random process.**\n",
    "\n",
    "We will generate some observations from this process from different countries and then forget about the process and only work with the observations.\n",
    "\n",
    "Therefore, we assume that $\\beta$ distributes normally around a mean of $\\bar \\beta = 0.05\\%$ with a standard deviation of $\\sigma = 0.01\\%$. We generate the data for $50$ countries. However, we are only \"observing\" $8$ new features.\n",
    "\n",
    "1. The numbers $N_{50}, N_{150}, N_{300}$ of infected after $50, 150, 300$ days, resp. \n",
    "2. The corresponding numbers of new infections on that day $D_{50}, D_{150}, D_{300}$.\n",
    "3. The time $T_{peak}$ to peak infection.\n",
    "4. The total number of casulties $X_{500}$ after $500$ days."
   ]
  },
  {
   "cell_type": "code",
   "execution_count": null,
   "metadata": {
    "scrolled": true
   },
   "outputs": [],
   "source": [
    "countries = 150;\n",
    "verbose = false;\n",
    "export_raw_data = true;\n",
    "if verbose\n",
    "    countries=1;\n",
    "end\n",
    "if export_raw_data\n",
    "    raw_features = zeros(4*countries, 501);\n",
    "    raw_features(1,:) = 1:501;\n",
    "end\n",
    "features = zeros(countries,8);\n",
    "rng('default')  % For reproducibility\n",
    "betas = normrnd(0.0005,0.0001,[1,countries]);\n",
    "for i=1:countries\n",
    "    res = simVirusSpreading(betas(i), false);\n",
    "    times = res(:,1);\n",
    "    % Add randomness to the observations\n",
    "    rand_res = zeros(size(res,1),5);\n",
    "    rand_res(:,1) = times;\n",
    "    for j=2:5\n",
    "        rand_res(:,j) = arrayfun(@(x) normrnd(0,0.025*x)+x, res(:,j));\n",
    "    end\n",
    "    if verbose\n",
    "        fprintf(\"Beta = %.3f%%\\n\",betas(1)*100);\n",
    "        plot(times,[res(:,2) rand_res(:,2), res(:,3) rand_res(:,3),res(:,4) rand_res(:,4),res(:,5) rand_res(:,5)]);        \n",
    "    end\n",
    "    if export_raw_data\n",
    "        days = [0:500];\n",
    "        for var = 2:5\n",
    "            F = griddedInterpolant(rand_res(:,1),rand_res(:,var));\n",
    "            raw_features((i-1)*4+var,:)=F(days);\n",
    "        end\n",
    "    end\n",
    "    ti = times(times<=50);\n",
    "    n_50 = rand_res(length(ti),3);\n",
    "    d_50 = rand_res(length(ti),3) - rand_res(length(ti)-1,3);\n",
    "    ti = times(times<=150);\n",
    "    n_150 = rand_res(length(ti),3);\n",
    "    d_150 = rand_res(length(ti),3) - rand_res(length(ti)-1,3);\n",
    "    ti = times(times<=300);\n",
    "    n_300 = rand_res(length(ti),3);\n",
    "    d_300 = rand_res(length(ti),3) - rand_res(length(ti)-1,3);\n",
    "    [M,ii] = max(rand_res(:,3));\n",
    "    t_peak = times(ii);\n",
    "    if verbose\n",
    "        fprintf(\"n_50=%.4f, n_150=%.4f, n_300=%.4f\\nd_50=%.4f, d_150=%.4f, d_300=%.4f\\nt_peak=%.4f\\nx_500=%.4f\\n\",n_50, n_150, n_300, d_50, d_150, d_300, t_peak, rand_res(end,5) );\n",
    "    end\n",
    "    features(i,:)=[n_50, n_150, n_300, d_50, d_150, d_300, t_peak, rand_res(end,5)];\n",
    "end\n",
    "writematrix(features,'../2020 DL data/epidemic_process.csv');\n",
    "if export_raw_data\n",
    "    writematrix(raw_features,'../2020 DL data/epidemic_process_raw_data.csv');\n",
    "end"
   ]
  },
  {
   "cell_type": "markdown",
   "metadata": {},
   "source": [
    "## Load the (generated) data and get an overview"
   ]
  },
  {
   "cell_type": "markdown",
   "metadata": {},
   "source": [
    "This is your starting point. Load the observation data."
   ]
  },
  {
   "cell_type": "code",
   "execution_count": 126,
   "metadata": {},
   "outputs": [],
   "source": [
    "# Imports\n",
    "import numpy as np\n",
    "import matplotlib.pyplot as plt\n",
    "from mpl_toolkits.axes_grid1 import make_axes_locatable"
   ]
  },
  {
   "cell_type": "code",
   "execution_count": 127,
   "metadata": {},
   "outputs": [],
   "source": [
    "# Load Data\n",
    "features = np.loadtxt('data/epidemic_process.csv', delimiter=\",\");"
   ]
  },
  {
   "cell_type": "code",
   "execution_count": 128,
   "metadata": {},
   "outputs": [
    {
     "name": "stdout",
     "output_type": "stream",
     "text": [
      "(150, 8)\n"
     ]
    }
   ],
   "source": [
    "# Explore data\n",
    "print(features.shape)"
   ]
  },
  {
   "cell_type": "markdown",
   "metadata": {},
   "source": [
    "Plot the emperical **cumulative probability distributions** (CDFs) of the **random variables** (features)."
   ]
  },
  {
   "cell_type": "code",
   "execution_count": 141,
   "metadata": {},
   "outputs": [
    {
     "name": "stdout",
     "output_type": "stream",
     "text": [
      "[[ 5.63613814 33.93921594]\n",
      " [ 8.49717798 34.71485141]\n",
      " [ 1.51471644  3.41007954]\n",
      " [ 5.79222116 34.20190064]\n",
      " [ 4.3371902  29.67548195]\n",
      " [ 2.13603668 10.63005914]\n",
      " [ 3.10787733 21.50810275]\n",
      " [ 5.33800546 31.43994107]\n",
      " [18.11954008 26.2503158 ]\n",
      " [11.78243953 29.29343219]\n",
      " [ 2.20933423  9.95899121]\n",
      " [16.615508   28.22635267]\n",
      " [ 5.7296911  33.36831016]\n",
      " [ 3.97763382 24.8667954 ]\n",
      " [ 5.94039476 35.03384716]\n",
      " [ 4.23325129 25.36102771]\n",
      " [ 4.26005681 24.82794859]\n",
      " [ 8.23151179 35.6799642 ]\n",
      " [ 7.9170733  33.7063959 ]\n",
      " [ 7.77724547 33.93852125]\n",
      " [ 5.82016381 32.81584812]\n",
      " [ 2.1821851  10.49374626]\n",
      " [ 5.62252599 32.34440896]\n",
      " [ 8.0645793  32.78950957]\n",
      " [ 5.7577195  31.4652778 ]]\n",
      "[[ 1.09452765  1.36186946]\n",
      " [ 1.51471644  3.41007954]\n",
      " [ 1.67840382  4.25172343]\n",
      " [ 1.68147184  4.63684726]\n",
      " [ 1.69465244  5.02828137]\n",
      " [ 1.72808216  5.26835261]\n",
      " [ 1.76810308  5.36353826]\n",
      " [ 1.88234347  6.40087946]\n",
      " [ 1.90556814  6.70363775]\n",
      " [ 1.98830258  7.13642889]\n",
      " [ 2.04586464  8.32825078]\n",
      " [ 2.10038022  8.66879502]\n",
      " [ 2.13603668  9.06292385]\n",
      " [ 2.14096323  9.16155927]\n",
      " [ 2.15053622  9.54583232]\n",
      " [ 2.15731333  9.95899121]\n",
      " [ 2.17151535 10.49374626]\n",
      " [ 2.1821851  10.63005914]\n",
      " [ 2.19983389 10.87188265]\n",
      " [ 2.20024449 11.41625549]\n",
      " [ 2.20933423 12.30565769]\n",
      " [ 2.23652266 12.83095098]\n",
      " [ 2.2714898  12.95359965]\n",
      " [ 2.27323776 12.99614335]\n",
      " [ 2.29028308 13.16486266]]\n",
      "\n",
      "Stats:\n",
      "min: 1.09452764762573 \n",
      "max: 18.1195400782586 \n",
      "mean: 4.841135737914398 \n",
      "median: 4.20329798772781 \n",
      "std: 2.7009039794512395\n"
     ]
    },
    {
     "data": {
      "image/png": "[encoded data removed]",
      "text/plain": [
       "<Figure size 432x288 with 1 Axes>"
      ]
     },
     "metadata": {
      "needs_background": "light"
     },
     "output_type": "display_data"
    },
    {
     "name": "stdout",
     "output_type": "stream",
     "text": [
      "\n",
      "Stats:\n",
      "min: 1.36186946138486 \n",
      "max: 36.180054801042 \n",
      "mean: 24.304010844479254 \n",
      "median: 26.552072361229698 \n",
      "std: 9.369317963261611\n"
     ]
    },
    {
     "data": {
      "image/png": "[encoded data removed]",
      "text/plain": [
       "<Figure size 432x288 with 1 Axes>"
      ]
     },
     "metadata": {
      "needs_background": "light"
     },
     "output_type": "display_data"
    },
    {
     "name": "stdout",
     "output_type": "stream",
     "text": [
      "\n",
      "Stats:\n",
      "min: 1.85343577820181 \n",
      "max: 15.4489379441267 \n",
      "mean: 9.094517264052822 \n",
      "median: 8.56918436577261 \n",
      "std: 3.6103587132371135\n"
     ]
    },
    {
     "data": {
      "image/png": "[encoded data removed]",
      "text/plain": [
       "<Figure size 432x288 with 1 Axes>"
      ]
     },
     "metadata": {
      "needs_background": "light"
     },
     "output_type": "display_data"
    },
    {
     "name": "stdout",
     "output_type": "stream",
     "text": [
      "\n",
      "Stats:\n",
      "min: -0.0350015454900432 \n",
      "max: 4.27279803177454 \n",
      "mean: 0.9860369808221754 \n",
      "median: 0.8444459099534496 \n",
      "std: 0.6543869789641513\n"
     ]
    },
    {
     "data": {
      "image/png": "[encoded data removed]",
      "text/plain": [
       "<Figure size 432x288 with 1 Axes>"
      ]
     },
     "metadata": {
      "needs_background": "light"
     },
     "output_type": "display_data"
    },
    {
     "name": "stdout",
     "output_type": "stream",
     "text": [
      "\n",
      "Stats:\n",
      "min: -5.04053033697628 \n",
      "max: 3.82098523439884 \n",
      "mean: 0.8094628725207003 \n",
      "median: 1.3612538888961851 \n",
      "std: 2.024392099427704\n"
     ]
    },
    {
     "data": {
      "image/png": "[encoded data removed]",
      "text/plain": [
       "<Figure size 432x288 with 1 Axes>"
      ]
     },
     "metadata": {
      "needs_background": "light"
     },
     "output_type": "display_data"
    },
    {
     "name": "stdout",
     "output_type": "stream",
     "text": [
      "\n",
      "Stats:\n",
      "min: -2.64402083643261 \n",
      "max: 0.863244930108102 \n",
      "mean: -1.1996745738866572 \n",
      "median: -1.23720951872533 \n",
      "std: 0.5995884365046847\n"
     ]
    },
    {
     "data": {
      "image/png": "[encoded data removed]",
      "text/plain": [
       "<Figure size 432x288 with 1 Axes>"
      ]
     },
     "metadata": {
      "needs_background": "light"
     },
     "output_type": "display_data"
    },
    {
     "name": "stdout",
     "output_type": "stream",
     "text": [
      "\n",
      "Stats:\n",
      "min: 86.1405393434167 \n",
      "max: 472.652648545977 \n",
      "mean: 175.29100886142976 \n",
      "median: 163.107655619219 \n",
      "std: 55.87888026714146\n"
     ]
    },
    {
     "data": {
      "image/png": "[encoded data removed]",
      "text/plain": [
       "<Figure size 432x288 with 1 Axes>"
      ]
     },
     "metadata": {
      "needs_background": "light"
     },
     "output_type": "display_data"
    },
    {
     "name": "stdout",
     "output_type": "stream",
     "text": [
      "\n",
      "Stats:\n",
      "min: 0.144004825211393 \n",
      "max: 1.03678011096662 \n",
      "mean: 0.8897988109436606 \n",
      "median: 0.9151311055938649 \n",
      "std: 0.1136984417004782\n"
     ]
    },
    {
     "data": {
      "image/png": "[encoded data removed]",
      "text/plain": [
       "<Figure size 432x288 with 1 Axes>"
      ]
     },
     "metadata": {
      "needs_background": "light"
     },
     "output_type": "display_data"
    }
   ],
   "source": [
    "#[h,stats] = cdfplot(features(:,1));\n",
    "#title(\"Emperical CDF of N_{50}\")\n",
    "#stats\n",
    "\n",
    "#s = np.sort(np.random.rand(10,2),axis=0)\n",
    "s = np.sort(features,axis=0)\n",
    "print(features[0:25,0:2])\n",
    "print(s[0:25,0:2])\n",
    "minvals = s[0,:]\n",
    "maxvals = s[len(s)-1,:]\n",
    "meanvals = np.mean(s,axis=0)\n",
    "medianvals = np.median(s,axis=0)\n",
    "stdvals = np.std(s,axis=0)\n",
    "#print(\"\\nsorted\\n\",s)\n",
    "# print(\"\\nminval\\n\",minvals)\n",
    "# print(\"\\nmaxval\\n\",maxvals)\n",
    "# print(\"\\nmeanvals\\n\",meanvals)\n",
    "# print(\"\\nmedianvals\\n\",medianvals)\n",
    "# print(\"\\nstdvals\\n\",stdvals)\n",
    "#print(np.arange(1,len(s)+1))\n",
    "#print(np.sort(s,axis=0))\n",
    "\n",
    "title = \"Emperical CDF of \"\n",
    "titles = [ '$N_{50}$','$N_{150}$','$N_{300}$','$D_{50}$', '$D_{150}$','$D_{300}$','$T_{peak}$','$X_{500}$']\n",
    "\n",
    "for cols in range(s.shape[1]):\n",
    "    print(\"\\nStats:\\nmin:\",minvals[cols],\"\\nmax:\",maxvals[cols],\"\\nmean:\",meanvals[cols],\"\\nmedian:\",medianvals[cols],\"\\nstd:\",stdvals[cols])\n",
    "    plt.title(title + titles[cols],fontweight='bold')\n",
    "    plt.plot(s[:,cols],np.arange(1,s.shape[0]+1)/s.shape[0])\n",
    "    plt.show()"
   ]
  },
  {
   "cell_type": "markdown",
   "metadata": {},
   "source": [
    "Recall, the sample `mean` value is an approximation of the expected value, or **expectation** of the random variable. The sample **variance** is the square of the sample standard deviation `std`.    "
   ]
  },
  {
   "cell_type": "markdown",
   "metadata": {},
   "source": [
    "Check the correlation between the features."
   ]
  },
  {
   "cell_type": "code",
   "execution_count": 143,
   "metadata": {},
   "outputs": [
    {
     "data": {
      "image/png": "[encoded data removed]",
      "text/plain": [
       "<Figure size 432x288 with 2 Axes>"
      ]
     },
     "metadata": {
      "needs_background": "light"
     },
     "output_type": "display_data"
    },
    {
     "data": {
      "image/png": "[encoded data removed]",
      "text/plain": [
       "<Figure size 432x288 with 2 Axes>"
      ]
     },
     "metadata": {
      "needs_background": "light"
     },
     "output_type": "display_data"
    }
   ],
   "source": [
    "rho = np.corrcoef(s,rowvar=False);\n",
    "ax = plt.subplot(111)\n",
    "im = ax.imshow(rho)\n",
    "\n",
    "# create an axes on the right side of ax. The width of cax will be 5%\n",
    "# of ax and the padding between cax and ax will be fixed at 0.05 inch.\n",
    "divider = make_axes_locatable(ax)\n",
    "cax = divider.append_axes(\"right\", size=\"5%\", pad=0.05)\n",
    "plt.colorbar(im, cax=cax)\n",
    "plt.show()\n",
    "\n",
    "\n",
    "rho = np.corrcoef(features,rowvar=False);\n",
    "ax = plt.subplot(111)\n",
    "im = ax.imshow(rho)\n",
    "\n",
    "# create an axes on the right side of ax. The width of cax will be 5%\n",
    "# of ax and the padding between cax and ax will be fixed at 0.05 inch.\n",
    "divider = make_axes_locatable(ax)\n",
    "cax = divider.append_axes(\"right\", size=\"5%\", pad=0.05)\n",
    "plt.colorbar(im, cax=cax)\n",
    "plt.show()"
   ]
  },
  {
   "cell_type": "markdown",
   "metadata": {},
   "source": [
    "Recall, the (sample) correlation of two (samples of) random variables $X$ and $Y$ their (sample) **covariance** normalized (divided) by the product of their (sample) standard deviation."
   ]
  },
  {
   "cell_type": "markdown",
   "metadata": {},
   "source": [
    "*Discuss your findings. Your answer goes here.*"
   ]
  },
  {
   "cell_type": "markdown",
   "metadata": {},
   "source": [
    "## Try to fit parametric probability distributions"
   ]
  },
  {
   "cell_type": "markdown",
   "metadata": {},
   "source": [
    "We go through a set of common probability distributions and try to fit any of them  to the data. We use the Chi-square and the Kolmogorov-Smirnov tests to check the goodness of fit. \n",
    "\n",
    "*Note that fitting and testing using the same data is actually not quite correct. We should use cross-validation.*"
   ]
  },
  {
   "cell_type": "code",
   "execution_count": null,
   "metadata": {
    "scrolled": true
   },
   "outputs": [],
   "source": [
    "%%file distribution_fitting.m\n",
    "function pd = distribution_fitting(feature)\n",
    "    distnames =[\"Poisson\", \"Exponential\", \"Gamma\", \"ExtremeValue\", \"Kernel\"];\n",
    "    values_must_be_positive =[\"Poisson\", \"Exponential\", \"Gamma\"];\n",
    "    x=feature.';\n",
    "    x_values = linspace(min(x),max(x));\n",
    "    for dn=distnames\n",
    "        if min(x)<0 & ~isempty(find(strcmp(dn, values_must_be_positive)))\n",
    "          continue;\n",
    "        end\n",
    "        distname = char(dn);\n",
    "        pd = fitdist(x.',distname);\n",
    "        res1=kstest(x, 'CDF', pd); \n",
    "        res2=chi2gof(x, 'CDF', pd);\n",
    "        if (~res1 && ~res2)\n",
    "            fprintf('%s with 5%% significance level\\r',distname);\n",
    "            cdfplot(x)\n",
    "            hold on\n",
    "            plot(x_values,cdf(pd,x_values),'r-')\n",
    "            plot(x_values,pdf(pd,x_values),'g-')\n",
    "            legend('Empirical CDF',[distname ' CDF'],[distname ' PDF'],'Location','best');\n",
    "            %title(['Empirical CDF and ', [distname ' CDF/PDF']);\n",
    "            hold off \n",
    "            return;\n",
    "        else \n",
    "            fprintf('Not %s with 5%% significance level\\n',distname);\n",
    "        end\n",
    "    end\n",
    "end"
   ]
  },
  {
   "cell_type": "code",
   "execution_count": null,
   "metadata": {
    "scrolled": true
   },
   "outputs": [],
   "source": [
    "pd_n_50 = distribution_fitting(features(:,1))"
   ]
  },
  {
   "cell_type": "code",
   "execution_count": 125,
   "metadata": {},
   "outputs": [
    {
     "ename": "SyntaxError",
     "evalue": "invalid syntax (<ipython-input-125-c630299b5028>, line 1)",
     "output_type": "error",
     "traceback": [
      "\u001b[0;36m  File \u001b[0;32m\"<ipython-input-125-c630299b5028>\"\u001b[0;36m, line \u001b[0;32m1\u001b[0m\n\u001b[0;31m    pd_n_150 = distribution_fitting(features(:,2))\u001b[0m\n\u001b[0m                                             ^\u001b[0m\n\u001b[0;31mSyntaxError\u001b[0m\u001b[0;31m:\u001b[0m invalid syntax\n"
     ]
    }
   ],
   "source": [
    "pd_n_150 = distribution_fitting(features(:,2))"
   ]
  },
  {
   "cell_type": "code",
   "execution_count": null,
   "metadata": {
    "scrolled": true
   },
   "outputs": [],
   "source": [
    "pd_n_300 = distribution_fitting(features(:,3))"
   ]
  },
  {
   "cell_type": "code",
   "execution_count": null,
   "metadata": {
    "scrolled": true
   },
   "outputs": [],
   "source": [
    "pd_d_50 = distribution_fitting(features(:,4))"
   ]
  },
  {
   "cell_type": "code",
   "execution_count": null,
   "metadata": {
    "scrolled": true
   },
   "outputs": [],
   "source": [
    "pd_d_150 = distribution_fitting(features(:,5))"
   ]
  },
  {
   "cell_type": "code",
   "execution_count": null,
   "metadata": {
    "scrolled": true
   },
   "outputs": [],
   "source": [
    "pd_d_300 = distribution_fitting(features(:,6))"
   ]
  },
  {
   "cell_type": "code",
   "execution_count": null,
   "metadata": {
    "scrolled": true
   },
   "outputs": [],
   "source": [
    "pd_t_peak = distribution_fitting(features(:,7))"
   ]
  },
  {
   "cell_type": "code",
   "execution_count": null,
   "metadata": {
    "scrolled": true
   },
   "outputs": [],
   "source": [
    "pd_x_500 = distribution_fitting(features(:,8))"
   ]
  },
  {
   "cell_type": "markdown",
   "metadata": {},
   "source": [
    "*Describe the fitted distributions. Your answer goes here.*"
   ]
  },
  {
   "cell_type": "markdown",
   "metadata": {},
   "source": [
    "## Joint  and conditional probabilities, chain rule and Bayes' Theorem"
   ]
  },
  {
   "cell_type": "markdown",
   "metadata": {},
   "source": [
    "Lets calculate the probability of having a mild start and a disastrous end of the epidemia. We translate that to the **joint probability** that no more than $4\\%$ are infected after $50$ days, i.e., $N_{50}\\leq 4\\%$ and more than $0.95\\%$ die in the end, i.e., $X_{500}>0.95\\%$."
   ]
  },
  {
   "cell_type": "code",
   "execution_count": null,
   "metadata": {
    "scrolled": true
   },
   "outputs": [],
   "source": [
    "n_50 = features(:,1);\n",
    "x_500 = features(:,8);\n",
    "positive_cases = length(intersect(find(n_50<=4),find(x_500>0.95)))\n",
    "all_cases = length(features);\n",
    "P = positive_cases/all_cases"
   ]
  },
  {
   "cell_type": "markdown",
   "metadata": {},
   "source": [
    "So $P(N_{50}\\leq 4\\%, X_{500}>0.95\\%) \\approx 0.02$.\n",
    "\n",
    "We check the product of the two probabilities $P(N_{50}\\leq 4\\%)P(X_{500}>0.95\\%)$:"
   ]
  },
  {
   "cell_type": "code",
   "execution_count": null,
   "metadata": {},
   "outputs": [],
   "source": [
    "P2 = length(find(n_50<=4))/all_cases * length(find(x_500>0.95))/all_cases"
   ]
  },
  {
   "cell_type": "markdown",
   "metadata": {},
   "source": [
    "We are not surprised that the result is different from the joint probability as the random variables $N_{50}$ and $X_{500}$ not independent (double-check the results from the correlation analysis).  "
   ]
  },
  {
   "cell_type": "markdown",
   "metadata": {},
   "source": [
    "What is the **conditional probability** of more than $0.95\\%$ die in the end given that we know that no more $4\\%$ are infected after $50$ days."
   ]
  },
  {
   "cell_type": "code",
   "execution_count": null,
   "metadata": {},
   "outputs": [],
   "source": [
    "mild_start_cases = length(find(n_50<=4));\n",
    "P_AB = positive_cases/mild_start_cases"
   ]
  },
  {
   "cell_type": "markdown",
   "metadata": {},
   "source": [
    "So $P(X_{500}>0.95\\%|N_{50}\\leq 4\\%) \\approx 0.0588$."
   ]
  },
  {
   "cell_type": "markdown",
   "metadata": {},
   "source": [
    "The product or **chain rule** of probability states that\n",
    "\n",
    "\\begin{align}\n",
    "P(A,B) &= P(A|B)P(B)\\\\\n",
    "P(X_{500}>0.95\\%,N_{50}\\leq 4\\%) &= P(X_{500}>0.95\\%|N_{50}\\leq 4\\%)P(N_{50}\\leq 4\\%)\n",
    "\\end{align}"
   ]
  },
  {
   "cell_type": "markdown",
   "metadata": {},
   "source": [
    "And we don't get disappointed:"
   ]
  },
  {
   "cell_type": "code",
   "execution_count": null,
   "metadata": {},
   "outputs": [],
   "source": [
    "P_B = mild_start_cases/all_cases;\n",
    "P = P_AB*P_B"
   ]
  },
  {
   "cell_type": "markdown",
   "metadata": {},
   "source": [
    "Let us numerically confirm **Bayes' Theorem** for this case. We'd expect that  \n",
    "\n",
    "\\begin{align}\n",
    "P(A|B) &= \\frac{P(B|A)P(A)}{P(B)}\\\\\n",
    "P(X_{500}>0.95\\%|N_{50}\\leq 4\\%) &= \\frac{P(N_{50}\\leq 4\\%|X_{500}>0.95\\%)P(X_{500}>0.95\\%)}{P(N_{50}\\leq 4\\%)}\n",
    "\\end{align}"
   ]
  },
  {
   "cell_type": "markdown",
   "metadata": {},
   "source": [
    "And we don't get disappointed:"
   ]
  },
  {
   "cell_type": "code",
   "execution_count": null,
   "metadata": {},
   "outputs": [],
   "source": [
    "disaster_cases = length(find(x_500>0.95));\n",
    "P_A = disaster_cases/all_cases;\n",
    "P_BA = positive_cases/disaster_cases;\n",
    "P_AB = P_BA*P_A/P_B"
   ]
  },
  {
   "cell_type": "markdown",
   "metadata": {},
   "source": [
    "So far, we have looked at the joint (sample) probability of $P(N_{50}\\leq n, X_{500}>x)$ for *concrete* bounds $n=4$ and $x=0.95$. Let us now understand the joint (sample) probability of $F(n,x)=P(N_{50}\\leq n, X_{500}>x)$ as a *function* of these bounds $n$ and $x$. Since, $0\\leq X_{500}\\leq 100$ this function is equal to joint (sample) cumulative distribution function: \n",
    "\n",
    "\\begin{align}\n",
    "F(n,x) &=\\mathit{CDF}_{N_{50},100-X_{500}}(n,100-x)\\\\\n",
    "\\mathit{CDF}_{N_{50},100-X_{500}}(n,y)&=P(N_{50}\\leq n, 100-X_{500}\\leq y)\n",
    "\\end{align}"
   ]
  },
  {
   "cell_type": "markdown",
   "metadata": {},
   "source": [
    "In `Matlab`, we can numerically approximate such a joint $\\mathit{CDF}_{X,Y}(x,y)$:"
   ]
  },
  {
   "cell_type": "code",
   "execution_count": null,
   "metadata": {
    "scrolled": true
   },
   "outputs": [],
   "source": [
    "addpath('/Users/wlomsi/Documents/MATLAB/ecdfbiv');\n",
    "joint_CDF=ecdfbiv([n_50, 100-x_500],20,20);\n",
    "surfc([1:20],[1:20],joint_CDF);"
   ]
  },
  {
   "cell_type": "markdown",
   "metadata": {},
   "source": [
    "*Interprete this CDF. Your answer goes here.*"
   ]
  },
  {
   "cell_type": "markdown",
   "metadata": {},
   "source": [
    "Finally, we compare the emperical PDF the (sample) distribution with the fitted PDF of that distribution. We look at $N_{50}$."
   ]
  },
  {
   "cell_type": "code",
   "execution_count": null,
   "metadata": {},
   "outputs": [],
   "source": [
    "%%file samplePDF.m\n",
    "function PDF = samplePDF(sample, pd_fit, verbose)\n",
    "    [f,xi] = ksdensity(sample); \n",
    "    PDF = griddedInterpolant(xi,f);\n",
    "    if (verbose)\n",
    "        figure\n",
    "        plot(xi, PDF(xi));\n",
    "        hold on;\n",
    "        plot(xi, pdf(pd_fit,xi));\n",
    "    end\n",
    "end"
   ]
  },
  {
   "cell_type": "code",
   "execution_count": null,
   "metadata": {},
   "outputs": [],
   "source": [
    "PDF_n_50 = samplePDF(n_50,pd_n_50, true)"
   ]
  },
  {
   "cell_type": "code",
   "execution_count": null,
   "metadata": {},
   "outputs": [],
   "source": [
    "PDF_x_500 = samplePDF(x_500,pd_x_500, true)"
   ]
  },
  {
   "cell_type": "markdown",
   "metadata": {},
   "source": [
    "## Self-entropy of an event and entropy of a distribution"
   ]
  },
  {
   "cell_type": "markdown",
   "metadata": {},
   "source": [
    "We define a function that calculates the entropy of a sample distribution, based on a parameterless sample PDF approximation (calculated with `samplePDF`) and a well-known ditribition with fitted parameters (calculated with `distribution_fitting`). It also computeas the Kullback-Leibler (KL) divergence in both directions."
   ]
  },
  {
   "cell_type": "code",
   "execution_count": null,
   "metadata": {},
   "outputs": [],
   "source": [
    "%%file fit_sample_entropies.m\n",
    "function [EntropyFitted, EntropySample, diff_fit_sample, diff_sample_fit] = fit_sample_entropies(sample, pd_fit, PDF)\n",
    "    EntropyFitted = 0;\n",
    "    EntropySample = 0;\n",
    "    diff_fit_sample = 0;\n",
    "    diff_sample_fit = 0;\n",
    "    for i=1:length(sample)\n",
    "        EntropyFitted = EntropyFitted - pdf(pd_fit,sample(i))*log(pdf(pd_fit,sample(i)));\n",
    "        EntropySample = EntropySample - PDF(sample(i))*log(PDF(sample(i)));\n",
    "        diff_fit_sample = diff_fit_sample - pdf(pd_fit,sample(i))*(log(pdf(pd_fit,sample(i)))-log(PDF(sample(i))));\n",
    "        diff_sample_fit = diff_sample_fit - PDF(sample(i))*(log(pdf(pd_fit,sample(i)))-log(PDF(sample(i))));\n",
    "    end\n",
    "end"
   ]
  },
  {
   "cell_type": "markdown",
   "metadata": {},
   "source": [
    "Let's apply this function on the $N_{50}$ sample."
   ]
  },
  {
   "cell_type": "code",
   "execution_count": null,
   "metadata": {
    "scrolled": true
   },
   "outputs": [],
   "source": [
    "[EntropyFitted, EntropySample, diff_fit_sample, diff_sample_fit] = fit_sample_entropies(n_50, pd_n_50, PDF_n_50)"
   ]
  },
  {
   "cell_type": "markdown",
   "metadata": {},
   "source": [
    "*Why is the entropy of $N_{50}$ assuming is proportional to the sample PDF higher that assuming it is proportional to the fitted Gamma distribution? Why are the divergence values different? Your answers go here.* "
   ]
  },
  {
   "cell_type": "markdown",
   "metadata": {},
   "source": [
    "## References"
   ]
  },
  {
   "cell_type": "markdown",
   "metadata": {},
   "source": [
    "1. Amira Rachah and Delfim F. M. Torres: Mathematical Modelling, Simulation, and Optimal Control of the 2014 Ebola Outbreak in West Africa. Discrete Dynamics in Nature and Society, Volume 2015, Article ID 842792, https://www.hindawi.com/journals/ddns/2015/842792/."
   ]
  }
 ],
 "metadata": {
  "kernelspec": {
   "display_name": "Python 3",
   "language": "python",
   "name": "python3"
  },
  "language_info": {
   "codemirror_mode": {
    "name": "ipython",
    "version": 3
   },
   "file_extension": ".py",
   "mimetype": "text/x-python",
   "name": "python",
   "nbconvert_exporter": "python",
   "pygments_lexer": "ipython3",
   "version": "3.7.10"
  }
 },
 "nbformat": 4,
 "nbformat_minor": 4
}
