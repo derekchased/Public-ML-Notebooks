{
 "cells": [
  {
   "cell_type": "markdown",
   "metadata": {},
   "source": [
    "# Learn an XOR Neural Network using gradient-based optimization"
   ]
  },
  {
   "cell_type": "markdown",
   "metadata": {},
   "source": [
    "## Steps"
   ]
  },
  {
   "cell_type": "markdown",
   "metadata": {},
   "source": [
    "1. Setting the scene\n",
    "2. Model 1: linear, one layer, no activation function \n",
    "3. Model 2: almost linear, one layer, sigmoid activation function \n",
    "4. Model 3: one hidden layer with linear and one output layer with sigmoid activation \n",
    "5. Model 4: one hidden layer with relu and one output layer with sigmoid activation \n",
    "6. Comparison with Model 4 learned with Tensorflow"
   ]
  },
  {
   "cell_type": "markdown",
   "metadata": {},
   "source": [
    "## Setting the scene"
   ]
  },
  {
   "cell_type": "markdown",
   "metadata": {},
   "source": [
    "All models $m_i$ follow the standard Neural Network architecture: <img src=\"img/NN.jpg\"> The models vary in the number of layers, the numbers of neurons per layer and in the activation function."
   ]
  },
  {
   "cell_type": "markdown",
   "metadata": {},
   "source": [
    "During learning, we optimize the mean squared error $MSE$ of the models $m$ for the model parameters $\\mathbf w, \\mathbf b$: \n",
    "\n",
    "$$MSE(\\mathbf w,\\mathbf b,m,X,Y) =\\frac{1}{N}\\sum_{i=1}^{N}(y_i - m(\\mathbf w, \\mathbf  b, x_i))^2$$"
   ]
  },
  {
   "cell_type": "code",
   "execution_count": 17,
   "metadata": {},
   "outputs": [],
   "source": [
    "import numpy as np\n",
    "import matplotlib.pyplot as plt\n",
    "from matplotlib import cm\n",
    "from matplotlib.ticker import LinearLocator\n"
   ]
  },
  {
   "cell_type": "markdown",
   "metadata": {},
   "source": [
    "In other words, we find $\\arg\\min_{\\mathbf w, \\mathbf b} MSE(\\mathbf w, \\mathbf b,m,X,Y)$.\n",
    "Since we implement a binary, logic function (two arguments, two values per argument), $N=2^2=4$ and $X,Y$ define the XOR function:"
   ]
  },
  {
   "cell_type": "markdown",
   "metadata": {},
   "source": [
    "## Model 1: linear, one layer, no activation function "
   ]
  },
  {
   "cell_type": "markdown",
   "metadata": {},
   "source": [
    "The first model is a (too) simple linear Neural Network model. It consists of one neuron connected to the input $x_1$ and $x_2$ and an identity, i.e., no effective, activation function. The neuron and the whole model $m_1$ implements $m_1(\\mathbf w, b, x) = w_1x_1+w_2x_2+b$."
   ]
  },
  {
   "cell_type": "markdown",
   "metadata": {},
   "source": [
    "As the Tensorflow default, we implement the Glorot uniform initializer for setting the initial weights $\\mathbf w_0$.\n",
    "It draws samples from a uniform random distribution within $[-\\mathit{limit}, \\mathit{limit}]$,\n",
    "where $\\mathit{limit} = \\sqrt{\\frac{6}{\\mathit{in} + \\mathit{out}}}$, and\n",
    "where $\\mathit{in}$ and $\\mathit{out}$ is the number of input and output units, resp. The initial bias $b_0$ is set to $0$."
   ]
  },
  {
   "cell_type": "markdown",
   "metadata": {},
   "source": [
    "We are ready to assess $MSE$ for $m_1$ for this initial weights setting."
   ]
  },
  {
   "cell_type": "markdown",
   "metadata": {},
   "source": [
    "The gradient of $MSE(\\mathbf w,b)$ for any $\\mathbf w, b$ is defiend as:\n",
    "\n",
    "$$\n",
    "\\begin{aligned}\n",
    "\\nabla MSE(\\mathbf w,b) &= \\left [ \n",
    "\\frac{\\partial MSS(\\mathbf w,b)}{\\partial w_1}, \n",
    "\\frac{\\partial MSS(\\mathbf w,b)}{\\partial w_2}, \n",
    "\\frac{\\partial MSE(\\mathbf w,b)}{\\partial b}\n",
    "\\right ]^T\\\\\n",
    "&= \\frac{1}{4}\\left [ \n",
    "\\frac{\\partial \\sum_{i=1}^{4}(y_i - m_1(\\mathbf w,b,x_i))^2}{\\partial w_1}, \n",
    "\\frac{\\partial \\sum_{i=1}^{4}(y_i - m_1(\\mathbf w,b,x_i))^2}{\\partial w_2}, \n",
    "\\frac{\\partial \\sum_{i=1}^{4}(y_i - m_1(\\mathbf w,b,x_i))^2}{\\partial b} \n",
    "\\right ]^T \\\\\n",
    "&= \\frac{1}{4} \\left [ \n",
    "\\sum_{i=1}^{4}2(y_i- m_1(\\mathbf w,b,x_i))\\frac{-\\partial m_1(\\mathbf w,b,x_i)}{\\partial w_1},\n",
    "\\sum_{i=1}^{4}2(y_i- m_1(\\mathbf w,b,x_i))\\frac{-\\partial m_1(\\mathbf w,b,x_i)}{\\partial w_2},\n",
    "\\sum_{i=1}^{4}2(y_i- m_1(\\mathbf w,b,x_i))\\frac{-\\partial m_1(\\mathbf w,b,x_i)}{\\partial b}\n",
    "\\right ]^T \\\\\n",
    "&= -\\frac{1}{2} \\left [ \n",
    "\\sum_{i=1}^{4}(y_i- m_1(\\mathbf w,b,x_i))\\frac{\\partial m_1(\\mathbf w,b,x_i)}{\\partial w_1},\n",
    "\\sum_{i=1}^{4}(y_i- m_1(\\mathbf w,b,x_i))\\frac{\\partial m_1(\\mathbf w,b,x_i)}{\\partial w_2},\n",
    "\\sum_{i=1}^{4}(y_i- m_1(\\mathbf w,b,x_i))\\frac{\\partial m_1(\\mathbf w,b,x_i)}{\\partial b}\n",
    "\\right ]^T \\\\\n",
    "\\end{aligned}\n",
    "$$"
   ]
  },
  {
   "cell_type": "markdown",
   "metadata": {},
   "source": [
    "We can plug in the function $m_1$ and the first derivative of $m_1$ wrt. $w_1, w_2,$ and $b$ resp.\n",
    "\n",
    "$$\n",
    "\\begin{aligned}\n",
    "\\frac{\\partial m_1(\\mathbf w,b,x_i)}{\\partial w_j} &=\\frac{\\partial(\\sum_{j=1}^{2} w_jx_{ij})+b}{\\partial w_j} = x_{ij}\\\\\n",
    "\\frac{\\partial m_1(\\mathbf w,b,x_i)}{\\partial b} &=\\frac{\\partial(\\sum_{j=1}^{2} w_jx_{ij})+b}{\\partial b} = 1\\\\\n",
    "\\end{aligned}\n",
    "$$"
   ]
  },
  {
   "cell_type": "markdown",
   "metadata": {},
   "source": [
    "We have already defined the function $m_1$. Let's also define the functions of the first derivative of $m_1$ wrt. $w_1, w_2,$ and $b$ resp. For the sake of generality, we keep the parameters $\\mathbf w, b$ that are actually not needed for  derivatives of this concrete model $m_1$. "
   ]
  },
  {
   "cell_type": "code",
   "execution_count": 18,
   "metadata": {},
   "outputs": [
    {
     "name": "stdout",
     "output_type": "stream",
     "text": [
      "[-1.17196113 -0.7444123   0.        ]\n"
     ]
    }
   ],
   "source": [
    "# Set rand generator\n",
    "rng = np.random.default_rng(3)\n",
    "\n",
    "# Define Data\n",
    "X = np.array(  [[0,0],[0,1], [1,0], [1,1]] )\n",
    "X_bias = np.hstack([X,np.ones((X.shape[0],1))])\n",
    "X = X_bias\n",
    "Y = np.array([0,1,1,0])\n",
    "\n",
    "# Define Initial Weights\n",
    "in_units = 2;\n",
    "out_units = 1;\n",
    "glorot_limit = np.sqrt(6 / (in_units + out_units))\n",
    "ws0 = np.array([rng.random()*2*glorot_limit-glorot_limit, rng.random()*2*glorot_limit-glorot_limit, 0])\n",
    "print(ws0)\n"
   ]
  },
  {
   "cell_type": "code",
   "execution_count": 19,
   "metadata": {},
   "outputs": [],
   "source": [
    "def mse(ws, m, X, Y):\n",
    "    return np.sum((Y-m(ws,X))**2)/X.shape[0]\n",
    "\n",
    "def grad_mse(ws, m, grads, X, Y):\n",
    "    N = X.shape[0]\n",
    "    M = ws.shape[0]\n",
    "    grad_ws = np.zeros(M)\n",
    "    tmp = Y - m(ws,X)\n",
    "    for i in range(N):\n",
    "        for j in range(M):\n",
    "            grad_ws[j] = grad_ws[j] + tmp[i] * grads(j, ws, X[i,:]);\n",
    "    grad_ws = -2/N*grad_ws;\n",
    "    return grad_ws\n",
    "\n",
    "def grad_desc_mse(K, ws, learning_eps, loss, m, grads, X, Y):\n",
    "    history = [ mse(ws,m,X,Y) ]\n",
    "    for k in range(K):\n",
    "        grad_ws = grad_mse(ws, m, grads, X, Y)\n",
    "        old_ws = ws;\n",
    "        ws = old_ws - learning_eps * grad_ws;\n",
    "        history.append(mse(ws,m,X,Y))\n",
    "    return ws, history"
   ]
  },
  {
   "cell_type": "markdown",
   "metadata": {},
   "source": [
    "The gradient of $MSE$ can now be defined using $m_1$ and the first derivative of $m_1$ wrt. $w_1, w_2,$ and $b$, resp., as parameters."
   ]
  },
  {
   "cell_type": "code",
   "execution_count": 20,
   "metadata": {
    "scrolled": true
   },
   "outputs": [
    {
     "name": "stdout",
     "output_type": "stream",
     "text": [
      "mse1 2.858219150123684\n"
     ]
    }
   ],
   "source": [
    "def m1(ws, X):\n",
    "    return X@ws\n",
    "\n",
    "def gradients1(i, ws, x):\n",
    "    return x[i]\n",
    "\n",
    "print(\"mse1\",mse(ws0,m1,X,Y))\n"
   ]
  },
  {
   "cell_type": "code",
   "execution_count": 21,
   "metadata": {},
   "outputs": [
    {
     "name": "stdout",
     "output_type": "stream",
     "text": [
      "grad_loss [-2.04416729 -1.83039287 -2.91637344]\n"
     ]
    }
   ],
   "source": [
    "print(\"grad_loss\",grad_mse(ws0, m1, gradients1, X, Y))\n",
    "\n"
   ]
  },
  {
   "cell_type": "markdown",
   "metadata": {},
   "source": [
    "Finally, we are ready to define the gradient descent function optimizing $\\mathbf w, b$ by iterating over:\n",
    "\n",
    "$$(\\mathbf w_{k+1}, b_{k+1}) = (\\mathbf w_k, b_k) - \\varepsilon \\nabla MSE(\\mathbf w_k,b_k)$$\n",
    "\n",
    "staring with $(\\mathbf w_0, b_0)$."
   ]
  },
  {
   "cell_type": "code",
   "execution_count": 22,
   "metadata": {},
   "outputs": [
    {
     "name": "stdout",
     "output_type": "stream",
     "text": [
      "[-7.64143784e-05 -7.61722482e-05  5.00090495e-01]\n",
      "[2.85821915 1.20117115 0.6078505  0.39202171 0.31120951 0.27940259\n",
      " 0.26586639 0.25946718 0.25606966 0.2540695  0.25279927 0.25195282\n",
      " 0.25137279 0.25096911 0.25068577 0.25048595 0.25034465 0.25024458\n",
      " 0.25017363 0.2501233  0.25008757 0.25006221 0.2500442  0.2500314\n",
      " 0.25002231 0.25001586 0.25001127 0.25000801 0.25000569 0.25000404\n",
      " 0.25000287 0.25000204 0.25000145 0.25000103 0.25000073 0.25000052\n",
      " 0.25000037 0.25000026 0.25000019 0.25000013 0.25000009 0.25000007\n",
      " 0.25000005 0.25000003 0.25000002 0.25000002 0.25000001 0.25000001\n",
      " 0.25000001 0.25       0.25      ]\n"
     ]
    }
   ],
   "source": [
    "K = 50;\n",
    "learning_eps = 0.5;\n",
    "ws1, history1 = grad_desc_mse(K, ws0, learning_eps, mse, m1, gradients1, X, Y)\n",
    "print(ws1)\n",
    "print(np.array(history1))"
   ]
  },
  {
   "cell_type": "code",
   "execution_count": 23,
   "metadata": {
    "scrolled": true
   },
   "outputs": [
    {
     "data": {
      "image/png": "[encoded data removed]",
      "text/plain": [
       "<Figure size 432x288 with 1 Axes>"
      ]
     },
     "metadata": {
      "needs_background": "light"
     },
     "output_type": "display_data"
    }
   ],
   "source": [
    "plt.plot(np.arange(len(history1)),history1)\n",
    "plt.show()"
   ]
  },
  {
   "cell_type": "code",
   "execution_count": 24,
   "metadata": {},
   "outputs": [
    {
     "name": "stdout",
     "output_type": "stream",
     "text": [
      "0.75\n"
     ]
    }
   ],
   "source": [
    "accuracy1 = np.sum(np.round(X@ws1))/len(X)\n",
    "print(accuracy1)"
   ]
  },
  {
   "cell_type": "code",
   "execution_count": 25,
   "metadata": {},
   "outputs": [],
   "source": [
    "def f(xx, yy, ws):\n",
    "    shape = xx.shape\n",
    "    Z = np.zeros(shape)\n",
    "    for i in range(shape[0]):\n",
    "        for j in range(shape[1]):\n",
    "            Z[i,j] = x1[i,j]*ws[0] + x2[i,j]*ws[1] + ws[2]\n",
    "    return Z\n",
    "\n",
    "def plot3d(f, x1, x2, ws):\n",
    "    Z = f(x1, x2, ws)\n",
    "    fig, ax = plt.subplots(subplot_kw={\"projection\": \"3d\"})\n",
    "    surf = ax.plot_surface(x1, x2, Z)"
   ]
  },
  {
   "cell_type": "code",
   "execution_count": 26,
   "metadata": {},
   "outputs": [
    {
     "data": {
      "image/png": "[encoded data removed]",
      "text/plain": [
       "<Figure size 432x288 with 1 Axes>"
      ]
     },
     "metadata": {
      "needs_background": "light"
     },
     "output_type": "display_data"
    }
   ],
   "source": [
    "interval = np.arange(0,1.1,.1)\n",
    "x1,x2 = np.meshgrid(interval,interval)\n",
    "plot3d(f,x1,x2,ws1)\n"
   ]
  },
  {
   "cell_type": "markdown",
   "metadata": {},
   "source": [
    "## Model 2: linear, one layer, sigmoid activation function "
   ]
  },
  {
   "cell_type": "markdown",
   "metadata": {},
   "source": [
    "The second model is still a (too) simple Neural Network model. As model $m_1$, it consists of one neuron connected to the input $x_1$ and $x_2$ but it uses a sigmoid activation function $s(x)=\\frac{1}{1+e^{-x}}$. \n",
    "The cell body still implements $m_1(\\mathbf w, b, x) = w_1x_1+w_2x_2+b$, the whole model $m_2$ implements:\n",
    "\n",
    "$$m_2(\\mathbf w, b, x)=\\frac{1}{1+e^{-m_1(\\mathbf w, b, x)}}$$"
   ]
  },
  {
   "cell_type": "markdown",
   "metadata": {},
   "source": [
    "Note that we just plug in $m_1$ into $m_2$ and $m_2$ into the loss function $MSE$ to obtain the new composite model and loss functions."
   ]
  },
  {
   "cell_type": "code",
   "execution_count": 27,
   "metadata": {},
   "outputs": [],
   "source": [
    "# s = @(x)(1.0 / (1.0 + exp(-x)))\n",
    "def sigmoid(x):\n",
    "    return 1.0 / (1.0 + np.exp(-x))\n",
    "\n",
    "# m2 = @(ws,x)(s(m1(ws,x)))\n",
    "def m2(ws,x):\n",
    "    return sigmoid(m1(ws,x))\n",
    "\n",
    "# mse2 = @(ws)(mse(ws,m2,X,Y))\n",
    "def mse2(ws,m,X,Y,err):\n",
    "    return err(ws,m2,X,Y)"
   ]
  },
  {
   "cell_type": "markdown",
   "metadata": {},
   "source": [
    "As we use the same initialization, we can assess $MSE$ for $m_2$ and this initial weights setting."
   ]
  },
  {
   "cell_type": "code",
   "execution_count": 28,
   "metadata": {
    "scrolled": false
   },
   "outputs": [
    {
     "name": "stdout",
     "output_type": "stream",
     "text": [
      "0.3272533006274785\n"
     ]
    }
   ],
   "source": [
    "print(mse2(ws0,m2,X,Y,mse))"
   ]
  },
  {
   "cell_type": "markdown",
   "metadata": {},
   "source": [
    "For model $m_2$, the gradient of $MSE(\\mathbf w,b)$ for any $\\mathbf w, b$ is almost identical as before. We just plug in $m_2$ instead of $m_1$ and $m_2'$ instead of $m_1'$:\n",
    "\n",
    "$$\n",
    "\\begin{aligned}\n",
    "\\nabla MSE(\\vec w,b) &= -\\frac{1}{2} \\left [ \n",
    "\\sum_{i=1}^{4}(y_i- m_2(\\mathbf w,b,x_i))\\frac{\\partial m_2(\\mathbf w,b,x_i)}{\\partial w_1},\n",
    "\\sum_{i=1}^{4}(y_i- m_2(\\mathbf w,b,x_i))\\frac{\\partial m_2(\\mathbf w,b,x_i)}{\\partial w_2},\n",
    "\\sum_{i=1}^{4}(y_i- m_2(\\mathbf w,b,x_i))\\frac{\\partial m_2(\\mathbf w,b,x_i)}{\\partial b}\n",
    "\\right ]^T \\\\\n",
    "\\end{aligned}\n",
    "$$"
   ]
  },
  {
   "cell_type": "markdown",
   "metadata": {},
   "source": [
    "Let $s(x)=\\frac{1}{1+e^{-x}}$. Then $\\frac{\\partial s(x)}{\\partial x} = s(x)s(1-x)$, see the [details here](https://towardsdatascience.com/derivative-of-the-sigmoid-function-536880cf918e).\n",
    "\n",
    "$$\n",
    "\\begin{aligned}\n",
    "\\frac{\\partial m_2(\\mathbf w,b,x_i)}{\\partial \\mathbf w, b} \n",
    "&=\\frac{\\partial s(m_1(\\mathbf w,b,x_i))}{\\partial \\mathbf w, b} \\\\\n",
    "&=s(m_1(\\mathbf w,b,x_i))s(1-m_1(\\mathbf w,b,x_i))\\frac{\\partial m_1(\\mathbf w,b,x_i)}{\\partial \\mathbf w, b} \\\\\n",
    "\\end{aligned}\n",
    "$$"
   ]
  },
  {
   "cell_type": "markdown",
   "metadata": {},
   "source": [
    "We can plug in the function $m_1$ and the first derivative of $m_1$ wrt. $w_1, w_2,$ and $b$, resp., as computed before.\n",
    "\n",
    "$$\n",
    "\\begin{aligned}\n",
    "\\frac{\\partial m_1(\\mathbf w,b,x_i)}{\\partial w_j} &=\\frac{\\partial(\\sum_{j=1}^{2} w_jx_{ij})+b}{\\partial w_j} = x_{ij}\\\\\n",
    "\\frac{\\partial m_1(\\mathbf w,b,x_i)}{\\partial b} &=\\frac{\\partial(\\sum_{j=1}^{2} w_jx_{ij})+b}{\\partial b} = 1\\\\\n",
    "\\end{aligned}\n",
    "$$"
   ]
  },
  {
   "cell_type": "markdown",
   "metadata": {},
   "source": [
    "We have already defined the function $m_1$, the functions of the first derivative of $m_1$ wrt. $w_1, w_2,$ and $b$, resp, and the sigmoid activation function $f$. The gradient calculation depends of these functions and the gradient descent method does not change either. We just need to pulg together the new neural network:"
   ]
  },
  {
   "cell_type": "code",
   "execution_count": 29,
   "metadata": {},
   "outputs": [],
   "source": [
    "# def gradients1(i, ws, x):\n",
    "#     return x[i]\n",
    "\n",
    "def gradients2(i, ws, x):\n",
    "    return sigmoid( m1(ws,x)) * sigmoid(1-m1(ws,x)) * gradients1(i,ws,x)"
   ]
  },
  {
   "cell_type": "code",
   "execution_count": 30,
   "metadata": {
    "scrolled": false
   },
   "outputs": [
    {
     "name": "stdout",
     "output_type": "stream",
     "text": [
      "grad_loss2 [-0.07324455 -0.08512271 -0.07478867]\n",
      "ws\n",
      " [-0.02754347  0.01134317  0.01028174]\n",
      "\n",
      "history\n",
      " [0.3272533006274785, 0.2971819459026664, 0.27383948457410856, 0.2616273789021809, 0.2572616433547416, 0.2557393818122032, 0.25490316085983933, 0.2542463597392265, 0.2536793352163198, 0.2531844469228599, 0.25275362113190153, 0.25237974712573097, 0.25205604588392916, 0.2517762395982406, 0.251534656071834, 0.2513262461779373, 0.2511465568830785, 0.25099168550939366, 0.25085822755071463, 0.2507432238134737, 0.25064410965370365, 0.2505586676523881, 0.25048498433424204, 0.2504214111228228, 0.25036652948208793, 0.2503191200501367, 0.2502781354885234, 0.2502426767290353, 0.25021197228552916, 0.2501853603019829, 0.2501622730227686, 0.25014222339266134, 0.2501247935190515, 0.2501096247550052, 0.2500964091877698, 0.2500848823421272, 0.25007481693109557, 0.2500660175076163, 0.2500583158899136, 0.25005156725020755, 0.25004564677149393, 0.2500404467903027, 0.2500358743548726, 0.2500318491382018, 0.25002830165410883, 0.2500251717319316, 0.25002240721193736, 0.2500199628290576, 0.2500177992573102, 0.2500158822913376, 0.2500141821449645]\n"
     ]
    }
   ],
   "source": [
    "#  print(\"grad_loss\",grad_mse(ws0, m1, gradients1, X, Y))\n",
    "print(\"grad_loss2\",grad_mse(ws0, m2, gradients2, X, Y))\n",
    "K = 50;\n",
    "learning_eps = 2;\n",
    "ws2, history2 = grad_desc_mse(K, ws0, learning_eps, mse2, m2, gradients2, X, Y)\n",
    "print(\"ws\\n\",ws2)\n",
    "print(\"\\nhistory\\n\",history2)"
   ]
  },
  {
   "cell_type": "code",
   "execution_count": 31,
   "metadata": {},
   "outputs": [
    {
     "data": {
      "image/png": "[encoded data removed]",
      "text/plain": [
       "<Figure size 432x288 with 1 Axes>"
      ]
     },
     "metadata": {
      "needs_background": "light"
     },
     "output_type": "display_data"
    }
   ],
   "source": [
    "plt.plot(np.arange(len(history2)),history2)\n",
    "plt.show()"
   ]
  },
  {
   "cell_type": "code",
   "execution_count": 33,
   "metadata": {},
   "outputs": [
    {
     "name": "stdout",
     "output_type": "stream",
     "text": [
      "[1. 1. 0. 0.]\n",
      "0.5\n"
     ]
    }
   ],
   "source": [
    "# my_xor2 = @(x1, x2)(round(s(ws(1)*x1 + ws(2)*x2 + ws(3))));\n",
    "# for i=1:4\n",
    "#     fprintf(\"my_xor2(%d,%d)=%d\\n\", X(i,1),X(i,2), my_xor2(X(i,1),X(i,2)))\n",
    "# end\n",
    "\n",
    "print(np.round(sigmoid(X@ws2)))\n",
    "accuracy2 = np.sum(np.round(sigmoid(X@ws2)))/4\n",
    "print(accuracy2)"
   ]
  },
  {
   "cell_type": "code",
   "execution_count": 34,
   "metadata": {},
   "outputs": [
    {
     "data": {
      "image/png": "[encoded data removed]",
      "text/plain": [
       "<Figure size 432x288 with 1 Axes>"
      ]
     },
     "metadata": {
      "needs_background": "light"
     },
     "output_type": "display_data"
    }
   ],
   "source": [
    "# f = @(x1, x2)(s(ws(1)*x1 + ws(2)*x2 + ws(3)));\n",
    "# [A,B] = meshgrid(0:0.1:1,0:0.1:1);\n",
    "# plot3d(f, A, B, true) \n",
    "\n",
    "interval = np.arange(0,1.1,.1)\n",
    "x1,x2 = np.meshgrid(interval,interval)\n",
    "plot3d(f,x1,x2,ws2)\n"
   ]
  },
  {
   "cell_type": "markdown",
   "metadata": {},
   "source": [
    "Not much changes as the co-domain of $m_1$ is just in the domain of the sigmoid activation function $s$ where it is almost linear."
   ]
  },
  {
   "cell_type": "markdown",
   "metadata": {},
   "source": [
    "## Model 3: one hidden layer with linear and one output layer with sigmoid activation"
   ]
  },
  {
   "cell_type": "markdown",
   "metadata": {},
   "source": [
    "The third model adds a hidden layer of 32 neurons with linear activation function. Each of these neurons uses the three parameters $w_1, w_2, b$. As before, all parameters are captured in the parameter array `ws`. The parameters for each neuron are at different positions in this array. Let's define the model $m_3$ with hidden and output layers and the corresponding loss function $MSE$."
   ]
  },
  {
   "cell_type": "code",
   "execution_count": 35,
   "metadata": {},
   "outputs": [],
   "source": [
    "def hidden_layer(ws,x,n):\n",
    "    y = np.zeros(n)\n",
    "    for i in range(n):\n",
    "        i1 = (i-1)*3+1\n",
    "        i2 = (i-1)*3+2\n",
    "        i3 = (i-1)*3+3\n",
    "        y[i] = ws[i1]*x[1]+ws[i2]*x[2]+ws[i3]\n",
    "    return y\n"
   ]
  },
  {
   "cell_type": "code",
   "execution_count": 36,
   "metadata": {
    "scrolled": true
   },
   "outputs": [
    {
     "ename": "SyntaxError",
     "evalue": "invalid syntax (<ipython-input-36-70735b79659a>, line 4)",
     "output_type": "error",
     "traceback": [
      "\u001b[0;36m  File \u001b[0;32m\"<ipython-input-36-70735b79659a>\"\u001b[0;36m, line \u001b[0;32m4\u001b[0m\n\u001b[0;31m    mo = @(ws,x)(dot(hidden_layer(ws,x,n),ws(n*3+1:n*3+n))+ws(n*3+n+1));\u001b[0m\n\u001b[0m         ^\u001b[0m\n\u001b[0;31mSyntaxError\u001b[0m\u001b[0;31m:\u001b[0m invalid syntax\n"
     ]
    }
   ],
   "source": [
    "n=32;\n",
    "# weights indices for the output layer n*3+1=97:n*3+n=128\n",
    "# bias index for for the output layer n*3+n+1=129\n",
    "mo = @(ws,x)(dot(hidden_layer(ws,x,n),ws(n*3+1:n*3+n))+ws(n*3+n+1));\n",
    "m3 = @(ws,x)(s(mo(ws,x)));\n",
    "mse3 = @(ws)(mse(ws,m3,X,Y));"
   ]
  },
  {
   "cell_type": "markdown",
   "metadata": {},
   "source": [
    "We initialize the weight vector:"
   ]
  },
  {
   "cell_type": "code",
   "execution_count": null,
   "metadata": {},
   "outputs": [],
   "source": [
    "ws0 = zeros(n*3+n+1,1);%129\n",
    "in = 2;\n",
    "out = 1;\n",
    "limit = sqrt(6 / (in + out));\n",
    "for i=1:n\n",
    "    i1 = (i-1)*3+1;\n",
    "    i2 = (i-1)*3+2;\n",
    "    i3 = (i-1)*3+3;\n",
    "    ws0(i1) = rand*2*limit-limit;\n",
    "    ws0(i2) = rand*2*limit-limit;\n",
    "    ws0(i3) = 0;\n",
    "end\n",
    "in = n;\n",
    "out = 1;\n",
    "limit = sqrt(6 / (in + out));\n",
    "for i=n*3+1:n*3+n\n",
    "    ws0(i) = rand*2*limit-limit;\n",
    "end\n",
    "ws0"
   ]
  },
  {
   "cell_type": "markdown",
   "metadata": {},
   "source": [
    "We are ready to compute the initial loss:"
   ]
  },
  {
   "cell_type": "code",
   "execution_count": null,
   "metadata": {
    "scrolled": true
   },
   "outputs": [],
   "source": [
    "mse3(ws0)"
   ]
  },
  {
   "cell_type": "markdown",
   "metadata": {},
   "source": [
    "Even for model the $m_3$ the gradient of $MSE({\\mathbf{ws}}_o,{\\mathbf{ws}}_h)$ for any weight ${\\mathbf{ws}}_o,{\\mathbf{ws}}_h$ of the output and hidden layers, resp., is almost identical as before. We just plug in $m_3$ instead of $m_2$ and $m_3'$ instead of $m_2'$:\n",
    "\n",
    "$$\n",
    "\\begin{aligned}\n",
    "\\nabla MSE({\\mathbf{ws}}_o,{\\mathbf{ws}}_h) &= -\\frac{1}{2} \\left [ \n",
    "\\sum_{i=1}^{4}(y_i- m_3({\\mathbf{ws}}_o,{\\mathbf{ws}}_h)\\frac{\\partial m_3({\\mathbf{ws}}_o,{\\mathbf{ws}}_h,x_i)}{\\partial {\\mathbf{ws}}_o,{\\mathbf{ws}}_h}\\right ]^T \\\\\n",
    "\\frac{\\partial m_3({\\mathbf{ws}}_o,{\\mathbf{ws}}_h,x_i)}{\\partial ({\\mathbf{ws}}_o,{\\mathbf{ws}}_h)} \n",
    "&=\\frac{\\partial s(m_o(\\vec{\\mathit{ws}}_o,\\vec{\\mathit{ws}}_h,x_i))}{\\partial ({\\mathbf{ws}}_o,{\\mathbf{ws}}_h)} \\\\\n",
    "&=s(m_o({\\mathbf{ws}}_o,{\\mathbf{ws}}_h,x_i))s(1-m_o({\\mathbf{ws}}_o,{\\mathbf{ws}}_h,x_i))\\frac{\\partial m_o({\\mathbf{ws}}_o,{\\mathbf{ws}}_h,x_i)}{\\partial ({\\mathbf{ws}}_o,{\\mathbf{ws}}_h)} \\\\\n",
    "\\frac{\\partial m_o({\\mathbf{ws}}_o,{\\mathbf{ws}}_h,x_i)}{\\partial ({\\mathbf{ws}}_o,{\\mathbf{ws}}_h)}\n",
    "&=\\frac{\\partial \\sum_{k=1}^{n} (m_1({\\mathbf{ws}}_{h,3(k-1)+1:2},{\\mathbf{ws}}_{h,3(k-1)+3},x_i){\\mathbf{ws}}_{o,k}) + {\\mathbf{ws}}_{o,n+1}}{\\partial ({\\mathbf{ws}}_o,{\\mathbf{ws}}_h)}\n",
    "\\end{aligned}\n",
    "$$"
   ]
  },
  {
   "cell_type": "markdown",
   "metadata": {},
   "source": [
    "The term ${\\mathbf{ws}}_{o,k}$  selects the $k$ weights of the output layer and the term ${\\mathbf{ws}}_{o, k+1}$ selects the bias $b$ from the vector ${\\mathbf{ws}_o}$. \n",
    "The term ${\\mathbf{ws}}_{h,3(k-1)+1:2}$ selects the two weights $\\mathbf w_{k,1}$ and $\\mathbf w_{k,2}$ of the $k$-th neuron in the hidden layer, and the term ${\\mathbf{ws}}_{h,3(k-1)+3}$ selects the $k$-th bias $\\mathbf b_k$ from the vector ${\\mathbf{ws}_h}$. \n",
    "\n",
    "The gradients wrt. the parameters of the hidden layer are\n",
    "\n",
    "$$\n",
    "\\begin{aligned}\n",
    "\\frac{\\partial m_o(\\mathbf{ws}_o,\\mathbf{ws}_h,x_i)}{\\partial {\\mathbf{ws}}_{h,3(k-1)+j}}\n",
    "&=\n",
    "\\begin{cases}\n",
    "  \\frac{\\partial m_1(\\mathbf{w}_k,b_k,x_i)}{\\partial \\mathbf{w}_{k,j}}\\mathbf{ws}_{o,k}, & \\text{if}\\ j=1,2 \\\\\n",
    "  \\frac{\\partial m_1(\\mathbf{w}_k,b_k,x_i)}{\\partial b_k}\\mathbf{ws}_{o,k}, & \\text{if}\\ j=3 \n",
    "\\end{cases}\n",
    "\\end{aligned}\n",
    "$$\n",
    "\n",
    "Since the cell function of the hidden layer is $m_1$, we can plug in the first derivative of $m_1$ wrt. $w_1, w_2,$ and $b$, resp., as computed before.\n",
    "\n",
    "$$\n",
    "\\begin{aligned}\n",
    "\\frac{\\partial m_1(\\mathbf w,b,x_i)}{\\partial w_j} &=\\frac{\\partial(\\sum_{j=1}^{2} w_jx_{ij})+b}{\\partial w_j} = x_{ij}\\\\\n",
    "\\frac{\\partial m_1(\\mathbf w,b,x_i)}{\\partial b} &=\\frac{\\partial(\\sum_{j=1}^{2} w_jx_{ij})+b}{\\partial b} = 1\\\\\n",
    "\\end{aligned}\n",
    "$$\n",
    "\n",
    "The gradients wrt. the weights and the bias, resp., of the output layer are\n",
    "\n",
    "$$\n",
    "\\begin{aligned}\n",
    "\\frac{\\partial m_o({\\mathbf{ws}}_o,{\\mathbf{ws}}_h,x_i)}{\\partial {\\mathbf{ws}}_{o,k}}\n",
    "&= m_1(\\vec{w_k},b_k,x_i)\\\\\n",
    "\\frac{\\partial m_o({\\mathbf{ws}}_o,{\\mathbf{ws}}_h,x_i)}{\\partial {\\mathbf{ws}}_{o,n+1}}\n",
    "&= 1\n",
    "\\end{aligned}\n",
    "$$"
   ]
  },
  {
   "cell_type": "code",
   "execution_count": null,
   "metadata": {},
   "outputs": [],
   "source": [
    "%parameters (weights and bias) hidden layer\n",
    "for k=1:n\n",
    "    i1 = 3*(k-1)+1;\n",
    "    i2 = 3*(k-1)+2;\n",
    "    i3 = 3*(k-1)+3;\n",
    "    gradients3{i1} = @(ws,x)(s(mo(ws,x))*s(1-mo(ws,x))*x(1)*ws(3*n+k)); %gradients1{1}=x(1)\n",
    "    gradients3{i2} = @(ws,x)(s(mo(ws,x))*s(1-mo(ws,x))*x(2)*ws(3*n+k)); %gradients1{2}=x(2)\n",
    "    gradients3{i3} = @(ws,x)(s(mo(ws,x))*s(1-mo(ws,x))*ws(3*n+k)); %gradients1{3}=1\n",
    "    model1{k} = @(ws,x)(ws(i1)*x(1)+ws(i2)*x(2)+ws(i3));\n",
    "end\n",
    "%weights output layer\n",
    "k=1;\n",
    "for i=3*n+1:3*n+n\n",
    "    gradients3{i} = @(ws,x)(s(mo(ws,x))*s(1-mo(ws,x))*model1{k}(ws,x)); \n",
    "    k=k+1;\n",
    "end\n",
    "%bias output layer\n",
    "gradients3{3*n+n +1} = @(ws,x)(s(mo(ws,x))*s(1-mo(ws,x))); "
   ]
  },
  {
   "cell_type": "code",
   "execution_count": null,
   "metadata": {},
   "outputs": [],
   "source": [
    "grad_loss = @(ws)(grad_mse(ws, m3, gradients3, X, Y));\n",
    "K = 50;\n",
    "learning_eps = 0.5;\n",
    "[ws, history] = grad_desc_mse(K, ws0, learning_eps, mse3, grad_loss, false);\n",
    "plot(1:length(history),history)"
   ]
  },
  {
   "cell_type": "code",
   "execution_count": null,
   "metadata": {},
   "outputs": [],
   "source": [
    "my_xor3 = @(x1, x2)(round(m3(ws,[x1,x2])));\n",
    "for i=1:4\n",
    "    fprintf(\"my_xor3(%d,%d)=%d\\n\", X(i,1),X(i,2), my_xor3(X(i,1),X(i,2)))\n",
    "end\n",
    "a=accuracy(X,Y,my_xor3)\n",
    "f = @(x1, x2)(m3(ws,[x1,x2]));\n",
    "[A,B] = meshgrid(0:0.1:1,0:0.1:1);\n",
    "plot3d(f, A, B, true) "
   ]
  },
  {
   "cell_type": "markdown",
   "metadata": {},
   "source": [
    "## Model 4: one hidden layer with relu and one output layer with sigmoid activation "
   ]
  },
  {
   "cell_type": "markdown",
   "metadata": {},
   "source": [
    "The final model uses the Rectified Linear Unit (ReLU) activation function $r(x)=\\max(0,x)$ in the hidden layer. Hence, the hidden layer neurons compute $\\max(0, w_1x_1+w_2x_2+b)=\\max(0,m_1(\\vec w,b,x))$. We can easily change the hidden layer function accordingly."
   ]
  },
  {
   "cell_type": "code",
   "execution_count": null,
   "metadata": {},
   "outputs": [],
   "source": [
    "hidden_layer_4 = @(ws,x,n)(max(0,hidden_layer(ws,x,n)));\n",
    "mo4 = @(ws,x)(dot(hidden_layer_4(ws,x,n),ws(n*3+1:n*3+n))+ws(n*3+n+1));\n",
    "m4 = @(ws,x)(s(mo4(ws,x)));\n",
    "mse4 = @(ws)(mse(ws,m4,X,Y));"
   ]
  },
  {
   "cell_type": "markdown",
   "metadata": {},
   "source": [
    "The network structure does not change, hence, the initialization remains the same as well. We can directly compute the initial loss:"
   ]
  },
  {
   "cell_type": "code",
   "execution_count": null,
   "metadata": {},
   "outputs": [],
   "source": [
    "mse4(ws0)"
   ]
  },
  {
   "cell_type": "markdown",
   "metadata": {},
   "source": [
    "No surprise it is the same as for model $m_3$ as all weights and all input is positive."
   ]
  },
  {
   "cell_type": "markdown",
   "metadata": {},
   "source": [
    "As for the model $m_4$ itself, we need to subsitute $m_1(\\mathbf w,b,x)$ with $r(\\mathbf w,b,x)=\\max(0,m_1(\\mathbf w,b,x))$ and $m_1'(\\mathbf w,b,x)$ with $r'(m_1(\\mathbf w,b,x))m_1'(\\mathbf w,b,x)$.\n",
    "\n",
    "$$r'(z) = \\begin{cases}\n",
    "  0, & \\text{if}\\ z<0 \\\\\n",
    "  1, & \\text{if}\\ z>0 \n",
    "\\end{cases}\n",
    "$$\n",
    "\n",
    "Note that $r'(z)$ is undefined in $z=0$, since its left and right derivative are not equal for $z=0$. In practice , we pick $r'(0)=0$ as Tensorflow does. Consequently: \n",
    "\n",
    "$$r'(m_1(\\mathbf w,b,x))m_1'(\\mathbf w,b,x) = \\begin{cases}\n",
    "  0, & \\text{if}\\ m_1(\\mathbf w,b,x)\\leq 0 \\\\\n",
    "  m_1'(\\mathbf w,b,x), & \\text{if}\\ m_1(\\mathbf w,b,x)>0 \n",
    "\\end{cases}\n",
    "$$\n"
   ]
  },
  {
   "cell_type": "code",
   "execution_count": null,
   "metadata": {},
   "outputs": [],
   "source": [
    "%%file ite.m\n",
    "function res = ite(cond, tc, fc)\n",
    "    if (cond)\n",
    "        res = tc;\n",
    "    else\n",
    "        res = fc;\n",
    "    end\n",
    "end"
   ]
  },
  {
   "cell_type": "code",
   "execution_count": null,
   "metadata": {},
   "outputs": [],
   "source": [
    "%parameters (wights and bias) hidden layer\n",
    "for k=1:n\n",
    "    i1 = 3*(k-1)+1;\n",
    "    i2 = 3*(k-1)+2;\n",
    "    i3 = 3*(k-1)+3;\n",
    "    model1{k} = @(ws,x)(max(0,ws(i1)*x(1)+ws(i2)*x(2)+ws(i3)));\n",
    "    gradients4{i1} = @(ws,x)(s(mo4(ws,x))*s(1-mo4(ws,x))*ite(model1{k}(ws,x)<=0,0,x(1))*ws(3*n+k)); \n",
    "    gradients4{i2} = @(ws,x)(s(mo4(ws,x))*s(1-mo4(ws,x))*ite(model1{k}(ws,x)<=0,0,x(2))*ws(3*n+k)); \n",
    "    gradients4{i3} = @(ws,x)(s(mo4(ws,x))*s(1-mo4(ws,x))*ite(model1{k}(ws,x)<=0,0,1)*ws(3*n+k));\n",
    "end\n",
    "%weights output layer\n",
    "k=1;\n",
    "for i=3*n+1:3*n+n\n",
    "    gradients4{i} = @(ws,x)(s(mo4(ws,x))*s(1-mo4(ws,x))*max(0,model1{k}(ws,x))); \n",
    "    k=k+1;\n",
    "end\n",
    "%bias output layer\n",
    "gradients4{3*n+n +1} = @(ws,x)(s(mo4(ws,x))*s(1-mo4(ws,x))); "
   ]
  },
  {
   "cell_type": "code",
   "execution_count": null,
   "metadata": {},
   "outputs": [],
   "source": [
    "grad_loss = @(ws)(grad_mse(ws, m4, gradients4, X, Y));\n",
    "K =500;\n",
    "learning_eps = 1.5;\n",
    "[ws, history] = grad_desc_mse(K, ws0, learning_eps, mse4, grad_loss, false);\n",
    "plot(1:length(history),history)"
   ]
  },
  {
   "cell_type": "code",
   "execution_count": null,
   "metadata": {
    "scrolled": true
   },
   "outputs": [],
   "source": [
    "my_xor4 = @(x1, x2)(round(m4(ws,[x1,x2])));\n",
    "for i=1:4\n",
    "    fprintf(\"my_xor4(%d,%d)=%d\\n\", X(i,1),X(i,2), my_xor4(X(i,1),X(i,2)))\n",
    "end\n",
    "a=accuracy(X,Y,my_xor4)\n",
    "f = @(x1, x2)(m4(ws,[x1,x2]));\n",
    "[A,B] = meshgrid(0:0.1:1,0:0.1:1);\n",
    "plot3d(f, A, B, true) "
   ]
  },
  {
   "cell_type": "markdown",
   "metadata": {},
   "source": [
    "## Comparison with Model 4 learned with Tensorflow"
   ]
  },
  {
   "cell_type": "markdown",
   "metadata": {},
   "source": [
    "Weights of the hidden layer (manually copied):"
   ]
  },
  {
   "cell_type": "code",
   "execution_count": null,
   "metadata": {},
   "outputs": [],
   "source": [
    "w11 = reshape([ 0.41652033,  0.7749157 ,  0.83778775,  0.64122725,  0.3972386 ,\n",
    "         -0.13516521, -0.60432655, -0.20290181, -0.7232665 , -0.35317   ,\n",
    "         -0.8889785 , -0.2863993 ,  0.54030126,  0.37175888, -0.82367843,\n",
    "         -0.33497408, -0.8567182 ,  0.5161414 , -0.25462216,  0.59564906,\n",
    "          0.80922335,  0.00252599,  0.3720131 , -0.1701207 ,  0.34805146,\n",
    "         -0.38333094, -0.17244412,  0.7132528 , -0.14648864, -0.17876345].', 1,[]).';\n",
    "w11 = [w11; [-0.6636416 ; -0.39717668]];\n",
    "w12 = reshape([0.41662493, -0.7749062 , -0.8376726 , -0.64101034,  0.40976927,\n",
    "         -0.09223783,  0.60428804, -0.09886253,  0.7417394 , -0.08979583,\n",
    "          1.1194593 ,  0.13293397,  0.5400226 ,  0.37171456,  0.8246372 ,\n",
    "         -0.43565178,  0.85677105,  0.51622313, -0.41895077, -0.5953253 ,\n",
    "         -0.8091849 , -0.3766787 ,  0.28819063, -0.38122708,  0.34833792,\n",
    "          0.15245543, -0.25060123, -0.7132655 , -0.30406952, -0.3443008].', 1,[]).';\n",
    "w12 = [w12; [0.66343206; -0.03848529]];\n",
    "b1 = reshape([-4.16518986e-01, -4.11640503e-05, -1.45169579e-05, -3.96516771e-06,\n",
    "        -1.09622735e-04,  0.00000000e+00,  2.90098578e-05,  0.00000000e+00,\n",
    "        -1.63983065e-03,  0.00000000e+00, -6.36966957e-04, -1.47912502e-01,\n",
    "        -5.39916575e-01, -3.71752203e-01, -5.50682598e-04,  1.15736163e+00,\n",
    "        -6.27825721e-05, -5.16140461e-01,  0.00000000e+00, -1.62737619e-04,\n",
    "        -8.02413124e-05, -2.25486048e-02,  1.79730232e-05,  0.00000000e+00,\n",
    "        -3.48306417e-01, -1.66664287e-01,  0.00000000e+00, -3.03934885e-05,\n",
    "         0.00000000e+00,  0.00000000e+00,  6.44910688e-05,  0.00000000e+00].', 1,[]).';\n",
    "ws1=[w11,w12,b1];\n",
    "ws1=reshape(ws1.',1,[]).';"
   ]
  },
  {
   "cell_type": "markdown",
   "metadata": {},
   "source": [
    "Weights of the output layer manually copied:"
   ]
  },
  {
   "cell_type": "code",
   "execution_count": null,
   "metadata": {},
   "outputs": [],
   "source": [
    "ws2 = [-0.8178053 ,\n",
    "1.0259871 ,\n",
    "0.7672013 ,\n",
    "0.9983522 ,\n",
    "0.3300904 ,\n",
    "0.1318875 ,\n",
    "0.9221373 ,\n",
    "0.20387506,\n",
    "1.0057546 ,\n",
    "0.2067241 ,\n",
    "0.7479725 ,\n",
    "-0.25578788,\n",
    "-0.83140665,\n",
    "-0.952559  ,\n",
    "0.946334  ,\n",
    "-1.0112743 ,\n",
    "0.5946371 ,\n",
    "-1.0230583 ,\n",
    "-0.04098088,\n",
    "0.9588608 ,\n",
    "0.7448052 ,\n",
    "-0.10435582,\n",
    "0.25728533,\n",
    "0.30141222,\n",
    "-0.8235109 ,\n",
    "-0.21171094,\n",
    "-0.28320622,\n",
    "1.0405817 ,\n",
    "0.40911728,\n",
    "0.37331975,\n",
    "0.87603277,\n",
    "0.19098908,\n",
    "-0.8885394];\n",
    "ws = [ws1;ws2];"
   ]
  },
  {
   "cell_type": "markdown",
   "metadata": {},
   "source": [
    "Replace the learned weights of model $m_4$ with the copied weights and assess the function:"
   ]
  },
  {
   "cell_type": "code",
   "execution_count": null,
   "metadata": {},
   "outputs": [],
   "source": [
    "my_xor5 = @(x1, x2)(round(m4(ws,[x1,x2])));\n",
    "for i=1:4\n",
    "    fprintf(\"my_xor5(%d,%d)=%d\\n\", X(i,1),X(i,2), my_xor5(X(i,1),X(i,2)))\n",
    "end\n",
    "a=accuracy(X,Y,my_xor5)\n",
    "f = @(x1, x2)(m4(ws,[x1,x2]));\n",
    "[A,B] = meshgrid(0:0.1:1,0:0.1:1);\n",
    "plot3d(f, A, B, true) "
   ]
  }
 ],
 "metadata": {
  "kernelspec": {
   "display_name": "Python 3",
   "language": "python",
   "name": "python3"
  },
  "language_info": {
   "codemirror_mode": {
    "name": "ipython",
    "version": 3
   },
   "file_extension": ".py",
   "mimetype": "text/x-python",
   "name": "python",
   "nbconvert_exporter": "python",
   "pygments_lexer": "ipython3",
   "version": "3.7.10"
  }
 },
 "nbformat": 4,
 "nbformat_minor": 2
}
